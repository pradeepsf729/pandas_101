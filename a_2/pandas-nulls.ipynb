{
 "cells": [
  {
   "cell_type": "code",
   "execution_count": 1,
   "id": "befa9c8c",
   "metadata": {},
   "outputs": [],
   "source": [
    "import pandas as pd\n",
    "import numpy as np"
   ]
  },
  {
   "cell_type": "code",
   "execution_count": 2,
   "id": "558c3487",
   "metadata": {},
   "outputs": [],
   "source": [
    "data = {\n",
    "    'Product_ID': [1, 2, 3, 4, 5, np.nan],\n",
    "    'Product_Name': ['Laptop', 'Phone', 'TV', 'Headphones', None, 'Microwave'],\n",
    "    'Stock': [20, 15, np.nan, 30, 25, 12],\n",
    "    'Price': [999.99, 799.99, 399.99, np.nan, 59.99, 99.99],\n",
    "    'Discounted': [True, False, True, False, np.nan, True],\n",
    "}\n",
    "\n",
    "target_df = pd.DataFrame(data)"
   ]
  },
  {
   "cell_type": "code",
   "execution_count": 3,
   "id": "d3044539",
   "metadata": {},
   "outputs": [
    {
     "data": {
      "text/html": [
       "<div>\n",
       "<style scoped>\n",
       "    .dataframe tbody tr th:only-of-type {\n",
       "        vertical-align: middle;\n",
       "    }\n",
       "\n",
       "    .dataframe tbody tr th {\n",
       "        vertical-align: top;\n",
       "    }\n",
       "\n",
       "    .dataframe thead th {\n",
       "        text-align: right;\n",
       "    }\n",
       "</style>\n",
       "<table border=\"1\" class=\"dataframe\">\n",
       "  <thead>\n",
       "    <tr style=\"text-align: right;\">\n",
       "      <th></th>\n",
       "      <th>Product_ID</th>\n",
       "      <th>Product_Name</th>\n",
       "      <th>Stock</th>\n",
       "      <th>Price</th>\n",
       "      <th>Discounted</th>\n",
       "    </tr>\n",
       "  </thead>\n",
       "  <tbody>\n",
       "    <tr>\n",
       "      <th>0</th>\n",
       "      <td>1.0</td>\n",
       "      <td>Laptop</td>\n",
       "      <td>20.0</td>\n",
       "      <td>999.99</td>\n",
       "      <td>True</td>\n",
       "    </tr>\n",
       "    <tr>\n",
       "      <th>1</th>\n",
       "      <td>2.0</td>\n",
       "      <td>Phone</td>\n",
       "      <td>15.0</td>\n",
       "      <td>799.99</td>\n",
       "      <td>False</td>\n",
       "    </tr>\n",
       "    <tr>\n",
       "      <th>2</th>\n",
       "      <td>3.0</td>\n",
       "      <td>TV</td>\n",
       "      <td>NaN</td>\n",
       "      <td>399.99</td>\n",
       "      <td>True</td>\n",
       "    </tr>\n",
       "    <tr>\n",
       "      <th>3</th>\n",
       "      <td>4.0</td>\n",
       "      <td>Headphones</td>\n",
       "      <td>30.0</td>\n",
       "      <td>NaN</td>\n",
       "      <td>False</td>\n",
       "    </tr>\n",
       "    <tr>\n",
       "      <th>4</th>\n",
       "      <td>5.0</td>\n",
       "      <td>None</td>\n",
       "      <td>25.0</td>\n",
       "      <td>59.99</td>\n",
       "      <td>NaN</td>\n",
       "    </tr>\n",
       "    <tr>\n",
       "      <th>5</th>\n",
       "      <td>NaN</td>\n",
       "      <td>Microwave</td>\n",
       "      <td>12.0</td>\n",
       "      <td>99.99</td>\n",
       "      <td>True</td>\n",
       "    </tr>\n",
       "  </tbody>\n",
       "</table>\n",
       "</div>"
      ],
      "text/plain": [
       "   Product_ID Product_Name  Stock   Price Discounted\n",
       "0         1.0       Laptop   20.0  999.99       True\n",
       "1         2.0        Phone   15.0  799.99      False\n",
       "2         3.0           TV    NaN  399.99       True\n",
       "3         4.0   Headphones   30.0     NaN      False\n",
       "4         5.0         None   25.0   59.99        NaN\n",
       "5         NaN    Microwave   12.0   99.99       True"
      ]
     },
     "execution_count": 3,
     "metadata": {},
     "output_type": "execute_result"
    }
   ],
   "source": [
    "target_df"
   ]
  },
  {
   "cell_type": "markdown",
   "id": "25ca0790",
   "metadata": {},
   "source": [
    "### Identify Null Values"
   ]
  },
  {
   "cell_type": "markdown",
   "id": "2c80e22e",
   "metadata": {},
   "source": [
    "#### How would you identify rows where the 'Stock' column has null values in the provided target_df DataFrame?"
   ]
  },
  {
   "cell_type": "code",
   "execution_count": 10,
   "id": "2d8deb20",
   "metadata": {},
   "outputs": [
    {
     "data": {
      "text/plain": [
       "True"
      ]
     },
     "execution_count": 10,
     "metadata": {},
     "output_type": "execute_result"
    }
   ],
   "source": [
    "target_df['Stock'].isna().any()"
   ]
  },
  {
   "cell_type": "markdown",
   "id": "b9d6d883",
   "metadata": {},
   "source": [
    "#### Can you list the columns in target_df that contain at least one null value?"
   ]
  },
  {
   "cell_type": "code",
   "execution_count": 15,
   "id": "92386b5d",
   "metadata": {},
   "outputs": [
    {
     "data": {
      "text/plain": [
       "Product_ID      True\n",
       "Product_Name    True\n",
       "Stock           True\n",
       "Price           True\n",
       "Discounted      True\n",
       "dtype: bool"
      ]
     },
     "execution_count": 15,
     "metadata": {},
     "output_type": "execute_result"
    }
   ],
   "source": [
    "target_df.notna().any()"
   ]
  },
  {
   "cell_type": "markdown",
   "id": "eff12b65",
   "metadata": {},
   "source": [
    "#### How would you use pd.isna() to identify null values in the entire target_df DataFrame?"
   ]
  },
  {
   "cell_type": "code",
   "execution_count": 19,
   "id": "e8deef23",
   "metadata": {},
   "outputs": [
    {
     "data": {
      "text/html": [
       "<div>\n",
       "<style scoped>\n",
       "    .dataframe tbody tr th:only-of-type {\n",
       "        vertical-align: middle;\n",
       "    }\n",
       "\n",
       "    .dataframe tbody tr th {\n",
       "        vertical-align: top;\n",
       "    }\n",
       "\n",
       "    .dataframe thead th {\n",
       "        text-align: right;\n",
       "    }\n",
       "</style>\n",
       "<table border=\"1\" class=\"dataframe\">\n",
       "  <thead>\n",
       "    <tr style=\"text-align: right;\">\n",
       "      <th></th>\n",
       "      <th>Product_ID</th>\n",
       "      <th>Product_Name</th>\n",
       "      <th>Stock</th>\n",
       "      <th>Price</th>\n",
       "      <th>Discounted</th>\n",
       "    </tr>\n",
       "  </thead>\n",
       "  <tbody>\n",
       "    <tr>\n",
       "      <th>0</th>\n",
       "      <td>False</td>\n",
       "      <td>False</td>\n",
       "      <td>False</td>\n",
       "      <td>False</td>\n",
       "      <td>False</td>\n",
       "    </tr>\n",
       "    <tr>\n",
       "      <th>1</th>\n",
       "      <td>False</td>\n",
       "      <td>False</td>\n",
       "      <td>False</td>\n",
       "      <td>False</td>\n",
       "      <td>False</td>\n",
       "    </tr>\n",
       "    <tr>\n",
       "      <th>2</th>\n",
       "      <td>False</td>\n",
       "      <td>False</td>\n",
       "      <td>True</td>\n",
       "      <td>False</td>\n",
       "      <td>False</td>\n",
       "    </tr>\n",
       "    <tr>\n",
       "      <th>3</th>\n",
       "      <td>False</td>\n",
       "      <td>False</td>\n",
       "      <td>False</td>\n",
       "      <td>True</td>\n",
       "      <td>False</td>\n",
       "    </tr>\n",
       "    <tr>\n",
       "      <th>4</th>\n",
       "      <td>False</td>\n",
       "      <td>True</td>\n",
       "      <td>False</td>\n",
       "      <td>False</td>\n",
       "      <td>True</td>\n",
       "    </tr>\n",
       "    <tr>\n",
       "      <th>5</th>\n",
       "      <td>True</td>\n",
       "      <td>False</td>\n",
       "      <td>False</td>\n",
       "      <td>False</td>\n",
       "      <td>False</td>\n",
       "    </tr>\n",
       "  </tbody>\n",
       "</table>\n",
       "</div>"
      ],
      "text/plain": [
       "   Product_ID  Product_Name  Stock  Price  Discounted\n",
       "0       False         False  False  False       False\n",
       "1       False         False  False  False       False\n",
       "2       False         False   True  False       False\n",
       "3       False         False  False   True       False\n",
       "4       False          True  False  False        True\n",
       "5        True         False  False  False       False"
      ]
     },
     "execution_count": 19,
     "metadata": {},
     "output_type": "execute_result"
    }
   ],
   "source": [
    "pd.isna(target_df)"
   ]
  },
  {
   "cell_type": "markdown",
   "id": "f22c4773",
   "metadata": {},
   "source": [
    "#### If you wanted to identify rows where both 'Stock' and 'Price' have null values, how would you do it?"
   ]
  },
  {
   "cell_type": "code",
   "execution_count": 24,
   "id": "5bf8828a",
   "metadata": {},
   "outputs": [
    {
     "data": {
      "text/html": [
       "<div>\n",
       "<style scoped>\n",
       "    .dataframe tbody tr th:only-of-type {\n",
       "        vertical-align: middle;\n",
       "    }\n",
       "\n",
       "    .dataframe tbody tr th {\n",
       "        vertical-align: top;\n",
       "    }\n",
       "\n",
       "    .dataframe thead th {\n",
       "        text-align: right;\n",
       "    }\n",
       "</style>\n",
       "<table border=\"1\" class=\"dataframe\">\n",
       "  <thead>\n",
       "    <tr style=\"text-align: right;\">\n",
       "      <th></th>\n",
       "      <th>Product_ID</th>\n",
       "      <th>Product_Name</th>\n",
       "      <th>Stock</th>\n",
       "      <th>Price</th>\n",
       "      <th>Discounted</th>\n",
       "    </tr>\n",
       "  </thead>\n",
       "  <tbody>\n",
       "  </tbody>\n",
       "</table>\n",
       "</div>"
      ],
      "text/plain": [
       "Empty DataFrame\n",
       "Columns: [Product_ID, Product_Name, Stock, Price, Discounted]\n",
       "Index: []"
      ]
     },
     "execution_count": 24,
     "metadata": {},
     "output_type": "execute_result"
    }
   ],
   "source": [
    "target_df.loc[(target_df.loc[:, \"Stock\"].isna() == True) & (target_df.loc[:, \"Price\"].isna() == True)]"
   ]
  },
  {
   "cell_type": "code",
   "execution_count": 26,
   "id": "d0f738ab",
   "metadata": {},
   "outputs": [],
   "source": [
    "target_df.iloc[2, 3] = np.nan"
   ]
  },
  {
   "cell_type": "code",
   "execution_count": 27,
   "id": "eeb690b9",
   "metadata": {},
   "outputs": [
    {
     "data": {
      "text/html": [
       "<div>\n",
       "<style scoped>\n",
       "    .dataframe tbody tr th:only-of-type {\n",
       "        vertical-align: middle;\n",
       "    }\n",
       "\n",
       "    .dataframe tbody tr th {\n",
       "        vertical-align: top;\n",
       "    }\n",
       "\n",
       "    .dataframe thead th {\n",
       "        text-align: right;\n",
       "    }\n",
       "</style>\n",
       "<table border=\"1\" class=\"dataframe\">\n",
       "  <thead>\n",
       "    <tr style=\"text-align: right;\">\n",
       "      <th></th>\n",
       "      <th>Product_ID</th>\n",
       "      <th>Product_Name</th>\n",
       "      <th>Stock</th>\n",
       "      <th>Price</th>\n",
       "      <th>Discounted</th>\n",
       "    </tr>\n",
       "  </thead>\n",
       "  <tbody>\n",
       "    <tr>\n",
       "      <th>2</th>\n",
       "      <td>3.0</td>\n",
       "      <td>TV</td>\n",
       "      <td>NaN</td>\n",
       "      <td>NaN</td>\n",
       "      <td>True</td>\n",
       "    </tr>\n",
       "  </tbody>\n",
       "</table>\n",
       "</div>"
      ],
      "text/plain": [
       "   Product_ID Product_Name  Stock  Price Discounted\n",
       "2         3.0           TV    NaN    NaN       True"
      ]
     },
     "execution_count": 27,
     "metadata": {},
     "output_type": "execute_result"
    }
   ],
   "source": [
    "target_df.loc[(target_df.loc[:, \"Stock\"].isna() == True) & (target_df.loc[:, \"Price\"].isna() == True)]"
   ]
  },
  {
   "cell_type": "code",
   "execution_count": 28,
   "id": "512316ba",
   "metadata": {},
   "outputs": [
    {
     "data": {
      "text/plain": [
       "0    False\n",
       "1    False\n",
       "2     True\n",
       "3    False\n",
       "4    False\n",
       "5    False\n",
       "dtype: bool"
      ]
     },
     "execution_count": 28,
     "metadata": {},
     "output_type": "execute_result"
    }
   ],
   "source": [
    "(target_df.loc[:, \"Stock\"].isna() == True) & (target_df.loc[:, \"Price\"].isna() == True)"
   ]
  },
  {
   "cell_type": "code",
   "execution_count": 29,
   "id": "214b2888",
   "metadata": {},
   "outputs": [
    {
     "data": {
      "text/plain": [
       "0    False\n",
       "1    False\n",
       "2     True\n",
       "3    False\n",
       "4    False\n",
       "5    False\n",
       "Name: Stock, dtype: bool"
      ]
     },
     "execution_count": 29,
     "metadata": {},
     "output_type": "execute_result"
    }
   ],
   "source": [
    "target_df.loc[:, \"Stock\"].isna() == True"
   ]
  },
  {
   "cell_type": "code",
   "execution_count": 30,
   "id": "c0e3d020",
   "metadata": {},
   "outputs": [
    {
     "data": {
      "text/plain": [
       "0    False\n",
       "1    False\n",
       "2     True\n",
       "3     True\n",
       "4    False\n",
       "5    False\n",
       "Name: Price, dtype: bool"
      ]
     },
     "execution_count": 30,
     "metadata": {},
     "output_type": "execute_result"
    }
   ],
   "source": [
    "target_df.loc[:, \"Price\"].isna() == True"
   ]
  },
  {
   "cell_type": "markdown",
   "id": "9d0d5712",
   "metadata": {},
   "source": [
    "### Filtering"
   ]
  },
  {
   "cell_type": "markdown",
   "id": "dfde02b6",
   "metadata": {},
   "source": [
    "#### How would you filter out rows where the 'Stock' column has null values in the target_df DataFrame?"
   ]
  },
  {
   "cell_type": "code",
   "execution_count": 36,
   "id": "c3a50d89",
   "metadata": {},
   "outputs": [
    {
     "data": {
      "text/plain": [
       "0    False\n",
       "1    False\n",
       "2     True\n",
       "3    False\n",
       "4    False\n",
       "5    False\n",
       "Name: Stock, dtype: bool"
      ]
     },
     "execution_count": 36,
     "metadata": {},
     "output_type": "execute_result"
    }
   ],
   "source": [
    "target_df['Stock'].isna()"
   ]
  },
  {
   "cell_type": "code",
   "execution_count": 38,
   "id": "d2ebb83b",
   "metadata": {},
   "outputs": [
    {
     "data": {
      "text/html": [
       "<div>\n",
       "<style scoped>\n",
       "    .dataframe tbody tr th:only-of-type {\n",
       "        vertical-align: middle;\n",
       "    }\n",
       "\n",
       "    .dataframe tbody tr th {\n",
       "        vertical-align: top;\n",
       "    }\n",
       "\n",
       "    .dataframe thead th {\n",
       "        text-align: right;\n",
       "    }\n",
       "</style>\n",
       "<table border=\"1\" class=\"dataframe\">\n",
       "  <thead>\n",
       "    <tr style=\"text-align: right;\">\n",
       "      <th></th>\n",
       "      <th>Product_ID</th>\n",
       "      <th>Product_Name</th>\n",
       "      <th>Stock</th>\n",
       "      <th>Price</th>\n",
       "      <th>Discounted</th>\n",
       "    </tr>\n",
       "  </thead>\n",
       "  <tbody>\n",
       "    <tr>\n",
       "      <th>2</th>\n",
       "      <td>3.0</td>\n",
       "      <td>TV</td>\n",
       "      <td>NaN</td>\n",
       "      <td>NaN</td>\n",
       "      <td>True</td>\n",
       "    </tr>\n",
       "  </tbody>\n",
       "</table>\n",
       "</div>"
      ],
      "text/plain": [
       "   Product_ID Product_Name  Stock  Price Discounted\n",
       "2         3.0           TV    NaN    NaN       True"
      ]
     },
     "execution_count": 38,
     "metadata": {},
     "output_type": "execute_result"
    }
   ],
   "source": [
    "target_df.loc[target_df['Stock'].isna()]"
   ]
  },
  {
   "cell_type": "markdown",
   "id": "b9629d37",
   "metadata": {},
   "source": [
    "#### What method would you use to remove any row that has at least one null value in target_df?"
   ]
  },
  {
   "cell_type": "code",
   "execution_count": 39,
   "id": "e8963260",
   "metadata": {},
   "outputs": [],
   "source": [
    "df_temp = target_df.copy()"
   ]
  },
  {
   "cell_type": "code",
   "execution_count": 40,
   "id": "222ccbe6",
   "metadata": {},
   "outputs": [
    {
     "data": {
      "text/html": [
       "<div>\n",
       "<style scoped>\n",
       "    .dataframe tbody tr th:only-of-type {\n",
       "        vertical-align: middle;\n",
       "    }\n",
       "\n",
       "    .dataframe tbody tr th {\n",
       "        vertical-align: top;\n",
       "    }\n",
       "\n",
       "    .dataframe thead th {\n",
       "        text-align: right;\n",
       "    }\n",
       "</style>\n",
       "<table border=\"1\" class=\"dataframe\">\n",
       "  <thead>\n",
       "    <tr style=\"text-align: right;\">\n",
       "      <th></th>\n",
       "      <th>Product_ID</th>\n",
       "      <th>Product_Name</th>\n",
       "      <th>Stock</th>\n",
       "      <th>Price</th>\n",
       "      <th>Discounted</th>\n",
       "    </tr>\n",
       "  </thead>\n",
       "  <tbody>\n",
       "    <tr>\n",
       "      <th>0</th>\n",
       "      <td>1.0</td>\n",
       "      <td>Laptop</td>\n",
       "      <td>20.0</td>\n",
       "      <td>999.99</td>\n",
       "      <td>True</td>\n",
       "    </tr>\n",
       "    <tr>\n",
       "      <th>1</th>\n",
       "      <td>2.0</td>\n",
       "      <td>Phone</td>\n",
       "      <td>15.0</td>\n",
       "      <td>799.99</td>\n",
       "      <td>False</td>\n",
       "    </tr>\n",
       "    <tr>\n",
       "      <th>2</th>\n",
       "      <td>3.0</td>\n",
       "      <td>TV</td>\n",
       "      <td>NaN</td>\n",
       "      <td>NaN</td>\n",
       "      <td>True</td>\n",
       "    </tr>\n",
       "    <tr>\n",
       "      <th>3</th>\n",
       "      <td>4.0</td>\n",
       "      <td>Headphones</td>\n",
       "      <td>30.0</td>\n",
       "      <td>NaN</td>\n",
       "      <td>False</td>\n",
       "    </tr>\n",
       "    <tr>\n",
       "      <th>4</th>\n",
       "      <td>5.0</td>\n",
       "      <td>None</td>\n",
       "      <td>25.0</td>\n",
       "      <td>59.99</td>\n",
       "      <td>NaN</td>\n",
       "    </tr>\n",
       "    <tr>\n",
       "      <th>5</th>\n",
       "      <td>NaN</td>\n",
       "      <td>Microwave</td>\n",
       "      <td>12.0</td>\n",
       "      <td>99.99</td>\n",
       "      <td>True</td>\n",
       "    </tr>\n",
       "  </tbody>\n",
       "</table>\n",
       "</div>"
      ],
      "text/plain": [
       "   Product_ID Product_Name  Stock   Price Discounted\n",
       "0         1.0       Laptop   20.0  999.99       True\n",
       "1         2.0        Phone   15.0  799.99      False\n",
       "2         3.0           TV    NaN     NaN       True\n",
       "3         4.0   Headphones   30.0     NaN      False\n",
       "4         5.0         None   25.0   59.99        NaN\n",
       "5         NaN    Microwave   12.0   99.99       True"
      ]
     },
     "execution_count": 40,
     "metadata": {},
     "output_type": "execute_result"
    }
   ],
   "source": [
    "df_temp"
   ]
  },
  {
   "cell_type": "code",
   "execution_count": 41,
   "id": "e733595b",
   "metadata": {},
   "outputs": [],
   "source": [
    "df_temp.dropna(inplace=True)"
   ]
  },
  {
   "cell_type": "code",
   "execution_count": 42,
   "id": "f355834b",
   "metadata": {},
   "outputs": [
    {
     "data": {
      "text/html": [
       "<div>\n",
       "<style scoped>\n",
       "    .dataframe tbody tr th:only-of-type {\n",
       "        vertical-align: middle;\n",
       "    }\n",
       "\n",
       "    .dataframe tbody tr th {\n",
       "        vertical-align: top;\n",
       "    }\n",
       "\n",
       "    .dataframe thead th {\n",
       "        text-align: right;\n",
       "    }\n",
       "</style>\n",
       "<table border=\"1\" class=\"dataframe\">\n",
       "  <thead>\n",
       "    <tr style=\"text-align: right;\">\n",
       "      <th></th>\n",
       "      <th>Product_ID</th>\n",
       "      <th>Product_Name</th>\n",
       "      <th>Stock</th>\n",
       "      <th>Price</th>\n",
       "      <th>Discounted</th>\n",
       "    </tr>\n",
       "  </thead>\n",
       "  <tbody>\n",
       "    <tr>\n",
       "      <th>0</th>\n",
       "      <td>1.0</td>\n",
       "      <td>Laptop</td>\n",
       "      <td>20.0</td>\n",
       "      <td>999.99</td>\n",
       "      <td>True</td>\n",
       "    </tr>\n",
       "    <tr>\n",
       "      <th>1</th>\n",
       "      <td>2.0</td>\n",
       "      <td>Phone</td>\n",
       "      <td>15.0</td>\n",
       "      <td>799.99</td>\n",
       "      <td>False</td>\n",
       "    </tr>\n",
       "  </tbody>\n",
       "</table>\n",
       "</div>"
      ],
      "text/plain": [
       "   Product_ID Product_Name  Stock   Price Discounted\n",
       "0         1.0       Laptop   20.0  999.99       True\n",
       "1         2.0        Phone   15.0  799.99      False"
      ]
     },
     "execution_count": 42,
     "metadata": {},
     "output_type": "execute_result"
    }
   ],
   "source": [
    "df_temp"
   ]
  },
  {
   "cell_type": "markdown",
   "id": "8e04a34e",
   "metadata": {},
   "source": [
    "#### If you only want to drop rows where both 'Stock' and 'Price' have null values, how would you go about doing this in target_df?"
   ]
  },
  {
   "cell_type": "code",
   "execution_count": 51,
   "id": "186f95b1",
   "metadata": {},
   "outputs": [
    {
     "data": {
      "text/html": [
       "<div>\n",
       "<style scoped>\n",
       "    .dataframe tbody tr th:only-of-type {\n",
       "        vertical-align: middle;\n",
       "    }\n",
       "\n",
       "    .dataframe tbody tr th {\n",
       "        vertical-align: top;\n",
       "    }\n",
       "\n",
       "    .dataframe thead th {\n",
       "        text-align: right;\n",
       "    }\n",
       "</style>\n",
       "<table border=\"1\" class=\"dataframe\">\n",
       "  <thead>\n",
       "    <tr style=\"text-align: right;\">\n",
       "      <th></th>\n",
       "      <th>Product_ID</th>\n",
       "      <th>Product_Name</th>\n",
       "      <th>Stock</th>\n",
       "      <th>Price</th>\n",
       "      <th>Discounted</th>\n",
       "    </tr>\n",
       "  </thead>\n",
       "  <tbody>\n",
       "    <tr>\n",
       "      <th>2</th>\n",
       "      <td>3.0</td>\n",
       "      <td>TV</td>\n",
       "      <td>NaN</td>\n",
       "      <td>NaN</td>\n",
       "      <td>True</td>\n",
       "    </tr>\n",
       "  </tbody>\n",
       "</table>\n",
       "</div>"
      ],
      "text/plain": [
       "   Product_ID Product_Name  Stock  Price Discounted\n",
       "2         3.0           TV    NaN    NaN       True"
      ]
     },
     "execution_count": 51,
     "metadata": {},
     "output_type": "execute_result"
    }
   ],
   "source": [
    "target_df.loc[target_df['Stock'].isna() & target_df['Price'].isna()]"
   ]
  },
  {
   "cell_type": "code",
   "execution_count": 52,
   "id": "25dd5a9a",
   "metadata": {},
   "outputs": [],
   "source": [
    "tobe_dropped = target_df.loc[target_df['Stock'].isna() & target_df['Price'].isna()].index.values"
   ]
  },
  {
   "cell_type": "code",
   "execution_count": 54,
   "id": "3e5d9cde",
   "metadata": {
    "scrolled": true
   },
   "outputs": [
    {
     "data": {
      "text/plain": [
       "array([2])"
      ]
     },
     "execution_count": 54,
     "metadata": {},
     "output_type": "execute_result"
    }
   ],
   "source": [
    "tobe_dropped"
   ]
  },
  {
   "cell_type": "code",
   "execution_count": 55,
   "id": "227e98b2",
   "metadata": {},
   "outputs": [
    {
     "data": {
      "text/html": [
       "<div>\n",
       "<style scoped>\n",
       "    .dataframe tbody tr th:only-of-type {\n",
       "        vertical-align: middle;\n",
       "    }\n",
       "\n",
       "    .dataframe tbody tr th {\n",
       "        vertical-align: top;\n",
       "    }\n",
       "\n",
       "    .dataframe thead th {\n",
       "        text-align: right;\n",
       "    }\n",
       "</style>\n",
       "<table border=\"1\" class=\"dataframe\">\n",
       "  <thead>\n",
       "    <tr style=\"text-align: right;\">\n",
       "      <th></th>\n",
       "      <th>Product_ID</th>\n",
       "      <th>Product_Name</th>\n",
       "      <th>Stock</th>\n",
       "      <th>Price</th>\n",
       "      <th>Discounted</th>\n",
       "    </tr>\n",
       "  </thead>\n",
       "  <tbody>\n",
       "    <tr>\n",
       "      <th>0</th>\n",
       "      <td>1.0</td>\n",
       "      <td>Laptop</td>\n",
       "      <td>20.0</td>\n",
       "      <td>999.99</td>\n",
       "      <td>True</td>\n",
       "    </tr>\n",
       "    <tr>\n",
       "      <th>1</th>\n",
       "      <td>2.0</td>\n",
       "      <td>Phone</td>\n",
       "      <td>15.0</td>\n",
       "      <td>799.99</td>\n",
       "      <td>False</td>\n",
       "    </tr>\n",
       "    <tr>\n",
       "      <th>3</th>\n",
       "      <td>4.0</td>\n",
       "      <td>Headphones</td>\n",
       "      <td>30.0</td>\n",
       "      <td>NaN</td>\n",
       "      <td>False</td>\n",
       "    </tr>\n",
       "    <tr>\n",
       "      <th>4</th>\n",
       "      <td>5.0</td>\n",
       "      <td>None</td>\n",
       "      <td>25.0</td>\n",
       "      <td>59.99</td>\n",
       "      <td>NaN</td>\n",
       "    </tr>\n",
       "    <tr>\n",
       "      <th>5</th>\n",
       "      <td>NaN</td>\n",
       "      <td>Microwave</td>\n",
       "      <td>12.0</td>\n",
       "      <td>99.99</td>\n",
       "      <td>True</td>\n",
       "    </tr>\n",
       "  </tbody>\n",
       "</table>\n",
       "</div>"
      ],
      "text/plain": [
       "   Product_ID Product_Name  Stock   Price Discounted\n",
       "0         1.0       Laptop   20.0  999.99       True\n",
       "1         2.0        Phone   15.0  799.99      False\n",
       "3         4.0   Headphones   30.0     NaN      False\n",
       "4         5.0         None   25.0   59.99        NaN\n",
       "5         NaN    Microwave   12.0   99.99       True"
      ]
     },
     "execution_count": 55,
     "metadata": {},
     "output_type": "execute_result"
    }
   ],
   "source": [
    "target_df.drop(labels=tobe_dropped)"
   ]
  },
  {
   "cell_type": "markdown",
   "id": "bcdd64ca",
   "metadata": {},
   "source": [
    "### Filling"
   ]
  },
  {
   "cell_type": "markdown",
   "id": "98b95248",
   "metadata": {},
   "source": [
    "#### How would you fill null values in the 'Stock' column with the median value of that column?"
   ]
  },
  {
   "cell_type": "code",
   "execution_count": 63,
   "id": "8d3864d6",
   "metadata": {},
   "outputs": [],
   "source": [
    "df_temp = target_df.copy()"
   ]
  },
  {
   "cell_type": "code",
   "execution_count": 64,
   "id": "9677cc14",
   "metadata": {},
   "outputs": [
    {
     "data": {
      "text/html": [
       "<div>\n",
       "<style scoped>\n",
       "    .dataframe tbody tr th:only-of-type {\n",
       "        vertical-align: middle;\n",
       "    }\n",
       "\n",
       "    .dataframe tbody tr th {\n",
       "        vertical-align: top;\n",
       "    }\n",
       "\n",
       "    .dataframe thead th {\n",
       "        text-align: right;\n",
       "    }\n",
       "</style>\n",
       "<table border=\"1\" class=\"dataframe\">\n",
       "  <thead>\n",
       "    <tr style=\"text-align: right;\">\n",
       "      <th></th>\n",
       "      <th>Product_ID</th>\n",
       "      <th>Product_Name</th>\n",
       "      <th>Stock</th>\n",
       "      <th>Price</th>\n",
       "      <th>Discounted</th>\n",
       "    </tr>\n",
       "  </thead>\n",
       "  <tbody>\n",
       "    <tr>\n",
       "      <th>0</th>\n",
       "      <td>1.0</td>\n",
       "      <td>Laptop</td>\n",
       "      <td>20.0</td>\n",
       "      <td>999.99</td>\n",
       "      <td>True</td>\n",
       "    </tr>\n",
       "    <tr>\n",
       "      <th>1</th>\n",
       "      <td>2.0</td>\n",
       "      <td>Phone</td>\n",
       "      <td>15.0</td>\n",
       "      <td>799.99</td>\n",
       "      <td>False</td>\n",
       "    </tr>\n",
       "    <tr>\n",
       "      <th>2</th>\n",
       "      <td>3.0</td>\n",
       "      <td>TV</td>\n",
       "      <td>NaN</td>\n",
       "      <td>NaN</td>\n",
       "      <td>True</td>\n",
       "    </tr>\n",
       "    <tr>\n",
       "      <th>3</th>\n",
       "      <td>4.0</td>\n",
       "      <td>Headphones</td>\n",
       "      <td>30.0</td>\n",
       "      <td>NaN</td>\n",
       "      <td>False</td>\n",
       "    </tr>\n",
       "    <tr>\n",
       "      <th>4</th>\n",
       "      <td>5.0</td>\n",
       "      <td>None</td>\n",
       "      <td>25.0</td>\n",
       "      <td>59.99</td>\n",
       "      <td>NaN</td>\n",
       "    </tr>\n",
       "    <tr>\n",
       "      <th>5</th>\n",
       "      <td>NaN</td>\n",
       "      <td>Microwave</td>\n",
       "      <td>12.0</td>\n",
       "      <td>99.99</td>\n",
       "      <td>True</td>\n",
       "    </tr>\n",
       "  </tbody>\n",
       "</table>\n",
       "</div>"
      ],
      "text/plain": [
       "   Product_ID Product_Name  Stock   Price Discounted\n",
       "0         1.0       Laptop   20.0  999.99       True\n",
       "1         2.0        Phone   15.0  799.99      False\n",
       "2         3.0           TV    NaN     NaN       True\n",
       "3         4.0   Headphones   30.0     NaN      False\n",
       "4         5.0         None   25.0   59.99        NaN\n",
       "5         NaN    Microwave   12.0   99.99       True"
      ]
     },
     "execution_count": 64,
     "metadata": {},
     "output_type": "execute_result"
    }
   ],
   "source": [
    "df_temp"
   ]
  },
  {
   "cell_type": "code",
   "execution_count": 65,
   "id": "29619aef",
   "metadata": {},
   "outputs": [],
   "source": [
    "df_temp['Stock'].fillna(value=target_df['Stock'].median(), inplace=True)"
   ]
  },
  {
   "cell_type": "code",
   "execution_count": 66,
   "id": "f86afae0",
   "metadata": {},
   "outputs": [
    {
     "data": {
      "text/html": [
       "<div>\n",
       "<style scoped>\n",
       "    .dataframe tbody tr th:only-of-type {\n",
       "        vertical-align: middle;\n",
       "    }\n",
       "\n",
       "    .dataframe tbody tr th {\n",
       "        vertical-align: top;\n",
       "    }\n",
       "\n",
       "    .dataframe thead th {\n",
       "        text-align: right;\n",
       "    }\n",
       "</style>\n",
       "<table border=\"1\" class=\"dataframe\">\n",
       "  <thead>\n",
       "    <tr style=\"text-align: right;\">\n",
       "      <th></th>\n",
       "      <th>Product_ID</th>\n",
       "      <th>Product_Name</th>\n",
       "      <th>Stock</th>\n",
       "      <th>Price</th>\n",
       "      <th>Discounted</th>\n",
       "    </tr>\n",
       "  </thead>\n",
       "  <tbody>\n",
       "    <tr>\n",
       "      <th>0</th>\n",
       "      <td>1.0</td>\n",
       "      <td>Laptop</td>\n",
       "      <td>20.0</td>\n",
       "      <td>999.99</td>\n",
       "      <td>True</td>\n",
       "    </tr>\n",
       "    <tr>\n",
       "      <th>1</th>\n",
       "      <td>2.0</td>\n",
       "      <td>Phone</td>\n",
       "      <td>15.0</td>\n",
       "      <td>799.99</td>\n",
       "      <td>False</td>\n",
       "    </tr>\n",
       "    <tr>\n",
       "      <th>2</th>\n",
       "      <td>3.0</td>\n",
       "      <td>TV</td>\n",
       "      <td>20.0</td>\n",
       "      <td>NaN</td>\n",
       "      <td>True</td>\n",
       "    </tr>\n",
       "    <tr>\n",
       "      <th>3</th>\n",
       "      <td>4.0</td>\n",
       "      <td>Headphones</td>\n",
       "      <td>30.0</td>\n",
       "      <td>NaN</td>\n",
       "      <td>False</td>\n",
       "    </tr>\n",
       "    <tr>\n",
       "      <th>4</th>\n",
       "      <td>5.0</td>\n",
       "      <td>None</td>\n",
       "      <td>25.0</td>\n",
       "      <td>59.99</td>\n",
       "      <td>NaN</td>\n",
       "    </tr>\n",
       "    <tr>\n",
       "      <th>5</th>\n",
       "      <td>NaN</td>\n",
       "      <td>Microwave</td>\n",
       "      <td>12.0</td>\n",
       "      <td>99.99</td>\n",
       "      <td>True</td>\n",
       "    </tr>\n",
       "  </tbody>\n",
       "</table>\n",
       "</div>"
      ],
      "text/plain": [
       "   Product_ID Product_Name  Stock   Price Discounted\n",
       "0         1.0       Laptop   20.0  999.99       True\n",
       "1         2.0        Phone   15.0  799.99      False\n",
       "2         3.0           TV   20.0     NaN       True\n",
       "3         4.0   Headphones   30.0     NaN      False\n",
       "4         5.0         None   25.0   59.99        NaN\n",
       "5         NaN    Microwave   12.0   99.99       True"
      ]
     },
     "execution_count": 66,
     "metadata": {},
     "output_type": "execute_result"
    }
   ],
   "source": [
    "df_temp"
   ]
  },
  {
   "cell_type": "markdown",
   "id": "3320a396",
   "metadata": {},
   "source": [
    "#### Can you use the .fillna() method to fill null values in multiple columns ('Stock' and 'Price') at once? If so, how?"
   ]
  },
  {
   "cell_type": "code",
   "execution_count": 67,
   "id": "5d3e624e",
   "metadata": {},
   "outputs": [],
   "source": [
    "df_temp = target_df.copy()"
   ]
  },
  {
   "cell_type": "code",
   "execution_count": 68,
   "id": "77a1efe9",
   "metadata": {},
   "outputs": [
    {
     "data": {
      "text/html": [
       "<div>\n",
       "<style scoped>\n",
       "    .dataframe tbody tr th:only-of-type {\n",
       "        vertical-align: middle;\n",
       "    }\n",
       "\n",
       "    .dataframe tbody tr th {\n",
       "        vertical-align: top;\n",
       "    }\n",
       "\n",
       "    .dataframe thead th {\n",
       "        text-align: right;\n",
       "    }\n",
       "</style>\n",
       "<table border=\"1\" class=\"dataframe\">\n",
       "  <thead>\n",
       "    <tr style=\"text-align: right;\">\n",
       "      <th></th>\n",
       "      <th>Product_ID</th>\n",
       "      <th>Product_Name</th>\n",
       "      <th>Stock</th>\n",
       "      <th>Price</th>\n",
       "      <th>Discounted</th>\n",
       "    </tr>\n",
       "  </thead>\n",
       "  <tbody>\n",
       "    <tr>\n",
       "      <th>0</th>\n",
       "      <td>1.0</td>\n",
       "      <td>Laptop</td>\n",
       "      <td>20.0</td>\n",
       "      <td>999.99</td>\n",
       "      <td>True</td>\n",
       "    </tr>\n",
       "    <tr>\n",
       "      <th>1</th>\n",
       "      <td>2.0</td>\n",
       "      <td>Phone</td>\n",
       "      <td>15.0</td>\n",
       "      <td>799.99</td>\n",
       "      <td>False</td>\n",
       "    </tr>\n",
       "    <tr>\n",
       "      <th>2</th>\n",
       "      <td>3.0</td>\n",
       "      <td>TV</td>\n",
       "      <td>NaN</td>\n",
       "      <td>NaN</td>\n",
       "      <td>True</td>\n",
       "    </tr>\n",
       "    <tr>\n",
       "      <th>3</th>\n",
       "      <td>4.0</td>\n",
       "      <td>Headphones</td>\n",
       "      <td>30.0</td>\n",
       "      <td>NaN</td>\n",
       "      <td>False</td>\n",
       "    </tr>\n",
       "    <tr>\n",
       "      <th>4</th>\n",
       "      <td>5.0</td>\n",
       "      <td>None</td>\n",
       "      <td>25.0</td>\n",
       "      <td>59.99</td>\n",
       "      <td>NaN</td>\n",
       "    </tr>\n",
       "    <tr>\n",
       "      <th>5</th>\n",
       "      <td>NaN</td>\n",
       "      <td>Microwave</td>\n",
       "      <td>12.0</td>\n",
       "      <td>99.99</td>\n",
       "      <td>True</td>\n",
       "    </tr>\n",
       "  </tbody>\n",
       "</table>\n",
       "</div>"
      ],
      "text/plain": [
       "   Product_ID Product_Name  Stock   Price Discounted\n",
       "0         1.0       Laptop   20.0  999.99       True\n",
       "1         2.0        Phone   15.0  799.99      False\n",
       "2         3.0           TV    NaN     NaN       True\n",
       "3         4.0   Headphones   30.0     NaN      False\n",
       "4         5.0         None   25.0   59.99        NaN\n",
       "5         NaN    Microwave   12.0   99.99       True"
      ]
     },
     "execution_count": 68,
     "metadata": {},
     "output_type": "execute_result"
    }
   ],
   "source": [
    "df_temp"
   ]
  },
  {
   "cell_type": "code",
   "execution_count": 76,
   "id": "408a7efb",
   "metadata": {},
   "outputs": [],
   "source": [
    "stock_med = df_temp['Stock'].median()\n",
    "price_med = df_temp['Price'].median()"
   ]
  },
  {
   "cell_type": "code",
   "execution_count": 77,
   "id": "2f871c97",
   "metadata": {},
   "outputs": [],
   "source": [
    "med_values = {'Stock':stock_med, 'Price':price_med}"
   ]
  },
  {
   "cell_type": "code",
   "execution_count": 78,
   "id": "6878b5dc",
   "metadata": {},
   "outputs": [
    {
     "data": {
      "text/html": [
       "<div>\n",
       "<style scoped>\n",
       "    .dataframe tbody tr th:only-of-type {\n",
       "        vertical-align: middle;\n",
       "    }\n",
       "\n",
       "    .dataframe tbody tr th {\n",
       "        vertical-align: top;\n",
       "    }\n",
       "\n",
       "    .dataframe thead th {\n",
       "        text-align: right;\n",
       "    }\n",
       "</style>\n",
       "<table border=\"1\" class=\"dataframe\">\n",
       "  <thead>\n",
       "    <tr style=\"text-align: right;\">\n",
       "      <th></th>\n",
       "      <th>Product_ID</th>\n",
       "      <th>Product_Name</th>\n",
       "      <th>Stock</th>\n",
       "      <th>Price</th>\n",
       "      <th>Discounted</th>\n",
       "    </tr>\n",
       "  </thead>\n",
       "  <tbody>\n",
       "    <tr>\n",
       "      <th>2</th>\n",
       "      <td>3.0</td>\n",
       "      <td>TV</td>\n",
       "      <td>20.0</td>\n",
       "      <td>449.99</td>\n",
       "      <td>True</td>\n",
       "    </tr>\n",
       "    <tr>\n",
       "      <th>3</th>\n",
       "      <td>4.0</td>\n",
       "      <td>Headphones</td>\n",
       "      <td>30.0</td>\n",
       "      <td>449.99</td>\n",
       "      <td>False</td>\n",
       "    </tr>\n",
       "  </tbody>\n",
       "</table>\n",
       "</div>"
      ],
      "text/plain": [
       "   Product_ID Product_Name  Stock   Price Discounted\n",
       "2         3.0           TV   20.0  449.99       True\n",
       "3         4.0   Headphones   30.0  449.99      False"
      ]
     },
     "execution_count": 78,
     "metadata": {},
     "output_type": "execute_result"
    }
   ],
   "source": [
    "df_temp.loc[df_temp['Stock'].isna() | df_temp['Price'].isna()].fillna(value=med_values)"
   ]
  },
  {
   "cell_type": "markdown",
   "id": "72bda44d",
   "metadata": {},
   "source": [
    "#### If you only want to fill the first null value in each column with a zero, how would you do it?"
   ]
  },
  {
   "cell_type": "code",
   "execution_count": 105,
   "id": "7a9d3cd1",
   "metadata": {
    "scrolled": true
   },
   "outputs": [],
   "source": [
    "temp_df = target_df.copy()"
   ]
  },
  {
   "cell_type": "code",
   "execution_count": 106,
   "id": "97db37b0",
   "metadata": {},
   "outputs": [
    {
     "data": {
      "text/html": [
       "<div>\n",
       "<style scoped>\n",
       "    .dataframe tbody tr th:only-of-type {\n",
       "        vertical-align: middle;\n",
       "    }\n",
       "\n",
       "    .dataframe tbody tr th {\n",
       "        vertical-align: top;\n",
       "    }\n",
       "\n",
       "    .dataframe thead th {\n",
       "        text-align: right;\n",
       "    }\n",
       "</style>\n",
       "<table border=\"1\" class=\"dataframe\">\n",
       "  <thead>\n",
       "    <tr style=\"text-align: right;\">\n",
       "      <th></th>\n",
       "      <th>Product_ID</th>\n",
       "      <th>Product_Name</th>\n",
       "      <th>Stock</th>\n",
       "      <th>Price</th>\n",
       "      <th>Discounted</th>\n",
       "    </tr>\n",
       "  </thead>\n",
       "  <tbody>\n",
       "    <tr>\n",
       "      <th>0</th>\n",
       "      <td>False</td>\n",
       "      <td>False</td>\n",
       "      <td>False</td>\n",
       "      <td>False</td>\n",
       "      <td>False</td>\n",
       "    </tr>\n",
       "    <tr>\n",
       "      <th>1</th>\n",
       "      <td>False</td>\n",
       "      <td>False</td>\n",
       "      <td>False</td>\n",
       "      <td>False</td>\n",
       "      <td>False</td>\n",
       "    </tr>\n",
       "    <tr>\n",
       "      <th>2</th>\n",
       "      <td>False</td>\n",
       "      <td>False</td>\n",
       "      <td>True</td>\n",
       "      <td>True</td>\n",
       "      <td>False</td>\n",
       "    </tr>\n",
       "    <tr>\n",
       "      <th>3</th>\n",
       "      <td>False</td>\n",
       "      <td>False</td>\n",
       "      <td>False</td>\n",
       "      <td>True</td>\n",
       "      <td>False</td>\n",
       "    </tr>\n",
       "    <tr>\n",
       "      <th>4</th>\n",
       "      <td>False</td>\n",
       "      <td>True</td>\n",
       "      <td>False</td>\n",
       "      <td>False</td>\n",
       "      <td>True</td>\n",
       "    </tr>\n",
       "    <tr>\n",
       "      <th>5</th>\n",
       "      <td>True</td>\n",
       "      <td>False</td>\n",
       "      <td>False</td>\n",
       "      <td>False</td>\n",
       "      <td>False</td>\n",
       "    </tr>\n",
       "  </tbody>\n",
       "</table>\n",
       "</div>"
      ],
      "text/plain": [
       "   Product_ID  Product_Name  Stock  Price  Discounted\n",
       "0       False         False  False  False       False\n",
       "1       False         False  False  False       False\n",
       "2       False         False   True   True       False\n",
       "3       False         False  False   True       False\n",
       "4       False          True  False  False        True\n",
       "5        True         False  False  False       False"
      ]
     },
     "execution_count": 106,
     "metadata": {},
     "output_type": "execute_result"
    }
   ],
   "source": [
    "temp_df.isna()"
   ]
  },
  {
   "cell_type": "code",
   "execution_count": 107,
   "id": "3294bbdf",
   "metadata": {},
   "outputs": [
    {
     "data": {
      "text/plain": [
       "Product_ID      5\n",
       "Product_Name    4\n",
       "Stock           2\n",
       "Price           2\n",
       "Discounted      4\n",
       "dtype: int64"
      ]
     },
     "execution_count": 107,
     "metadata": {},
     "output_type": "execute_result"
    }
   ],
   "source": [
    "temp_df.isna().idxmax()"
   ]
  },
  {
   "cell_type": "code",
   "execution_count": 110,
   "id": "c9b683b3",
   "metadata": {},
   "outputs": [],
   "source": [
    "col_ind_to_be_updated = list(temp_df.isna().idxmax().items())"
   ]
  },
  {
   "cell_type": "code",
   "execution_count": 111,
   "id": "acf76bb4",
   "metadata": {},
   "outputs": [
    {
     "data": {
      "text/plain": [
       "[('Product_ID', 5),\n",
       " ('Product_Name', 4),\n",
       " ('Stock', 2),\n",
       " ('Price', 2),\n",
       " ('Discounted', 4)]"
      ]
     },
     "execution_count": 111,
     "metadata": {},
     "output_type": "execute_result"
    }
   ],
   "source": [
    "col_ind_to_be_updated"
   ]
  },
  {
   "cell_type": "code",
   "execution_count": 112,
   "id": "3c878bad",
   "metadata": {},
   "outputs": [],
   "source": [
    "for col,ind in col_ind_to_be_updated:\n",
    "    temp_df.loc[ind, col] = 0"
   ]
  },
  {
   "cell_type": "code",
   "execution_count": 113,
   "id": "959378d3",
   "metadata": {},
   "outputs": [
    {
     "data": {
      "text/html": [
       "<div>\n",
       "<style scoped>\n",
       "    .dataframe tbody tr th:only-of-type {\n",
       "        vertical-align: middle;\n",
       "    }\n",
       "\n",
       "    .dataframe tbody tr th {\n",
       "        vertical-align: top;\n",
       "    }\n",
       "\n",
       "    .dataframe thead th {\n",
       "        text-align: right;\n",
       "    }\n",
       "</style>\n",
       "<table border=\"1\" class=\"dataframe\">\n",
       "  <thead>\n",
       "    <tr style=\"text-align: right;\">\n",
       "      <th></th>\n",
       "      <th>Product_ID</th>\n",
       "      <th>Product_Name</th>\n",
       "      <th>Stock</th>\n",
       "      <th>Price</th>\n",
       "      <th>Discounted</th>\n",
       "    </tr>\n",
       "  </thead>\n",
       "  <tbody>\n",
       "    <tr>\n",
       "      <th>0</th>\n",
       "      <td>1.0</td>\n",
       "      <td>Laptop</td>\n",
       "      <td>20.0</td>\n",
       "      <td>999.99</td>\n",
       "      <td>True</td>\n",
       "    </tr>\n",
       "    <tr>\n",
       "      <th>1</th>\n",
       "      <td>2.0</td>\n",
       "      <td>Phone</td>\n",
       "      <td>15.0</td>\n",
       "      <td>799.99</td>\n",
       "      <td>False</td>\n",
       "    </tr>\n",
       "    <tr>\n",
       "      <th>2</th>\n",
       "      <td>3.0</td>\n",
       "      <td>TV</td>\n",
       "      <td>0.0</td>\n",
       "      <td>0.00</td>\n",
       "      <td>True</td>\n",
       "    </tr>\n",
       "    <tr>\n",
       "      <th>3</th>\n",
       "      <td>4.0</td>\n",
       "      <td>Headphones</td>\n",
       "      <td>30.0</td>\n",
       "      <td>NaN</td>\n",
       "      <td>False</td>\n",
       "    </tr>\n",
       "    <tr>\n",
       "      <th>4</th>\n",
       "      <td>5.0</td>\n",
       "      <td>0</td>\n",
       "      <td>25.0</td>\n",
       "      <td>59.99</td>\n",
       "      <td>0</td>\n",
       "    </tr>\n",
       "    <tr>\n",
       "      <th>5</th>\n",
       "      <td>0.0</td>\n",
       "      <td>Microwave</td>\n",
       "      <td>12.0</td>\n",
       "      <td>99.99</td>\n",
       "      <td>True</td>\n",
       "    </tr>\n",
       "  </tbody>\n",
       "</table>\n",
       "</div>"
      ],
      "text/plain": [
       "   Product_ID Product_Name  Stock   Price Discounted\n",
       "0         1.0       Laptop   20.0  999.99       True\n",
       "1         2.0        Phone   15.0  799.99      False\n",
       "2         3.0           TV    0.0    0.00       True\n",
       "3         4.0   Headphones   30.0     NaN      False\n",
       "4         5.0            0   25.0   59.99          0\n",
       "5         0.0    Microwave   12.0   99.99       True"
      ]
     },
     "execution_count": 113,
     "metadata": {},
     "output_type": "execute_result"
    }
   ],
   "source": [
    "temp_df"
   ]
  },
  {
   "cell_type": "code",
   "execution_count": 114,
   "id": "dc1c7234",
   "metadata": {},
   "outputs": [],
   "source": [
    "# with fillna method"
   ]
  },
  {
   "cell_type": "code",
   "execution_count": 115,
   "id": "995829b5",
   "metadata": {},
   "outputs": [
    {
     "data": {
      "text/html": [
       "<div>\n",
       "<style scoped>\n",
       "    .dataframe tbody tr th:only-of-type {\n",
       "        vertical-align: middle;\n",
       "    }\n",
       "\n",
       "    .dataframe tbody tr th {\n",
       "        vertical-align: top;\n",
       "    }\n",
       "\n",
       "    .dataframe thead th {\n",
       "        text-align: right;\n",
       "    }\n",
       "</style>\n",
       "<table border=\"1\" class=\"dataframe\">\n",
       "  <thead>\n",
       "    <tr style=\"text-align: right;\">\n",
       "      <th></th>\n",
       "      <th>Product_ID</th>\n",
       "      <th>Product_Name</th>\n",
       "      <th>Stock</th>\n",
       "      <th>Price</th>\n",
       "      <th>Discounted</th>\n",
       "    </tr>\n",
       "  </thead>\n",
       "  <tbody>\n",
       "    <tr>\n",
       "      <th>0</th>\n",
       "      <td>1.0</td>\n",
       "      <td>Laptop</td>\n",
       "      <td>20.0</td>\n",
       "      <td>999.99</td>\n",
       "      <td>True</td>\n",
       "    </tr>\n",
       "    <tr>\n",
       "      <th>1</th>\n",
       "      <td>2.0</td>\n",
       "      <td>Phone</td>\n",
       "      <td>15.0</td>\n",
       "      <td>799.99</td>\n",
       "      <td>False</td>\n",
       "    </tr>\n",
       "    <tr>\n",
       "      <th>2</th>\n",
       "      <td>3.0</td>\n",
       "      <td>TV</td>\n",
       "      <td>0.0</td>\n",
       "      <td>0.00</td>\n",
       "      <td>True</td>\n",
       "    </tr>\n",
       "    <tr>\n",
       "      <th>3</th>\n",
       "      <td>4.0</td>\n",
       "      <td>Headphones</td>\n",
       "      <td>30.0</td>\n",
       "      <td>NaN</td>\n",
       "      <td>False</td>\n",
       "    </tr>\n",
       "    <tr>\n",
       "      <th>4</th>\n",
       "      <td>5.0</td>\n",
       "      <td>0</td>\n",
       "      <td>25.0</td>\n",
       "      <td>59.99</td>\n",
       "      <td>0</td>\n",
       "    </tr>\n",
       "    <tr>\n",
       "      <th>5</th>\n",
       "      <td>0.0</td>\n",
       "      <td>Microwave</td>\n",
       "      <td>12.0</td>\n",
       "      <td>99.99</td>\n",
       "      <td>True</td>\n",
       "    </tr>\n",
       "  </tbody>\n",
       "</table>\n",
       "</div>"
      ],
      "text/plain": [
       "   Product_ID Product_Name  Stock   Price Discounted\n",
       "0         1.0       Laptop   20.0  999.99       True\n",
       "1         2.0        Phone   15.0  799.99      False\n",
       "2         3.0           TV    0.0    0.00       True\n",
       "3         4.0   Headphones   30.0     NaN      False\n",
       "4         5.0            0   25.0   59.99          0\n",
       "5         0.0    Microwave   12.0   99.99       True"
      ]
     },
     "execution_count": 115,
     "metadata": {},
     "output_type": "execute_result"
    }
   ],
   "source": [
    "target_df.fillna(value=0, limit=1)"
   ]
  },
  {
   "cell_type": "markdown",
   "id": "8a2034e5",
   "metadata": {},
   "source": [
    "### Counting"
   ]
  },
  {
   "cell_type": "markdown",
   "id": "49139613",
   "metadata": {},
   "source": [
    "#### How would you count the number of null values in the entire DataFrame?"
   ]
  },
  {
   "cell_type": "code",
   "execution_count": 116,
   "id": "9a6400ce",
   "metadata": {},
   "outputs": [
    {
     "data": {
      "text/html": [
       "<div>\n",
       "<style scoped>\n",
       "    .dataframe tbody tr th:only-of-type {\n",
       "        vertical-align: middle;\n",
       "    }\n",
       "\n",
       "    .dataframe tbody tr th {\n",
       "        vertical-align: top;\n",
       "    }\n",
       "\n",
       "    .dataframe thead th {\n",
       "        text-align: right;\n",
       "    }\n",
       "</style>\n",
       "<table border=\"1\" class=\"dataframe\">\n",
       "  <thead>\n",
       "    <tr style=\"text-align: right;\">\n",
       "      <th></th>\n",
       "      <th>Product_ID</th>\n",
       "      <th>Product_Name</th>\n",
       "      <th>Stock</th>\n",
       "      <th>Price</th>\n",
       "      <th>Discounted</th>\n",
       "    </tr>\n",
       "  </thead>\n",
       "  <tbody>\n",
       "    <tr>\n",
       "      <th>0</th>\n",
       "      <td>1.0</td>\n",
       "      <td>Laptop</td>\n",
       "      <td>20.0</td>\n",
       "      <td>999.99</td>\n",
       "      <td>True</td>\n",
       "    </tr>\n",
       "    <tr>\n",
       "      <th>1</th>\n",
       "      <td>2.0</td>\n",
       "      <td>Phone</td>\n",
       "      <td>15.0</td>\n",
       "      <td>799.99</td>\n",
       "      <td>False</td>\n",
       "    </tr>\n",
       "    <tr>\n",
       "      <th>2</th>\n",
       "      <td>3.0</td>\n",
       "      <td>TV</td>\n",
       "      <td>NaN</td>\n",
       "      <td>NaN</td>\n",
       "      <td>True</td>\n",
       "    </tr>\n",
       "    <tr>\n",
       "      <th>3</th>\n",
       "      <td>4.0</td>\n",
       "      <td>Headphones</td>\n",
       "      <td>30.0</td>\n",
       "      <td>NaN</td>\n",
       "      <td>False</td>\n",
       "    </tr>\n",
       "    <tr>\n",
       "      <th>4</th>\n",
       "      <td>5.0</td>\n",
       "      <td>None</td>\n",
       "      <td>25.0</td>\n",
       "      <td>59.99</td>\n",
       "      <td>NaN</td>\n",
       "    </tr>\n",
       "    <tr>\n",
       "      <th>5</th>\n",
       "      <td>NaN</td>\n",
       "      <td>Microwave</td>\n",
       "      <td>12.0</td>\n",
       "      <td>99.99</td>\n",
       "      <td>True</td>\n",
       "    </tr>\n",
       "  </tbody>\n",
       "</table>\n",
       "</div>"
      ],
      "text/plain": [
       "   Product_ID Product_Name  Stock   Price Discounted\n",
       "0         1.0       Laptop   20.0  999.99       True\n",
       "1         2.0        Phone   15.0  799.99      False\n",
       "2         3.0           TV    NaN     NaN       True\n",
       "3         4.0   Headphones   30.0     NaN      False\n",
       "4         5.0         None   25.0   59.99        NaN\n",
       "5         NaN    Microwave   12.0   99.99       True"
      ]
     },
     "execution_count": 116,
     "metadata": {},
     "output_type": "execute_result"
    }
   ],
   "source": [
    "target_df"
   ]
  },
  {
   "cell_type": "code",
   "execution_count": 121,
   "id": "40634954",
   "metadata": {},
   "outputs": [
    {
     "data": {
      "text/plain": [
       "6"
      ]
     },
     "execution_count": 121,
     "metadata": {},
     "output_type": "execute_result"
    }
   ],
   "source": [
    "target_df.isna().values.sum()"
   ]
  },
  {
   "cell_type": "markdown",
   "id": "2c068c83",
   "metadata": {},
   "source": [
    "#### Is there a way to get a count of non-null values for each column in the DataFrame?"
   ]
  },
  {
   "cell_type": "code",
   "execution_count": 124,
   "id": "5b87c20f",
   "metadata": {},
   "outputs": [
    {
     "data": {
      "text/plain": [
       "Product_ID      5\n",
       "Product_Name    5\n",
       "Stock           5\n",
       "Price           4\n",
       "Discounted      5\n",
       "dtype: int64"
      ]
     },
     "execution_count": 124,
     "metadata": {},
     "output_type": "execute_result"
    }
   ],
   "source": [
    "target_df.notna().sum()"
   ]
  },
  {
   "cell_type": "markdown",
   "id": "81a4b9a5",
   "metadata": {},
   "source": [
    "#### How would you count null values in a specific row, say the row at index 2?"
   ]
  },
  {
   "cell_type": "code",
   "execution_count": 128,
   "id": "3d39d9cf",
   "metadata": {},
   "outputs": [
    {
     "data": {
      "text/plain": [
       "2"
      ]
     },
     "execution_count": 128,
     "metadata": {},
     "output_type": "execute_result"
    }
   ],
   "source": [
    "target_df.iloc[2].isna().sum()"
   ]
  },
  {
   "cell_type": "markdown",
   "id": "23a110ad",
   "metadata": {},
   "source": [
    "### Replacing"
   ]
  },
  {
   "cell_type": "markdown",
   "id": "1e2c3195",
   "metadata": {},
   "source": [
    "#### If you wanted to replace all null values in the DataFrame with the string \"Unknown\", how would you do it?"
   ]
  },
  {
   "cell_type": "code",
   "execution_count": 130,
   "id": "c73436ae",
   "metadata": {},
   "outputs": [
    {
     "data": {
      "text/html": [
       "<div>\n",
       "<style scoped>\n",
       "    .dataframe tbody tr th:only-of-type {\n",
       "        vertical-align: middle;\n",
       "    }\n",
       "\n",
       "    .dataframe tbody tr th {\n",
       "        vertical-align: top;\n",
       "    }\n",
       "\n",
       "    .dataframe thead th {\n",
       "        text-align: right;\n",
       "    }\n",
       "</style>\n",
       "<table border=\"1\" class=\"dataframe\">\n",
       "  <thead>\n",
       "    <tr style=\"text-align: right;\">\n",
       "      <th></th>\n",
       "      <th>Product_ID</th>\n",
       "      <th>Product_Name</th>\n",
       "      <th>Stock</th>\n",
       "      <th>Price</th>\n",
       "      <th>Discounted</th>\n",
       "    </tr>\n",
       "  </thead>\n",
       "  <tbody>\n",
       "    <tr>\n",
       "      <th>0</th>\n",
       "      <td>1.0</td>\n",
       "      <td>Laptop</td>\n",
       "      <td>20.0</td>\n",
       "      <td>999.99</td>\n",
       "      <td>True</td>\n",
       "    </tr>\n",
       "    <tr>\n",
       "      <th>1</th>\n",
       "      <td>2.0</td>\n",
       "      <td>Phone</td>\n",
       "      <td>15.0</td>\n",
       "      <td>799.99</td>\n",
       "      <td>False</td>\n",
       "    </tr>\n",
       "    <tr>\n",
       "      <th>2</th>\n",
       "      <td>3.0</td>\n",
       "      <td>TV</td>\n",
       "      <td>Unknown</td>\n",
       "      <td>Unknown</td>\n",
       "      <td>True</td>\n",
       "    </tr>\n",
       "    <tr>\n",
       "      <th>3</th>\n",
       "      <td>4.0</td>\n",
       "      <td>Headphones</td>\n",
       "      <td>30.0</td>\n",
       "      <td>Unknown</td>\n",
       "      <td>False</td>\n",
       "    </tr>\n",
       "    <tr>\n",
       "      <th>4</th>\n",
       "      <td>5.0</td>\n",
       "      <td>Unknown</td>\n",
       "      <td>25.0</td>\n",
       "      <td>59.99</td>\n",
       "      <td>Unknown</td>\n",
       "    </tr>\n",
       "    <tr>\n",
       "      <th>5</th>\n",
       "      <td>Unknown</td>\n",
       "      <td>Microwave</td>\n",
       "      <td>12.0</td>\n",
       "      <td>99.99</td>\n",
       "      <td>True</td>\n",
       "    </tr>\n",
       "  </tbody>\n",
       "</table>\n",
       "</div>"
      ],
      "text/plain": [
       "  Product_ID Product_Name    Stock    Price Discounted\n",
       "0        1.0       Laptop     20.0   999.99       True\n",
       "1        2.0        Phone     15.0   799.99      False\n",
       "2        3.0           TV  Unknown  Unknown       True\n",
       "3        4.0   Headphones     30.0  Unknown      False\n",
       "4        5.0      Unknown     25.0    59.99    Unknown\n",
       "5    Unknown    Microwave     12.0    99.99       True"
      ]
     },
     "execution_count": 130,
     "metadata": {},
     "output_type": "execute_result"
    }
   ],
   "source": [
    "target_df.fillna('Unknown')"
   ]
  },
  {
   "cell_type": "markdown",
   "id": "f15791d8",
   "metadata": {},
   "source": [
    "#### Can you replace null values in one column ('Stock') with zero and in another column ('Discounted') with False, all in a single line of code?"
   ]
  },
  {
   "cell_type": "code",
   "execution_count": 131,
   "id": "d42bd8ea",
   "metadata": {},
   "outputs": [
    {
     "data": {
      "text/html": [
       "<div>\n",
       "<style scoped>\n",
       "    .dataframe tbody tr th:only-of-type {\n",
       "        vertical-align: middle;\n",
       "    }\n",
       "\n",
       "    .dataframe tbody tr th {\n",
       "        vertical-align: top;\n",
       "    }\n",
       "\n",
       "    .dataframe thead th {\n",
       "        text-align: right;\n",
       "    }\n",
       "</style>\n",
       "<table border=\"1\" class=\"dataframe\">\n",
       "  <thead>\n",
       "    <tr style=\"text-align: right;\">\n",
       "      <th></th>\n",
       "      <th>Product_ID</th>\n",
       "      <th>Product_Name</th>\n",
       "      <th>Stock</th>\n",
       "      <th>Price</th>\n",
       "      <th>Discounted</th>\n",
       "    </tr>\n",
       "  </thead>\n",
       "  <tbody>\n",
       "    <tr>\n",
       "      <th>0</th>\n",
       "      <td>1.0</td>\n",
       "      <td>Laptop</td>\n",
       "      <td>20.0</td>\n",
       "      <td>999.99</td>\n",
       "      <td>True</td>\n",
       "    </tr>\n",
       "    <tr>\n",
       "      <th>1</th>\n",
       "      <td>2.0</td>\n",
       "      <td>Phone</td>\n",
       "      <td>15.0</td>\n",
       "      <td>799.99</td>\n",
       "      <td>False</td>\n",
       "    </tr>\n",
       "    <tr>\n",
       "      <th>2</th>\n",
       "      <td>3.0</td>\n",
       "      <td>TV</td>\n",
       "      <td>0.0</td>\n",
       "      <td>NaN</td>\n",
       "      <td>True</td>\n",
       "    </tr>\n",
       "    <tr>\n",
       "      <th>3</th>\n",
       "      <td>4.0</td>\n",
       "      <td>Headphones</td>\n",
       "      <td>30.0</td>\n",
       "      <td>NaN</td>\n",
       "      <td>False</td>\n",
       "    </tr>\n",
       "    <tr>\n",
       "      <th>4</th>\n",
       "      <td>5.0</td>\n",
       "      <td>None</td>\n",
       "      <td>25.0</td>\n",
       "      <td>59.99</td>\n",
       "      <td>False</td>\n",
       "    </tr>\n",
       "    <tr>\n",
       "      <th>5</th>\n",
       "      <td>NaN</td>\n",
       "      <td>Microwave</td>\n",
       "      <td>12.0</td>\n",
       "      <td>99.99</td>\n",
       "      <td>True</td>\n",
       "    </tr>\n",
       "  </tbody>\n",
       "</table>\n",
       "</div>"
      ],
      "text/plain": [
       "   Product_ID Product_Name  Stock   Price  Discounted\n",
       "0         1.0       Laptop   20.0  999.99        True\n",
       "1         2.0        Phone   15.0  799.99       False\n",
       "2         3.0           TV    0.0     NaN        True\n",
       "3         4.0   Headphones   30.0     NaN       False\n",
       "4         5.0         None   25.0   59.99       False\n",
       "5         NaN    Microwave   12.0   99.99        True"
      ]
     },
     "execution_count": 131,
     "metadata": {},
     "output_type": "execute_result"
    }
   ],
   "source": [
    "target_df.fillna(value={'Stock':0, 'Discounted':False})"
   ]
  },
  {
   "cell_type": "markdown",
   "id": "4cca1a73",
   "metadata": {},
   "source": [
    "#### How would you replace all instances of a specific value, let's say 999.99 in the 'Price' column, with np.nan?"
   ]
  },
  {
   "cell_type": "code",
   "execution_count": 132,
   "id": "0de3fa69",
   "metadata": {},
   "outputs": [
    {
     "data": {
      "text/plain": [
       "0       NaN\n",
       "1    799.99\n",
       "2       NaN\n",
       "3       NaN\n",
       "4     59.99\n",
       "5     99.99\n",
       "Name: Price, dtype: float64"
      ]
     },
     "execution_count": 132,
     "metadata": {},
     "output_type": "execute_result"
    }
   ],
   "source": [
    "target_df.loc[:, 'Price'].replace(999.99, np.nan)"
   ]
  },
  {
   "cell_type": "markdown",
   "id": "e4983ec6",
   "metadata": {},
   "source": [
    "### Operations"
   ]
  },
  {
   "cell_type": "markdown",
   "id": "a5681775",
   "metadata": {},
   "source": [
    "#### How would you calculate the sum of each column in target_df, considering that some columns might have null values?"
   ]
  },
  {
   "cell_type": "code",
   "execution_count": 144,
   "id": "3c3f0ee8",
   "metadata": {},
   "outputs": [
    {
     "data": {
      "text/plain": [
       "Product_ID      15.00\n",
       "Stock          102.00\n",
       "Price         1959.96\n",
       "dtype: float64"
      ]
     },
     "execution_count": 144,
     "metadata": {},
     "output_type": "execute_result"
    }
   ],
   "source": [
    "target_df.select_dtypes(include=np.number).sum()"
   ]
  },
  {
   "cell_type": "markdown",
   "id": "1f52cc57",
   "metadata": {},
   "source": [
    "#### If you have null values in the 'Stock' and 'Price' columns, and you attempt to multiply these columns element-wise, what will happen to the resulting product where null values are involved?"
   ]
  },
  {
   "cell_type": "code",
   "execution_count": 147,
   "id": "9a09c32d",
   "metadata": {},
   "outputs": [
    {
     "data": {
      "text/html": [
       "<div>\n",
       "<style scoped>\n",
       "    .dataframe tbody tr th:only-of-type {\n",
       "        vertical-align: middle;\n",
       "    }\n",
       "\n",
       "    .dataframe tbody tr th {\n",
       "        vertical-align: top;\n",
       "    }\n",
       "\n",
       "    .dataframe thead th {\n",
       "        text-align: right;\n",
       "    }\n",
       "</style>\n",
       "<table border=\"1\" class=\"dataframe\">\n",
       "  <thead>\n",
       "    <tr style=\"text-align: right;\">\n",
       "      <th></th>\n",
       "      <th>Stock</th>\n",
       "      <th>Price</th>\n",
       "    </tr>\n",
       "  </thead>\n",
       "  <tbody>\n",
       "    <tr>\n",
       "      <th>0</th>\n",
       "      <td>20.0</td>\n",
       "      <td>999.99</td>\n",
       "    </tr>\n",
       "    <tr>\n",
       "      <th>1</th>\n",
       "      <td>15.0</td>\n",
       "      <td>799.99</td>\n",
       "    </tr>\n",
       "    <tr>\n",
       "      <th>2</th>\n",
       "      <td>NaN</td>\n",
       "      <td>NaN</td>\n",
       "    </tr>\n",
       "    <tr>\n",
       "      <th>3</th>\n",
       "      <td>30.0</td>\n",
       "      <td>NaN</td>\n",
       "    </tr>\n",
       "    <tr>\n",
       "      <th>4</th>\n",
       "      <td>25.0</td>\n",
       "      <td>59.99</td>\n",
       "    </tr>\n",
       "    <tr>\n",
       "      <th>5</th>\n",
       "      <td>12.0</td>\n",
       "      <td>99.99</td>\n",
       "    </tr>\n",
       "  </tbody>\n",
       "</table>\n",
       "</div>"
      ],
      "text/plain": [
       "   Stock   Price\n",
       "0   20.0  999.99\n",
       "1   15.0  799.99\n",
       "2    NaN     NaN\n",
       "3   30.0     NaN\n",
       "4   25.0   59.99\n",
       "5   12.0   99.99"
      ]
     },
     "execution_count": 147,
     "metadata": {},
     "output_type": "execute_result"
    }
   ],
   "source": [
    "target_df[['Stock', 'Price']]"
   ]
  },
  {
   "cell_type": "code",
   "execution_count": 148,
   "id": "fe7b2156",
   "metadata": {},
   "outputs": [
    {
     "data": {
      "text/plain": [
       "0    19999.80\n",
       "1    11999.85\n",
       "2         NaN\n",
       "3         NaN\n",
       "4     1499.75\n",
       "5     1199.88\n",
       "dtype: float64"
      ]
     },
     "execution_count": 148,
     "metadata": {},
     "output_type": "execute_result"
    }
   ],
   "source": [
    "target_df['Stock'] * target_df['Price']"
   ]
  },
  {
   "cell_type": "markdown",
   "id": "1c711e50",
   "metadata": {},
   "source": [
    "#### How would you use the dropna method to perform an operation, say calculating the mean, only on non-null elements in the 'Stock' column?"
   ]
  },
  {
   "cell_type": "code",
   "execution_count": 154,
   "id": "d1cacdd1",
   "metadata": {},
   "outputs": [
    {
     "data": {
      "text/plain": [
       "17.5"
      ]
     },
     "execution_count": 154,
     "metadata": {},
     "output_type": "execute_result"
    }
   ],
   "source": [
    "target_df.dropna()['Stock'].mean()"
   ]
  },
  {
   "cell_type": "markdown",
   "id": "11683dac",
   "metadata": {},
   "source": [
    "### Propagating"
   ]
  },
  {
   "cell_type": "markdown",
   "id": "b6f14a81",
   "metadata": {},
   "source": [
    "#### How would you propagate the last valid observation in the 'Stock' column to fill NaN values?"
   ]
  },
  {
   "cell_type": "code",
   "execution_count": 160,
   "id": "d0ea931f",
   "metadata": {},
   "outputs": [
    {
     "data": {
      "text/plain": [
       "0    20.0\n",
       "1    15.0\n",
       "2     NaN\n",
       "3    30.0\n",
       "4    25.0\n",
       "5    12.0\n",
       "Name: Stock, dtype: float64"
      ]
     },
     "execution_count": 160,
     "metadata": {},
     "output_type": "execute_result"
    }
   ],
   "source": [
    "target_df['Stock']"
   ]
  },
  {
   "cell_type": "code",
   "execution_count": 161,
   "id": "7512a1da",
   "metadata": {},
   "outputs": [
    {
     "data": {
      "text/plain": [
       "0    20.0\n",
       "1    15.0\n",
       "2    15.0\n",
       "3    30.0\n",
       "4    25.0\n",
       "5    12.0\n",
       "Name: Stock, dtype: float64"
      ]
     },
     "execution_count": 161,
     "metadata": {},
     "output_type": "execute_result"
    }
   ],
   "source": [
    "target_df['Stock'].ffill()"
   ]
  },
  {
   "cell_type": "markdown",
   "id": "61779c65",
   "metadata": {},
   "source": [
    "#### Can you propagate the next valid observation backward to fill NaN values in the 'Price' column? If so, how would you do it?"
   ]
  },
  {
   "cell_type": "code",
   "execution_count": 159,
   "id": "428ca533",
   "metadata": {},
   "outputs": [
    {
     "data": {
      "text/plain": [
       "0    20.0\n",
       "1    15.0\n",
       "2    30.0\n",
       "3    30.0\n",
       "4    25.0\n",
       "5    12.0\n",
       "Name: Stock, dtype: float64"
      ]
     },
     "execution_count": 159,
     "metadata": {},
     "output_type": "execute_result"
    }
   ],
   "source": [
    "target_df['Stock'].bfill()"
   ]
  },
  {
   "cell_type": "markdown",
   "id": "b5c0464e",
   "metadata": {},
   "source": [
    "#### How would you limit the number of NaN values filled by forward fill (or backward fill) to 1 in the 'Stock' column?"
   ]
  },
  {
   "cell_type": "code",
   "execution_count": 162,
   "id": "4a9fadf7",
   "metadata": {},
   "outputs": [
    {
     "data": {
      "text/html": [
       "<div>\n",
       "<style scoped>\n",
       "    .dataframe tbody tr th:only-of-type {\n",
       "        vertical-align: middle;\n",
       "    }\n",
       "\n",
       "    .dataframe tbody tr th {\n",
       "        vertical-align: top;\n",
       "    }\n",
       "\n",
       "    .dataframe thead th {\n",
       "        text-align: right;\n",
       "    }\n",
       "</style>\n",
       "<table border=\"1\" class=\"dataframe\">\n",
       "  <thead>\n",
       "    <tr style=\"text-align: right;\">\n",
       "      <th></th>\n",
       "      <th>Product_ID</th>\n",
       "      <th>Product_Name</th>\n",
       "      <th>Stock</th>\n",
       "      <th>Price</th>\n",
       "      <th>Discounted</th>\n",
       "    </tr>\n",
       "  </thead>\n",
       "  <tbody>\n",
       "    <tr>\n",
       "      <th>0</th>\n",
       "      <td>1.0</td>\n",
       "      <td>Laptop</td>\n",
       "      <td>20.0</td>\n",
       "      <td>999.99</td>\n",
       "      <td>True</td>\n",
       "    </tr>\n",
       "    <tr>\n",
       "      <th>1</th>\n",
       "      <td>2.0</td>\n",
       "      <td>Phone</td>\n",
       "      <td>15.0</td>\n",
       "      <td>799.99</td>\n",
       "      <td>False</td>\n",
       "    </tr>\n",
       "    <tr>\n",
       "      <th>2</th>\n",
       "      <td>3.0</td>\n",
       "      <td>TV</td>\n",
       "      <td>15.0</td>\n",
       "      <td>799.99</td>\n",
       "      <td>True</td>\n",
       "    </tr>\n",
       "    <tr>\n",
       "      <th>3</th>\n",
       "      <td>4.0</td>\n",
       "      <td>Headphones</td>\n",
       "      <td>30.0</td>\n",
       "      <td>NaN</td>\n",
       "      <td>False</td>\n",
       "    </tr>\n",
       "    <tr>\n",
       "      <th>4</th>\n",
       "      <td>5.0</td>\n",
       "      <td>Headphones</td>\n",
       "      <td>25.0</td>\n",
       "      <td>59.99</td>\n",
       "      <td>False</td>\n",
       "    </tr>\n",
       "    <tr>\n",
       "      <th>5</th>\n",
       "      <td>5.0</td>\n",
       "      <td>Microwave</td>\n",
       "      <td>12.0</td>\n",
       "      <td>99.99</td>\n",
       "      <td>True</td>\n",
       "    </tr>\n",
       "  </tbody>\n",
       "</table>\n",
       "</div>"
      ],
      "text/plain": [
       "   Product_ID Product_Name  Stock   Price  Discounted\n",
       "0         1.0       Laptop   20.0  999.99        True\n",
       "1         2.0        Phone   15.0  799.99       False\n",
       "2         3.0           TV   15.0  799.99        True\n",
       "3         4.0   Headphones   30.0     NaN       False\n",
       "4         5.0   Headphones   25.0   59.99       False\n",
       "5         5.0    Microwave   12.0   99.99        True"
      ]
     },
     "execution_count": 162,
     "metadata": {},
     "output_type": "execute_result"
    }
   ],
   "source": [
    "target_df.ffill(limit=1)"
   ]
  },
  {
   "cell_type": "code",
   "execution_count": null,
   "id": "6856ce07",
   "metadata": {},
   "outputs": [],
   "source": []
  }
 ],
 "metadata": {
  "kernelspec": {
   "display_name": "Python 3 (ipykernel)",
   "language": "python",
   "name": "python3"
  },
  "language_info": {
   "codemirror_mode": {
    "name": "ipython",
    "version": 3
   },
   "file_extension": ".py",
   "mimetype": "text/x-python",
   "name": "python",
   "nbconvert_exporter": "python",
   "pygments_lexer": "ipython3",
   "version": "3.8.12"
  }
 },
 "nbformat": 4,
 "nbformat_minor": 5
}

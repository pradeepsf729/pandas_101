{
 "cells": [
  {
   "cell_type": "code",
   "execution_count": 1,
   "id": "b707f3ad",
   "metadata": {},
   "outputs": [],
   "source": [
    "import pandas as pd"
   ]
  },
  {
   "cell_type": "code",
   "execution_count": 2,
   "id": "f6360c82",
   "metadata": {},
   "outputs": [],
   "source": [
    "data = {\n",
    "    'Store_ID': [1001, 1002, 1003, 1004, 1005],\n",
    "    'Store_Name': ['Pet Paradise', 'Animal Kingdom', 'Furry Friends', 'Pet Pals', 'Fauna House'],\n",
    "    'Location': ['New York', 'Los Angeles', 'Chicago', 'Houston', 'Phoenix'],\n",
    "    'Speciality': ['Fish', 'Birds', 'Dogs', 'Cats', 'Reptiles'],\n",
    "    'Rating': [4.5, 4.2, 3.9, 4.7, 4.0]\n",
    "}"
   ]
  },
  {
   "cell_type": "code",
   "execution_count": 3,
   "id": "31723316",
   "metadata": {},
   "outputs": [],
   "source": [
    "df = pd.DataFrame(data)"
   ]
  },
  {
   "cell_type": "code",
   "execution_count": 4,
   "id": "ff2ada7b",
   "metadata": {},
   "outputs": [
    {
     "data": {
      "text/html": [
       "<div>\n",
       "<style scoped>\n",
       "    .dataframe tbody tr th:only-of-type {\n",
       "        vertical-align: middle;\n",
       "    }\n",
       "\n",
       "    .dataframe tbody tr th {\n",
       "        vertical-align: top;\n",
       "    }\n",
       "\n",
       "    .dataframe thead th {\n",
       "        text-align: right;\n",
       "    }\n",
       "</style>\n",
       "<table border=\"1\" class=\"dataframe\">\n",
       "  <thead>\n",
       "    <tr style=\"text-align: right;\">\n",
       "      <th></th>\n",
       "      <th>Store_ID</th>\n",
       "      <th>Store_Name</th>\n",
       "      <th>Location</th>\n",
       "      <th>Speciality</th>\n",
       "      <th>Rating</th>\n",
       "    </tr>\n",
       "  </thead>\n",
       "  <tbody>\n",
       "    <tr>\n",
       "      <th>0</th>\n",
       "      <td>1001</td>\n",
       "      <td>Pet Paradise</td>\n",
       "      <td>New York</td>\n",
       "      <td>Fish</td>\n",
       "      <td>4.5</td>\n",
       "    </tr>\n",
       "    <tr>\n",
       "      <th>1</th>\n",
       "      <td>1002</td>\n",
       "      <td>Animal Kingdom</td>\n",
       "      <td>Los Angeles</td>\n",
       "      <td>Birds</td>\n",
       "      <td>4.2</td>\n",
       "    </tr>\n",
       "    <tr>\n",
       "      <th>2</th>\n",
       "      <td>1003</td>\n",
       "      <td>Furry Friends</td>\n",
       "      <td>Chicago</td>\n",
       "      <td>Dogs</td>\n",
       "      <td>3.9</td>\n",
       "    </tr>\n",
       "    <tr>\n",
       "      <th>3</th>\n",
       "      <td>1004</td>\n",
       "      <td>Pet Pals</td>\n",
       "      <td>Houston</td>\n",
       "      <td>Cats</td>\n",
       "      <td>4.7</td>\n",
       "    </tr>\n",
       "    <tr>\n",
       "      <th>4</th>\n",
       "      <td>1005</td>\n",
       "      <td>Fauna House</td>\n",
       "      <td>Phoenix</td>\n",
       "      <td>Reptiles</td>\n",
       "      <td>4.0</td>\n",
       "    </tr>\n",
       "  </tbody>\n",
       "</table>\n",
       "</div>"
      ],
      "text/plain": [
       "   Store_ID      Store_Name     Location Speciality  Rating\n",
       "0      1001    Pet Paradise     New York       Fish     4.5\n",
       "1      1002  Animal Kingdom  Los Angeles      Birds     4.2\n",
       "2      1003   Furry Friends      Chicago       Dogs     3.9\n",
       "3      1004        Pet Pals      Houston       Cats     4.7\n",
       "4      1005     Fauna House      Phoenix   Reptiles     4.0"
      ]
     },
     "execution_count": 4,
     "metadata": {},
     "output_type": "execute_result"
    }
   ],
   "source": [
    "df"
   ]
  },
  {
   "cell_type": "markdown",
   "id": "0753a911",
   "metadata": {},
   "source": [
    "#### How would you replace all occurrences of 'New York' in the Location column with 'NYC'?"
   ]
  },
  {
   "cell_type": "code",
   "execution_count": 8,
   "id": "3c0fc324",
   "metadata": {},
   "outputs": [
    {
     "data": {
      "text/html": [
       "<div>\n",
       "<style scoped>\n",
       "    .dataframe tbody tr th:only-of-type {\n",
       "        vertical-align: middle;\n",
       "    }\n",
       "\n",
       "    .dataframe tbody tr th {\n",
       "        vertical-align: top;\n",
       "    }\n",
       "\n",
       "    .dataframe thead th {\n",
       "        text-align: right;\n",
       "    }\n",
       "</style>\n",
       "<table border=\"1\" class=\"dataframe\">\n",
       "  <thead>\n",
       "    <tr style=\"text-align: right;\">\n",
       "      <th></th>\n",
       "      <th>Store_ID</th>\n",
       "      <th>Store_Name</th>\n",
       "      <th>Location</th>\n",
       "      <th>Speciality</th>\n",
       "      <th>Rating</th>\n",
       "    </tr>\n",
       "  </thead>\n",
       "  <tbody>\n",
       "    <tr>\n",
       "      <th>0</th>\n",
       "      <td>1001</td>\n",
       "      <td>Pet Paradise</td>\n",
       "      <td>NYC</td>\n",
       "      <td>Fish</td>\n",
       "      <td>4.5</td>\n",
       "    </tr>\n",
       "    <tr>\n",
       "      <th>1</th>\n",
       "      <td>1002</td>\n",
       "      <td>Animal Kingdom</td>\n",
       "      <td>Los Angeles</td>\n",
       "      <td>Birds</td>\n",
       "      <td>4.2</td>\n",
       "    </tr>\n",
       "    <tr>\n",
       "      <th>2</th>\n",
       "      <td>1003</td>\n",
       "      <td>Furry Friends</td>\n",
       "      <td>Chicago</td>\n",
       "      <td>Dogs</td>\n",
       "      <td>3.9</td>\n",
       "    </tr>\n",
       "    <tr>\n",
       "      <th>3</th>\n",
       "      <td>1004</td>\n",
       "      <td>Pet Pals</td>\n",
       "      <td>Houston</td>\n",
       "      <td>Cats</td>\n",
       "      <td>4.7</td>\n",
       "    </tr>\n",
       "    <tr>\n",
       "      <th>4</th>\n",
       "      <td>1005</td>\n",
       "      <td>Fauna House</td>\n",
       "      <td>Phoenix</td>\n",
       "      <td>Reptiles</td>\n",
       "      <td>4.0</td>\n",
       "    </tr>\n",
       "  </tbody>\n",
       "</table>\n",
       "</div>"
      ],
      "text/plain": [
       "   Store_ID      Store_Name     Location Speciality  Rating\n",
       "0      1001    Pet Paradise          NYC       Fish     4.5\n",
       "1      1002  Animal Kingdom  Los Angeles      Birds     4.2\n",
       "2      1003   Furry Friends      Chicago       Dogs     3.9\n",
       "3      1004        Pet Pals      Houston       Cats     4.7\n",
       "4      1005     Fauna House      Phoenix   Reptiles     4.0"
      ]
     },
     "execution_count": 8,
     "metadata": {},
     "output_type": "execute_result"
    }
   ],
   "source": [
    "df.replace(to_replace={'Location':'New York'}, value='NYC')"
   ]
  },
  {
   "cell_type": "markdown",
   "id": "1686c7f7",
   "metadata": {},
   "source": [
    "#### If you wanted to change ratings of 4.5 to 5, how would you use the replace method for this task?"
   ]
  },
  {
   "cell_type": "code",
   "execution_count": 9,
   "id": "9cade65a",
   "metadata": {},
   "outputs": [
    {
     "data": {
      "text/html": [
       "<div>\n",
       "<style scoped>\n",
       "    .dataframe tbody tr th:only-of-type {\n",
       "        vertical-align: middle;\n",
       "    }\n",
       "\n",
       "    .dataframe tbody tr th {\n",
       "        vertical-align: top;\n",
       "    }\n",
       "\n",
       "    .dataframe thead th {\n",
       "        text-align: right;\n",
       "    }\n",
       "</style>\n",
       "<table border=\"1\" class=\"dataframe\">\n",
       "  <thead>\n",
       "    <tr style=\"text-align: right;\">\n",
       "      <th></th>\n",
       "      <th>Store_ID</th>\n",
       "      <th>Store_Name</th>\n",
       "      <th>Location</th>\n",
       "      <th>Speciality</th>\n",
       "      <th>Rating</th>\n",
       "    </tr>\n",
       "  </thead>\n",
       "  <tbody>\n",
       "    <tr>\n",
       "      <th>0</th>\n",
       "      <td>1001</td>\n",
       "      <td>Pet Paradise</td>\n",
       "      <td>New York</td>\n",
       "      <td>Fish</td>\n",
       "      <td>5.0</td>\n",
       "    </tr>\n",
       "    <tr>\n",
       "      <th>1</th>\n",
       "      <td>1002</td>\n",
       "      <td>Animal Kingdom</td>\n",
       "      <td>Los Angeles</td>\n",
       "      <td>Birds</td>\n",
       "      <td>4.2</td>\n",
       "    </tr>\n",
       "    <tr>\n",
       "      <th>2</th>\n",
       "      <td>1003</td>\n",
       "      <td>Furry Friends</td>\n",
       "      <td>Chicago</td>\n",
       "      <td>Dogs</td>\n",
       "      <td>3.9</td>\n",
       "    </tr>\n",
       "    <tr>\n",
       "      <th>3</th>\n",
       "      <td>1004</td>\n",
       "      <td>Pet Pals</td>\n",
       "      <td>Houston</td>\n",
       "      <td>Cats</td>\n",
       "      <td>4.7</td>\n",
       "    </tr>\n",
       "    <tr>\n",
       "      <th>4</th>\n",
       "      <td>1005</td>\n",
       "      <td>Fauna House</td>\n",
       "      <td>Phoenix</td>\n",
       "      <td>Reptiles</td>\n",
       "      <td>4.0</td>\n",
       "    </tr>\n",
       "  </tbody>\n",
       "</table>\n",
       "</div>"
      ],
      "text/plain": [
       "   Store_ID      Store_Name     Location Speciality  Rating\n",
       "0      1001    Pet Paradise     New York       Fish     5.0\n",
       "1      1002  Animal Kingdom  Los Angeles      Birds     4.2\n",
       "2      1003   Furry Friends      Chicago       Dogs     3.9\n",
       "3      1004        Pet Pals      Houston       Cats     4.7\n",
       "4      1005     Fauna House      Phoenix   Reptiles     4.0"
      ]
     },
     "execution_count": 9,
     "metadata": {},
     "output_type": "execute_result"
    }
   ],
   "source": [
    "df.replace(to_replace={'Rating': 4.5}, value=5.0)"
   ]
  },
  {
   "cell_type": "markdown",
   "id": "99f6506e",
   "metadata": {},
   "source": [
    "#### How can you replace the speciality 'Dogs' with 'Canines' in the DataFrame?"
   ]
  },
  {
   "cell_type": "code",
   "execution_count": 10,
   "id": "69f17109",
   "metadata": {},
   "outputs": [
    {
     "data": {
      "text/html": [
       "<div>\n",
       "<style scoped>\n",
       "    .dataframe tbody tr th:only-of-type {\n",
       "        vertical-align: middle;\n",
       "    }\n",
       "\n",
       "    .dataframe tbody tr th {\n",
       "        vertical-align: top;\n",
       "    }\n",
       "\n",
       "    .dataframe thead th {\n",
       "        text-align: right;\n",
       "    }\n",
       "</style>\n",
       "<table border=\"1\" class=\"dataframe\">\n",
       "  <thead>\n",
       "    <tr style=\"text-align: right;\">\n",
       "      <th></th>\n",
       "      <th>Store_ID</th>\n",
       "      <th>Store_Name</th>\n",
       "      <th>Location</th>\n",
       "      <th>Speciality</th>\n",
       "      <th>Rating</th>\n",
       "    </tr>\n",
       "  </thead>\n",
       "  <tbody>\n",
       "    <tr>\n",
       "      <th>0</th>\n",
       "      <td>1001</td>\n",
       "      <td>Pet Paradise</td>\n",
       "      <td>New York</td>\n",
       "      <td>Fish</td>\n",
       "      <td>4.5</td>\n",
       "    </tr>\n",
       "    <tr>\n",
       "      <th>1</th>\n",
       "      <td>1002</td>\n",
       "      <td>Animal Kingdom</td>\n",
       "      <td>Los Angeles</td>\n",
       "      <td>Birds</td>\n",
       "      <td>4.2</td>\n",
       "    </tr>\n",
       "    <tr>\n",
       "      <th>2</th>\n",
       "      <td>1003</td>\n",
       "      <td>Furry Friends</td>\n",
       "      <td>Chicago</td>\n",
       "      <td>Canines</td>\n",
       "      <td>3.9</td>\n",
       "    </tr>\n",
       "    <tr>\n",
       "      <th>3</th>\n",
       "      <td>1004</td>\n",
       "      <td>Pet Pals</td>\n",
       "      <td>Houston</td>\n",
       "      <td>Cats</td>\n",
       "      <td>4.7</td>\n",
       "    </tr>\n",
       "    <tr>\n",
       "      <th>4</th>\n",
       "      <td>1005</td>\n",
       "      <td>Fauna House</td>\n",
       "      <td>Phoenix</td>\n",
       "      <td>Reptiles</td>\n",
       "      <td>4.0</td>\n",
       "    </tr>\n",
       "  </tbody>\n",
       "</table>\n",
       "</div>"
      ],
      "text/plain": [
       "   Store_ID      Store_Name     Location Speciality  Rating\n",
       "0      1001    Pet Paradise     New York       Fish     4.5\n",
       "1      1002  Animal Kingdom  Los Angeles      Birds     4.2\n",
       "2      1003   Furry Friends      Chicago    Canines     3.9\n",
       "3      1004        Pet Pals      Houston       Cats     4.7\n",
       "4      1005     Fauna House      Phoenix   Reptiles     4.0"
      ]
     },
     "execution_count": 10,
     "metadata": {},
     "output_type": "execute_result"
    }
   ],
   "source": [
    "df.replace(to_replace={'Speciality': 'Dogs'}, value='Canines')"
   ]
  },
  {
   "cell_type": "markdown",
   "id": "7d3a4cb6",
   "metadata": {},
   "source": [
    "#### If you had a dictionary of old and new store names, how would you apply the replace method to update the store names in the DataFrame?"
   ]
  },
  {
   "cell_type": "code",
   "execution_count": 11,
   "id": "8d9deca1",
   "metadata": {},
   "outputs": [],
   "source": [
    "updated_store_names = {'Pet Paradise' : 'My Pet Paradise', 'Pet Pals' : 'Pet Friends'}"
   ]
  },
  {
   "cell_type": "code",
   "execution_count": 13,
   "id": "9d48ad0c",
   "metadata": {},
   "outputs": [
    {
     "data": {
      "text/html": [
       "<div>\n",
       "<style scoped>\n",
       "    .dataframe tbody tr th:only-of-type {\n",
       "        vertical-align: middle;\n",
       "    }\n",
       "\n",
       "    .dataframe tbody tr th {\n",
       "        vertical-align: top;\n",
       "    }\n",
       "\n",
       "    .dataframe thead th {\n",
       "        text-align: right;\n",
       "    }\n",
       "</style>\n",
       "<table border=\"1\" class=\"dataframe\">\n",
       "  <thead>\n",
       "    <tr style=\"text-align: right;\">\n",
       "      <th></th>\n",
       "      <th>Store_ID</th>\n",
       "      <th>Store_Name</th>\n",
       "      <th>Location</th>\n",
       "      <th>Speciality</th>\n",
       "      <th>Rating</th>\n",
       "    </tr>\n",
       "  </thead>\n",
       "  <tbody>\n",
       "    <tr>\n",
       "      <th>0</th>\n",
       "      <td>1001</td>\n",
       "      <td>My Pet Paradise</td>\n",
       "      <td>New York</td>\n",
       "      <td>Fish</td>\n",
       "      <td>4.5</td>\n",
       "    </tr>\n",
       "    <tr>\n",
       "      <th>1</th>\n",
       "      <td>1002</td>\n",
       "      <td>Animal Kingdom</td>\n",
       "      <td>Los Angeles</td>\n",
       "      <td>Birds</td>\n",
       "      <td>4.2</td>\n",
       "    </tr>\n",
       "    <tr>\n",
       "      <th>2</th>\n",
       "      <td>1003</td>\n",
       "      <td>Furry Friends</td>\n",
       "      <td>Chicago</td>\n",
       "      <td>Dogs</td>\n",
       "      <td>3.9</td>\n",
       "    </tr>\n",
       "    <tr>\n",
       "      <th>3</th>\n",
       "      <td>1004</td>\n",
       "      <td>Pet Friends</td>\n",
       "      <td>Houston</td>\n",
       "      <td>Cats</td>\n",
       "      <td>4.7</td>\n",
       "    </tr>\n",
       "    <tr>\n",
       "      <th>4</th>\n",
       "      <td>1005</td>\n",
       "      <td>Fauna House</td>\n",
       "      <td>Phoenix</td>\n",
       "      <td>Reptiles</td>\n",
       "      <td>4.0</td>\n",
       "    </tr>\n",
       "  </tbody>\n",
       "</table>\n",
       "</div>"
      ],
      "text/plain": [
       "   Store_ID       Store_Name     Location Speciality  Rating\n",
       "0      1001  My Pet Paradise     New York       Fish     4.5\n",
       "1      1002   Animal Kingdom  Los Angeles      Birds     4.2\n",
       "2      1003    Furry Friends      Chicago       Dogs     3.9\n",
       "3      1004      Pet Friends      Houston       Cats     4.7\n",
       "4      1005      Fauna House      Phoenix   Reptiles     4.0"
      ]
     },
     "execution_count": 13,
     "metadata": {},
     "output_type": "execute_result"
    }
   ],
   "source": [
    "df.replace(to_replace=updated_store_names)"
   ]
  },
  {
   "cell_type": "markdown",
   "id": "87011906",
   "metadata": {},
   "source": [
    "#### How would you replace ratings below 4 with a string 'Low Rating'?"
   ]
  },
  {
   "cell_type": "code",
   "execution_count": 27,
   "id": "8d1d0c26",
   "metadata": {},
   "outputs": [
    {
     "data": {
      "text/plain": [
       "[3.9]"
      ]
     },
     "execution_count": 27,
     "metadata": {},
     "output_type": "execute_result"
    }
   ],
   "source": [
    "df.loc[df['Rating'] < 4.0].loc[:, 'Rating'].tolist()"
   ]
  },
  {
   "cell_type": "code",
   "execution_count": 28,
   "id": "c41ad943",
   "metadata": {},
   "outputs": [
    {
     "data": {
      "text/html": [
       "<div>\n",
       "<style scoped>\n",
       "    .dataframe tbody tr th:only-of-type {\n",
       "        vertical-align: middle;\n",
       "    }\n",
       "\n",
       "    .dataframe tbody tr th {\n",
       "        vertical-align: top;\n",
       "    }\n",
       "\n",
       "    .dataframe thead th {\n",
       "        text-align: right;\n",
       "    }\n",
       "</style>\n",
       "<table border=\"1\" class=\"dataframe\">\n",
       "  <thead>\n",
       "    <tr style=\"text-align: right;\">\n",
       "      <th></th>\n",
       "      <th>Store_ID</th>\n",
       "      <th>Store_Name</th>\n",
       "      <th>Location</th>\n",
       "      <th>Speciality</th>\n",
       "      <th>Rating</th>\n",
       "    </tr>\n",
       "  </thead>\n",
       "  <tbody>\n",
       "    <tr>\n",
       "      <th>0</th>\n",
       "      <td>1001</td>\n",
       "      <td>Pet Paradise</td>\n",
       "      <td>New York</td>\n",
       "      <td>Fish</td>\n",
       "      <td>4.5</td>\n",
       "    </tr>\n",
       "    <tr>\n",
       "      <th>1</th>\n",
       "      <td>1002</td>\n",
       "      <td>Animal Kingdom</td>\n",
       "      <td>Los Angeles</td>\n",
       "      <td>Birds</td>\n",
       "      <td>4.2</td>\n",
       "    </tr>\n",
       "    <tr>\n",
       "      <th>2</th>\n",
       "      <td>1003</td>\n",
       "      <td>Furry Friends</td>\n",
       "      <td>Chicago</td>\n",
       "      <td>Dogs</td>\n",
       "      <td>Low Rating</td>\n",
       "    </tr>\n",
       "    <tr>\n",
       "      <th>3</th>\n",
       "      <td>1004</td>\n",
       "      <td>Pet Pals</td>\n",
       "      <td>Houston</td>\n",
       "      <td>Cats</td>\n",
       "      <td>4.7</td>\n",
       "    </tr>\n",
       "    <tr>\n",
       "      <th>4</th>\n",
       "      <td>1005</td>\n",
       "      <td>Fauna House</td>\n",
       "      <td>Phoenix</td>\n",
       "      <td>Reptiles</td>\n",
       "      <td>4.0</td>\n",
       "    </tr>\n",
       "  </tbody>\n",
       "</table>\n",
       "</div>"
      ],
      "text/plain": [
       "   Store_ID      Store_Name     Location Speciality      Rating\n",
       "0      1001    Pet Paradise     New York       Fish         4.5\n",
       "1      1002  Animal Kingdom  Los Angeles      Birds         4.2\n",
       "2      1003   Furry Friends      Chicago       Dogs  Low Rating\n",
       "3      1004        Pet Pals      Houston       Cats         4.7\n",
       "4      1005     Fauna House      Phoenix   Reptiles         4.0"
      ]
     },
     "execution_count": 28,
     "metadata": {},
     "output_type": "execute_result"
    }
   ],
   "source": [
    "df.replace(to_replace=df.loc[df['Rating'] < 4.0].loc[:, 'Rating'].tolist(), value='Low Rating')"
   ]
  },
  {
   "cell_type": "code",
   "execution_count": null,
   "id": "be66fb84",
   "metadata": {},
   "outputs": [],
   "source": []
  }
 ],
 "metadata": {
  "kernelspec": {
   "display_name": "Python 3 (ipykernel)",
   "language": "python",
   "name": "python3"
  },
  "language_info": {
   "codemirror_mode": {
    "name": "ipython",
    "version": 3
   },
   "file_extension": ".py",
   "mimetype": "text/x-python",
   "name": "python",
   "nbconvert_exporter": "python",
   "pygments_lexer": "ipython3",
   "version": "3.8.12"
  }
 },
 "nbformat": 4,
 "nbformat_minor": 5
}

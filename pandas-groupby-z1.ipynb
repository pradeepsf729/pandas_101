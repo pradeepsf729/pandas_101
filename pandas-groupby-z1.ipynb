{
 "cells": [
  {
   "cell_type": "code",
   "execution_count": 2,
   "id": "183943bb",
   "metadata": {},
   "outputs": [],
   "source": [
    "import pandas as pd"
   ]
  },
  {
   "cell_type": "code",
   "execution_count": 3,
   "id": "3fc8ce90",
   "metadata": {},
   "outputs": [],
   "source": [
    "import pandas as pd\n",
    "\n",
    "data = {\n",
    "'Shop_Name': ['Starbucks', 'Blue Bottle', 'Dunkin', 'Peets', 'Starbucks', 'La Colombe', 'Blue Bottle', 'Peets', 'Starbucks', 'Dunkin'],\n",
    "'Location': ['Hollywood', 'San Diego', 'San Diego', 'Hollywood', 'New York', 'New York', 'Hollywood', 'San Diego', 'New York', 'Hollywood'],\n",
    "'Rating': [4.5, 4.7, 4.1, 4.3, 4.5, 4.8, 4.6, 4.2, 4.4, 3.9],\n",
    "'Type': ['Chain', 'Independent', 'Chain', 'Chain', 'Chain', 'Independent', 'Independent', 'Chain', 'Chain', 'Chain']\n",
    "}\n",
    "\n",
    "coffee_shops = pd.DataFrame(data)"
   ]
  },
  {
   "cell_type": "code",
   "execution_count": 4,
   "id": "d6e5ff66",
   "metadata": {},
   "outputs": [
    {
     "data": {
      "text/html": [
       "<div>\n",
       "<style scoped>\n",
       "    .dataframe tbody tr th:only-of-type {\n",
       "        vertical-align: middle;\n",
       "    }\n",
       "\n",
       "    .dataframe tbody tr th {\n",
       "        vertical-align: top;\n",
       "    }\n",
       "\n",
       "    .dataframe thead th {\n",
       "        text-align: right;\n",
       "    }\n",
       "</style>\n",
       "<table border=\"1\" class=\"dataframe\">\n",
       "  <thead>\n",
       "    <tr style=\"text-align: right;\">\n",
       "      <th></th>\n",
       "      <th>Shop_Name</th>\n",
       "      <th>Location</th>\n",
       "      <th>Rating</th>\n",
       "      <th>Type</th>\n",
       "    </tr>\n",
       "  </thead>\n",
       "  <tbody>\n",
       "    <tr>\n",
       "      <th>0</th>\n",
       "      <td>Starbucks</td>\n",
       "      <td>Hollywood</td>\n",
       "      <td>4.5</td>\n",
       "      <td>Chain</td>\n",
       "    </tr>\n",
       "    <tr>\n",
       "      <th>1</th>\n",
       "      <td>Blue Bottle</td>\n",
       "      <td>San Diego</td>\n",
       "      <td>4.7</td>\n",
       "      <td>Independent</td>\n",
       "    </tr>\n",
       "    <tr>\n",
       "      <th>2</th>\n",
       "      <td>Dunkin</td>\n",
       "      <td>San Diego</td>\n",
       "      <td>4.1</td>\n",
       "      <td>Chain</td>\n",
       "    </tr>\n",
       "    <tr>\n",
       "      <th>3</th>\n",
       "      <td>Peets</td>\n",
       "      <td>Hollywood</td>\n",
       "      <td>4.3</td>\n",
       "      <td>Chain</td>\n",
       "    </tr>\n",
       "    <tr>\n",
       "      <th>4</th>\n",
       "      <td>Starbucks</td>\n",
       "      <td>New York</td>\n",
       "      <td>4.5</td>\n",
       "      <td>Chain</td>\n",
       "    </tr>\n",
       "    <tr>\n",
       "      <th>5</th>\n",
       "      <td>La Colombe</td>\n",
       "      <td>New York</td>\n",
       "      <td>4.8</td>\n",
       "      <td>Independent</td>\n",
       "    </tr>\n",
       "    <tr>\n",
       "      <th>6</th>\n",
       "      <td>Blue Bottle</td>\n",
       "      <td>Hollywood</td>\n",
       "      <td>4.6</td>\n",
       "      <td>Independent</td>\n",
       "    </tr>\n",
       "    <tr>\n",
       "      <th>7</th>\n",
       "      <td>Peets</td>\n",
       "      <td>San Diego</td>\n",
       "      <td>4.2</td>\n",
       "      <td>Chain</td>\n",
       "    </tr>\n",
       "    <tr>\n",
       "      <th>8</th>\n",
       "      <td>Starbucks</td>\n",
       "      <td>New York</td>\n",
       "      <td>4.4</td>\n",
       "      <td>Chain</td>\n",
       "    </tr>\n",
       "    <tr>\n",
       "      <th>9</th>\n",
       "      <td>Dunkin</td>\n",
       "      <td>Hollywood</td>\n",
       "      <td>3.9</td>\n",
       "      <td>Chain</td>\n",
       "    </tr>\n",
       "  </tbody>\n",
       "</table>\n",
       "</div>"
      ],
      "text/plain": [
       "     Shop_Name   Location  Rating         Type\n",
       "0    Starbucks  Hollywood     4.5        Chain\n",
       "1  Blue Bottle  San Diego     4.7  Independent\n",
       "2       Dunkin  San Diego     4.1        Chain\n",
       "3        Peets  Hollywood     4.3        Chain\n",
       "4    Starbucks   New York     4.5        Chain\n",
       "5   La Colombe   New York     4.8  Independent\n",
       "6  Blue Bottle  Hollywood     4.6  Independent\n",
       "7        Peets  San Diego     4.2        Chain\n",
       "8    Starbucks   New York     4.4        Chain\n",
       "9       Dunkin  Hollywood     3.9        Chain"
      ]
     },
     "execution_count": 4,
     "metadata": {},
     "output_type": "execute_result"
    }
   ],
   "source": [
    "coffee_shops"
   ]
  },
  {
   "cell_type": "markdown",
   "id": "6e5cb272",
   "metadata": {},
   "source": [
    "#### How would you group the data by the Location column and retrieve the first entry for each group?"
   ]
  },
  {
   "cell_type": "code",
   "execution_count": 5,
   "id": "f8fe2737",
   "metadata": {},
   "outputs": [
    {
     "data": {
      "text/html": [
       "<div>\n",
       "<style scoped>\n",
       "    .dataframe tbody tr th:only-of-type {\n",
       "        vertical-align: middle;\n",
       "    }\n",
       "\n",
       "    .dataframe tbody tr th {\n",
       "        vertical-align: top;\n",
       "    }\n",
       "\n",
       "    .dataframe thead th {\n",
       "        text-align: right;\n",
       "    }\n",
       "</style>\n",
       "<table border=\"1\" class=\"dataframe\">\n",
       "  <thead>\n",
       "    <tr style=\"text-align: right;\">\n",
       "      <th></th>\n",
       "      <th>Shop_Name</th>\n",
       "      <th>Location</th>\n",
       "      <th>Rating</th>\n",
       "      <th>Type</th>\n",
       "    </tr>\n",
       "  </thead>\n",
       "  <tbody>\n",
       "    <tr>\n",
       "      <th>0</th>\n",
       "      <td>Starbucks</td>\n",
       "      <td>Hollywood</td>\n",
       "      <td>4.5</td>\n",
       "      <td>Chain</td>\n",
       "    </tr>\n",
       "    <tr>\n",
       "      <th>1</th>\n",
       "      <td>Blue Bottle</td>\n",
       "      <td>San Diego</td>\n",
       "      <td>4.7</td>\n",
       "      <td>Independent</td>\n",
       "    </tr>\n",
       "    <tr>\n",
       "      <th>4</th>\n",
       "      <td>Starbucks</td>\n",
       "      <td>New York</td>\n",
       "      <td>4.5</td>\n",
       "      <td>Chain</td>\n",
       "    </tr>\n",
       "  </tbody>\n",
       "</table>\n",
       "</div>"
      ],
      "text/plain": [
       "     Shop_Name   Location  Rating         Type\n",
       "0    Starbucks  Hollywood     4.5        Chain\n",
       "1  Blue Bottle  San Diego     4.7  Independent\n",
       "4    Starbucks   New York     4.5        Chain"
      ]
     },
     "execution_count": 5,
     "metadata": {},
     "output_type": "execute_result"
    }
   ],
   "source": [
    "coffee_shops.groupby(by='Location').head(1)"
   ]
  },
  {
   "cell_type": "markdown",
   "id": "f6192c4e",
   "metadata": {},
   "source": [
    "#### Group the data by the Type column. How many entries are there for each type of coffee shop?"
   ]
  },
  {
   "cell_type": "code",
   "execution_count": 6,
   "id": "7b1768af",
   "metadata": {},
   "outputs": [
    {
     "data": {
      "text/html": [
       "<div>\n",
       "<style scoped>\n",
       "    .dataframe tbody tr th:only-of-type {\n",
       "        vertical-align: middle;\n",
       "    }\n",
       "\n",
       "    .dataframe tbody tr th {\n",
       "        vertical-align: top;\n",
       "    }\n",
       "\n",
       "    .dataframe thead th {\n",
       "        text-align: right;\n",
       "    }\n",
       "</style>\n",
       "<table border=\"1\" class=\"dataframe\">\n",
       "  <thead>\n",
       "    <tr style=\"text-align: right;\">\n",
       "      <th></th>\n",
       "      <th>Shop_Name</th>\n",
       "    </tr>\n",
       "    <tr>\n",
       "      <th>Type</th>\n",
       "      <th></th>\n",
       "    </tr>\n",
       "  </thead>\n",
       "  <tbody>\n",
       "    <tr>\n",
       "      <th>Chain</th>\n",
       "      <td>7</td>\n",
       "    </tr>\n",
       "    <tr>\n",
       "      <th>Independent</th>\n",
       "      <td>3</td>\n",
       "    </tr>\n",
       "  </tbody>\n",
       "</table>\n",
       "</div>"
      ],
      "text/plain": [
       "             Shop_Name\n",
       "Type                  \n",
       "Chain                7\n",
       "Independent          3"
      ]
     },
     "execution_count": 6,
     "metadata": {},
     "output_type": "execute_result"
    }
   ],
   "source": [
    "coffee_shops.groupby('Type').agg({'Shop_Name':'count'})"
   ]
  },
  {
   "cell_type": "markdown",
   "id": "89fde430",
   "metadata": {},
   "source": [
    "#### By grouping data by the Shop_Name column, can you find the average rating for each shop?"
   ]
  },
  {
   "cell_type": "code",
   "execution_count": 7,
   "id": "d7f9aa9d",
   "metadata": {},
   "outputs": [
    {
     "data": {
      "text/html": [
       "<div>\n",
       "<style scoped>\n",
       "    .dataframe tbody tr th:only-of-type {\n",
       "        vertical-align: middle;\n",
       "    }\n",
       "\n",
       "    .dataframe tbody tr th {\n",
       "        vertical-align: top;\n",
       "    }\n",
       "\n",
       "    .dataframe thead th {\n",
       "        text-align: right;\n",
       "    }\n",
       "</style>\n",
       "<table border=\"1\" class=\"dataframe\">\n",
       "  <thead>\n",
       "    <tr style=\"text-align: right;\">\n",
       "      <th></th>\n",
       "      <th>Rating</th>\n",
       "    </tr>\n",
       "    <tr>\n",
       "      <th>Shop_Name</th>\n",
       "      <th></th>\n",
       "    </tr>\n",
       "  </thead>\n",
       "  <tbody>\n",
       "    <tr>\n",
       "      <th>Blue Bottle</th>\n",
       "      <td>4.650000</td>\n",
       "    </tr>\n",
       "    <tr>\n",
       "      <th>Dunkin</th>\n",
       "      <td>4.000000</td>\n",
       "    </tr>\n",
       "    <tr>\n",
       "      <th>La Colombe</th>\n",
       "      <td>4.800000</td>\n",
       "    </tr>\n",
       "    <tr>\n",
       "      <th>Peets</th>\n",
       "      <td>4.250000</td>\n",
       "    </tr>\n",
       "    <tr>\n",
       "      <th>Starbucks</th>\n",
       "      <td>4.466667</td>\n",
       "    </tr>\n",
       "  </tbody>\n",
       "</table>\n",
       "</div>"
      ],
      "text/plain": [
       "               Rating\n",
       "Shop_Name            \n",
       "Blue Bottle  4.650000\n",
       "Dunkin       4.000000\n",
       "La Colombe   4.800000\n",
       "Peets        4.250000\n",
       "Starbucks    4.466667"
      ]
     },
     "execution_count": 7,
     "metadata": {},
     "output_type": "execute_result"
    }
   ],
   "source": [
    "coffee_shops.groupby('Shop_Name').agg({'Rating':'mean'})"
   ]
  },
  {
   "cell_type": "markdown",
   "id": "dac18a50",
   "metadata": {},
   "source": [
    "#### Group the data by both Location and Type. How many 'Chain' coffee shops are there in 'Hollywood'?"
   ]
  },
  {
   "cell_type": "code",
   "execution_count": 8,
   "id": "89da2544",
   "metadata": {},
   "outputs": [],
   "source": [
    "df = coffee_shops.groupby(['Location', 'Type']).count()"
   ]
  },
  {
   "cell_type": "code",
   "execution_count": 9,
   "id": "3fca640f",
   "metadata": {},
   "outputs": [
    {
     "data": {
      "text/plain": [
       "3"
      ]
     },
     "execution_count": 9,
     "metadata": {},
     "output_type": "execute_result"
    }
   ],
   "source": [
    "df.loc[('Hollywood',       'Chain')][0]"
   ]
  },
  {
   "cell_type": "markdown",
   "id": "b782e950",
   "metadata": {},
   "source": [
    "#### If you group the data by Location, which location has the highest average rating?"
   ]
  },
  {
   "cell_type": "code",
   "execution_count": 10,
   "id": "89c748d4",
   "metadata": {},
   "outputs": [],
   "source": [
    "rating_in_order = coffee_shops.groupby('Location').agg({'Rating':'mean'}).sort_values('Rating', ascending=False)"
   ]
  },
  {
   "cell_type": "code",
   "execution_count": 11,
   "id": "192038eb",
   "metadata": {},
   "outputs": [
    {
     "data": {
      "text/html": [
       "<div>\n",
       "<style scoped>\n",
       "    .dataframe tbody tr th:only-of-type {\n",
       "        vertical-align: middle;\n",
       "    }\n",
       "\n",
       "    .dataframe tbody tr th {\n",
       "        vertical-align: top;\n",
       "    }\n",
       "\n",
       "    .dataframe thead th {\n",
       "        text-align: right;\n",
       "    }\n",
       "</style>\n",
       "<table border=\"1\" class=\"dataframe\">\n",
       "  <thead>\n",
       "    <tr style=\"text-align: right;\">\n",
       "      <th></th>\n",
       "      <th>Rating</th>\n",
       "    </tr>\n",
       "    <tr>\n",
       "      <th>Location</th>\n",
       "      <th></th>\n",
       "    </tr>\n",
       "  </thead>\n",
       "  <tbody>\n",
       "    <tr>\n",
       "      <th>New York</th>\n",
       "      <td>4.566667</td>\n",
       "    </tr>\n",
       "    <tr>\n",
       "      <th>San Diego</th>\n",
       "      <td>4.333333</td>\n",
       "    </tr>\n",
       "    <tr>\n",
       "      <th>Hollywood</th>\n",
       "      <td>4.325000</td>\n",
       "    </tr>\n",
       "  </tbody>\n",
       "</table>\n",
       "</div>"
      ],
      "text/plain": [
       "             Rating\n",
       "Location           \n",
       "New York   4.566667\n",
       "San Diego  4.333333\n",
       "Hollywood  4.325000"
      ]
     },
     "execution_count": 11,
     "metadata": {},
     "output_type": "execute_result"
    }
   ],
   "source": [
    "rating_in_order"
   ]
  },
  {
   "cell_type": "code",
   "execution_count": 12,
   "id": "d2f325d7",
   "metadata": {},
   "outputs": [
    {
     "data": {
      "text/plain": [
       "'New York'"
      ]
     },
     "execution_count": 12,
     "metadata": {},
     "output_type": "execute_result"
    }
   ],
   "source": [
    "rating_in_order.iloc[0].name"
   ]
  },
  {
   "cell_type": "markdown",
   "id": "e95deef1",
   "metadata": {},
   "source": [
    "#### Group the data by Shop_Name. Which shop appears most frequently in the dataset?"
   ]
  },
  {
   "cell_type": "code",
   "execution_count": 13,
   "id": "7e2c0493",
   "metadata": {},
   "outputs": [
    {
     "data": {
      "text/html": [
       "<div>\n",
       "<style scoped>\n",
       "    .dataframe tbody tr th:only-of-type {\n",
       "        vertical-align: middle;\n",
       "    }\n",
       "\n",
       "    .dataframe tbody tr th {\n",
       "        vertical-align: top;\n",
       "    }\n",
       "\n",
       "    .dataframe thead th {\n",
       "        text-align: right;\n",
       "    }\n",
       "</style>\n",
       "<table border=\"1\" class=\"dataframe\">\n",
       "  <thead>\n",
       "    <tr style=\"text-align: right;\">\n",
       "      <th></th>\n",
       "      <th>Shop_Name</th>\n",
       "      <th>Location</th>\n",
       "      <th>Rating</th>\n",
       "      <th>Type</th>\n",
       "    </tr>\n",
       "  </thead>\n",
       "  <tbody>\n",
       "    <tr>\n",
       "      <th>0</th>\n",
       "      <td>Starbucks</td>\n",
       "      <td>Hollywood</td>\n",
       "      <td>4.5</td>\n",
       "      <td>Chain</td>\n",
       "    </tr>\n",
       "    <tr>\n",
       "      <th>1</th>\n",
       "      <td>Blue Bottle</td>\n",
       "      <td>San Diego</td>\n",
       "      <td>4.7</td>\n",
       "      <td>Independent</td>\n",
       "    </tr>\n",
       "    <tr>\n",
       "      <th>2</th>\n",
       "      <td>Dunkin</td>\n",
       "      <td>San Diego</td>\n",
       "      <td>4.1</td>\n",
       "      <td>Chain</td>\n",
       "    </tr>\n",
       "    <tr>\n",
       "      <th>3</th>\n",
       "      <td>Peets</td>\n",
       "      <td>Hollywood</td>\n",
       "      <td>4.3</td>\n",
       "      <td>Chain</td>\n",
       "    </tr>\n",
       "    <tr>\n",
       "      <th>4</th>\n",
       "      <td>Starbucks</td>\n",
       "      <td>New York</td>\n",
       "      <td>4.5</td>\n",
       "      <td>Chain</td>\n",
       "    </tr>\n",
       "    <tr>\n",
       "      <th>5</th>\n",
       "      <td>La Colombe</td>\n",
       "      <td>New York</td>\n",
       "      <td>4.8</td>\n",
       "      <td>Independent</td>\n",
       "    </tr>\n",
       "    <tr>\n",
       "      <th>6</th>\n",
       "      <td>Blue Bottle</td>\n",
       "      <td>Hollywood</td>\n",
       "      <td>4.6</td>\n",
       "      <td>Independent</td>\n",
       "    </tr>\n",
       "    <tr>\n",
       "      <th>7</th>\n",
       "      <td>Peets</td>\n",
       "      <td>San Diego</td>\n",
       "      <td>4.2</td>\n",
       "      <td>Chain</td>\n",
       "    </tr>\n",
       "    <tr>\n",
       "      <th>8</th>\n",
       "      <td>Starbucks</td>\n",
       "      <td>New York</td>\n",
       "      <td>4.4</td>\n",
       "      <td>Chain</td>\n",
       "    </tr>\n",
       "    <tr>\n",
       "      <th>9</th>\n",
       "      <td>Dunkin</td>\n",
       "      <td>Hollywood</td>\n",
       "      <td>3.9</td>\n",
       "      <td>Chain</td>\n",
       "    </tr>\n",
       "  </tbody>\n",
       "</table>\n",
       "</div>"
      ],
      "text/plain": [
       "     Shop_Name   Location  Rating         Type\n",
       "0    Starbucks  Hollywood     4.5        Chain\n",
       "1  Blue Bottle  San Diego     4.7  Independent\n",
       "2       Dunkin  San Diego     4.1        Chain\n",
       "3        Peets  Hollywood     4.3        Chain\n",
       "4    Starbucks   New York     4.5        Chain\n",
       "5   La Colombe   New York     4.8  Independent\n",
       "6  Blue Bottle  Hollywood     4.6  Independent\n",
       "7        Peets  San Diego     4.2        Chain\n",
       "8    Starbucks   New York     4.4        Chain\n",
       "9       Dunkin  Hollywood     3.9        Chain"
      ]
     },
     "execution_count": 13,
     "metadata": {},
     "output_type": "execute_result"
    }
   ],
   "source": [
    "coffee_shops"
   ]
  },
  {
   "cell_type": "code",
   "execution_count": 20,
   "id": "a494ac6d",
   "metadata": {},
   "outputs": [
    {
     "data": {
      "text/plain": [
       "'Starbucks'"
      ]
     },
     "execution_count": 20,
     "metadata": {},
     "output_type": "execute_result"
    }
   ],
   "source": [
    "coffee_shops.groupby('Shop_Name').count().sort_values('Location', ascending=False).iloc[0].name"
   ]
  },
  {
   "cell_type": "markdown",
   "id": "0ad7768f",
   "metadata": {},
   "source": [
    "#### After grouping the data by the Type column, what's the maximum rating a 'Chain' coffee shop has received?"
   ]
  },
  {
   "cell_type": "code",
   "execution_count": 24,
   "id": "2c313dac",
   "metadata": {},
   "outputs": [
    {
     "data": {
      "text/plain": [
       "Rating    4.5\n",
       "Name: Chain, dtype: float64"
      ]
     },
     "execution_count": 24,
     "metadata": {},
     "output_type": "execute_result"
    }
   ],
   "source": [
    "coffee_shops.groupby('Type').max('Rating').loc['Chain']"
   ]
  },
  {
   "cell_type": "markdown",
   "id": "b0f5a389",
   "metadata": {},
   "source": [
    "#### If you group the data by the Location column, can you determine the range (difference between max and min) of ratings for shops in 'San Diego'?"
   ]
  },
  {
   "cell_type": "code",
   "execution_count": 61,
   "id": "44e3a6b8",
   "metadata": {},
   "outputs": [],
   "source": [
    "def calc_range(df_group):\n",
    "    return df_group.astype(float).max() - df_group.astype(float).min()"
   ]
  },
  {
   "cell_type": "code",
   "execution_count": 67,
   "id": "30fc5593",
   "metadata": {},
   "outputs": [
    {
     "data": {
      "text/plain": [
       "Rating    0.6\n",
       "Name: San Diego, dtype: float64"
      ]
     },
     "execution_count": 67,
     "metadata": {},
     "output_type": "execute_result"
    }
   ],
   "source": [
    "coffee_shops.groupby('Location').agg({'Rating': lambda x : calc_range(x)}).loc['San Diego']"
   ]
  },
  {
   "cell_type": "markdown",
   "id": "aa0b9971",
   "metadata": {},
   "source": [
    "#### Group the dataset by Shop_Name. Which shop has the lowest average rating?"
   ]
  },
  {
   "cell_type": "code",
   "execution_count": 80,
   "id": "5699a90a",
   "metadata": {},
   "outputs": [],
   "source": [
    "avg_ratings = coffee_shops.groupby('Shop_Name').agg({'Rating': 'mean'})"
   ]
  },
  {
   "cell_type": "code",
   "execution_count": 81,
   "id": "516e0518",
   "metadata": {},
   "outputs": [
    {
     "data": {
      "text/html": [
       "<div>\n",
       "<style scoped>\n",
       "    .dataframe tbody tr th:only-of-type {\n",
       "        vertical-align: middle;\n",
       "    }\n",
       "\n",
       "    .dataframe tbody tr th {\n",
       "        vertical-align: top;\n",
       "    }\n",
       "\n",
       "    .dataframe thead th {\n",
       "        text-align: right;\n",
       "    }\n",
       "</style>\n",
       "<table border=\"1\" class=\"dataframe\">\n",
       "  <thead>\n",
       "    <tr style=\"text-align: right;\">\n",
       "      <th></th>\n",
       "      <th>Rating</th>\n",
       "    </tr>\n",
       "    <tr>\n",
       "      <th>Shop_Name</th>\n",
       "      <th></th>\n",
       "    </tr>\n",
       "  </thead>\n",
       "  <tbody>\n",
       "    <tr>\n",
       "      <th>Blue Bottle</th>\n",
       "      <td>4.650000</td>\n",
       "    </tr>\n",
       "    <tr>\n",
       "      <th>Dunkin</th>\n",
       "      <td>4.000000</td>\n",
       "    </tr>\n",
       "    <tr>\n",
       "      <th>La Colombe</th>\n",
       "      <td>4.800000</td>\n",
       "    </tr>\n",
       "    <tr>\n",
       "      <th>Peets</th>\n",
       "      <td>4.250000</td>\n",
       "    </tr>\n",
       "    <tr>\n",
       "      <th>Starbucks</th>\n",
       "      <td>4.466667</td>\n",
       "    </tr>\n",
       "  </tbody>\n",
       "</table>\n",
       "</div>"
      ],
      "text/plain": [
       "               Rating\n",
       "Shop_Name            \n",
       "Blue Bottle  4.650000\n",
       "Dunkin       4.000000\n",
       "La Colombe   4.800000\n",
       "Peets        4.250000\n",
       "Starbucks    4.466667"
      ]
     },
     "execution_count": 81,
     "metadata": {},
     "output_type": "execute_result"
    }
   ],
   "source": [
    "avg_ratings"
   ]
  },
  {
   "cell_type": "code",
   "execution_count": 82,
   "id": "8b822bbb",
   "metadata": {},
   "outputs": [
    {
     "data": {
      "text/plain": [
       "'Dunkin'"
      ]
     },
     "execution_count": 82,
     "metadata": {},
     "output_type": "execute_result"
    }
   ],
   "source": [
    "avg_ratings['Rating'].idxmin()"
   ]
  },
  {
   "cell_type": "markdown",
   "id": "28565822",
   "metadata": {},
   "source": [
    "#### By grouping the data based on Location, can you find the sum of ratings for each location?"
   ]
  },
  {
   "cell_type": "code",
   "execution_count": 83,
   "id": "ebcc3064",
   "metadata": {},
   "outputs": [
    {
     "data": {
      "text/html": [
       "<div>\n",
       "<style scoped>\n",
       "    .dataframe tbody tr th:only-of-type {\n",
       "        vertical-align: middle;\n",
       "    }\n",
       "\n",
       "    .dataframe tbody tr th {\n",
       "        vertical-align: top;\n",
       "    }\n",
       "\n",
       "    .dataframe thead th {\n",
       "        text-align: right;\n",
       "    }\n",
       "</style>\n",
       "<table border=\"1\" class=\"dataframe\">\n",
       "  <thead>\n",
       "    <tr style=\"text-align: right;\">\n",
       "      <th></th>\n",
       "      <th>Rating</th>\n",
       "    </tr>\n",
       "    <tr>\n",
       "      <th>Location</th>\n",
       "      <th></th>\n",
       "    </tr>\n",
       "  </thead>\n",
       "  <tbody>\n",
       "    <tr>\n",
       "      <th>Hollywood</th>\n",
       "      <td>17.3</td>\n",
       "    </tr>\n",
       "    <tr>\n",
       "      <th>New York</th>\n",
       "      <td>13.7</td>\n",
       "    </tr>\n",
       "    <tr>\n",
       "      <th>San Diego</th>\n",
       "      <td>13.0</td>\n",
       "    </tr>\n",
       "  </tbody>\n",
       "</table>\n",
       "</div>"
      ],
      "text/plain": [
       "           Rating\n",
       "Location         \n",
       "Hollywood    17.3\n",
       "New York     13.7\n",
       "San Diego    13.0"
      ]
     },
     "execution_count": 83,
     "metadata": {},
     "output_type": "execute_result"
    }
   ],
   "source": [
    "coffee_shops.groupby('Location').agg({'Rating':'sum'})"
   ]
  }
 ],
 "metadata": {
  "kernelspec": {
   "display_name": "Python 3 (ipykernel)",
   "language": "python",
   "name": "python3"
  },
  "language_info": {
   "codemirror_mode": {
    "name": "ipython",
    "version": 3
   },
   "file_extension": ".py",
   "mimetype": "text/x-python",
   "name": "python",
   "nbconvert_exporter": "python",
   "pygments_lexer": "ipython3",
   "version": "3.8.12"
  }
 },
 "nbformat": 4,
 "nbformat_minor": 5
}

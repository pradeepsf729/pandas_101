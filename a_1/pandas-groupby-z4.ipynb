{
 "cells": [
  {
   "cell_type": "code",
   "execution_count": 2,
   "id": "089a1da1",
   "metadata": {},
   "outputs": [],
   "source": [
    "import pandas as pd\n",
    "import math"
   ]
  },
  {
   "cell_type": "code",
   "execution_count": 3,
   "id": "b9acab9b",
   "metadata": {},
   "outputs": [],
   "source": [
    "data = {\n",
    "    'Shop_Name': ['Starbucks', 'Blue Bottle', 'Dunkin', 'Peets', 'Starbucks', 'La Colombe', 'Blue Bottle', 'Peets', 'Starbucks', 'Dunkin'],\n",
    "    'Location': ['Hollywood', 'San Diego', 'San Diego', 'Hollywood', 'New York', 'New York', 'Hollywood', 'San Diego', 'New York', 'Hollywood'],\n",
    "    'Rating': [4.5, 4.7, 4.1, 4.3, 4.5, 4.8, 4.6, 4.2, 4.4, 3.9],\n",
    "    'Type': ['Chain', 'Independent', 'Chain', 'Chain', 'Chain', 'Independent', 'Independent', 'Chain', 'Chain', 'Chain']\n",
    "}\n",
    "\n",
    "coffee_shops = pd.DataFrame(data)"
   ]
  },
  {
   "cell_type": "code",
   "execution_count": 4,
   "id": "f43fa19e",
   "metadata": {},
   "outputs": [
    {
     "data": {
      "text/html": [
       "<div>\n",
       "<style scoped>\n",
       "    .dataframe tbody tr th:only-of-type {\n",
       "        vertical-align: middle;\n",
       "    }\n",
       "\n",
       "    .dataframe tbody tr th {\n",
       "        vertical-align: top;\n",
       "    }\n",
       "\n",
       "    .dataframe thead th {\n",
       "        text-align: right;\n",
       "    }\n",
       "</style>\n",
       "<table border=\"1\" class=\"dataframe\">\n",
       "  <thead>\n",
       "    <tr style=\"text-align: right;\">\n",
       "      <th></th>\n",
       "      <th>Shop_Name</th>\n",
       "      <th>Location</th>\n",
       "      <th>Rating</th>\n",
       "      <th>Type</th>\n",
       "    </tr>\n",
       "  </thead>\n",
       "  <tbody>\n",
       "    <tr>\n",
       "      <th>0</th>\n",
       "      <td>Starbucks</td>\n",
       "      <td>Hollywood</td>\n",
       "      <td>4.5</td>\n",
       "      <td>Chain</td>\n",
       "    </tr>\n",
       "    <tr>\n",
       "      <th>1</th>\n",
       "      <td>Blue Bottle</td>\n",
       "      <td>San Diego</td>\n",
       "      <td>4.7</td>\n",
       "      <td>Independent</td>\n",
       "    </tr>\n",
       "    <tr>\n",
       "      <th>2</th>\n",
       "      <td>Dunkin</td>\n",
       "      <td>San Diego</td>\n",
       "      <td>4.1</td>\n",
       "      <td>Chain</td>\n",
       "    </tr>\n",
       "    <tr>\n",
       "      <th>3</th>\n",
       "      <td>Peets</td>\n",
       "      <td>Hollywood</td>\n",
       "      <td>4.3</td>\n",
       "      <td>Chain</td>\n",
       "    </tr>\n",
       "    <tr>\n",
       "      <th>4</th>\n",
       "      <td>Starbucks</td>\n",
       "      <td>New York</td>\n",
       "      <td>4.5</td>\n",
       "      <td>Chain</td>\n",
       "    </tr>\n",
       "    <tr>\n",
       "      <th>5</th>\n",
       "      <td>La Colombe</td>\n",
       "      <td>New York</td>\n",
       "      <td>4.8</td>\n",
       "      <td>Independent</td>\n",
       "    </tr>\n",
       "    <tr>\n",
       "      <th>6</th>\n",
       "      <td>Blue Bottle</td>\n",
       "      <td>Hollywood</td>\n",
       "      <td>4.6</td>\n",
       "      <td>Independent</td>\n",
       "    </tr>\n",
       "    <tr>\n",
       "      <th>7</th>\n",
       "      <td>Peets</td>\n",
       "      <td>San Diego</td>\n",
       "      <td>4.2</td>\n",
       "      <td>Chain</td>\n",
       "    </tr>\n",
       "    <tr>\n",
       "      <th>8</th>\n",
       "      <td>Starbucks</td>\n",
       "      <td>New York</td>\n",
       "      <td>4.4</td>\n",
       "      <td>Chain</td>\n",
       "    </tr>\n",
       "    <tr>\n",
       "      <th>9</th>\n",
       "      <td>Dunkin</td>\n",
       "      <td>Hollywood</td>\n",
       "      <td>3.9</td>\n",
       "      <td>Chain</td>\n",
       "    </tr>\n",
       "  </tbody>\n",
       "</table>\n",
       "</div>"
      ],
      "text/plain": [
       "     Shop_Name   Location  Rating         Type\n",
       "0    Starbucks  Hollywood     4.5        Chain\n",
       "1  Blue Bottle  San Diego     4.7  Independent\n",
       "2       Dunkin  San Diego     4.1        Chain\n",
       "3        Peets  Hollywood     4.3        Chain\n",
       "4    Starbucks   New York     4.5        Chain\n",
       "5   La Colombe   New York     4.8  Independent\n",
       "6  Blue Bottle  Hollywood     4.6  Independent\n",
       "7        Peets  San Diego     4.2        Chain\n",
       "8    Starbucks   New York     4.4        Chain\n",
       "9       Dunkin  Hollywood     3.9        Chain"
      ]
     },
     "execution_count": 4,
     "metadata": {},
     "output_type": "execute_result"
    }
   ],
   "source": [
    "coffee_shops"
   ]
  },
  {
   "cell_type": "markdown",
   "id": "da694961",
   "metadata": {},
   "source": [
    "### iterating_through_groups"
   ]
  },
  {
   "cell_type": "markdown",
   "id": "c25f1ef4",
   "metadata": {},
   "source": [
    "#### 1) How can you iterate through each group created by grouping the DataFrame by the 'Location' column, and print the name of each location along with the number of shops in that location?"
   ]
  },
  {
   "cell_type": "code",
   "execution_count": 5,
   "id": "b33c8421",
   "metadata": {
    "scrolled": true
   },
   "outputs": [
    {
     "data": {
      "text/html": [
       "<div>\n",
       "<style scoped>\n",
       "    .dataframe tbody tr th:only-of-type {\n",
       "        vertical-align: middle;\n",
       "    }\n",
       "\n",
       "    .dataframe tbody tr th {\n",
       "        vertical-align: top;\n",
       "    }\n",
       "\n",
       "    .dataframe thead th {\n",
       "        text-align: right;\n",
       "    }\n",
       "</style>\n",
       "<table border=\"1\" class=\"dataframe\">\n",
       "  <thead>\n",
       "    <tr style=\"text-align: right;\">\n",
       "      <th></th>\n",
       "      <th>Shop_Name</th>\n",
       "      <th>Rating</th>\n",
       "      <th>Type</th>\n",
       "    </tr>\n",
       "    <tr>\n",
       "      <th>Location</th>\n",
       "      <th></th>\n",
       "      <th></th>\n",
       "      <th></th>\n",
       "    </tr>\n",
       "  </thead>\n",
       "  <tbody>\n",
       "    <tr>\n",
       "      <th>Hollywood</th>\n",
       "      <td>4</td>\n",
       "      <td>4</td>\n",
       "      <td>4</td>\n",
       "    </tr>\n",
       "    <tr>\n",
       "      <th>New York</th>\n",
       "      <td>3</td>\n",
       "      <td>3</td>\n",
       "      <td>3</td>\n",
       "    </tr>\n",
       "    <tr>\n",
       "      <th>San Diego</th>\n",
       "      <td>3</td>\n",
       "      <td>3</td>\n",
       "      <td>3</td>\n",
       "    </tr>\n",
       "  </tbody>\n",
       "</table>\n",
       "</div>"
      ],
      "text/plain": [
       "           Shop_Name  Rating  Type\n",
       "Location                          \n",
       "Hollywood          4       4     4\n",
       "New York           3       3     3\n",
       "San Diego          3       3     3"
      ]
     },
     "execution_count": 5,
     "metadata": {},
     "output_type": "execute_result"
    }
   ],
   "source": [
    "coffee_shops.groupby('Location').count()"
   ]
  },
  {
   "cell_type": "code",
   "execution_count": 6,
   "id": "3d12ecc5",
   "metadata": {},
   "outputs": [],
   "source": [
    "grouped = coffee_shops.groupby('Location')"
   ]
  },
  {
   "cell_type": "code",
   "execution_count": 7,
   "id": "10857723",
   "metadata": {},
   "outputs": [
    {
     "name": "stdout",
     "output_type": "stream",
     "text": [
      "Location 'Hollywood': 4 shops\n",
      "\n",
      "Location 'New York': 3 shops\n",
      "\n",
      "Location 'San Diego': 3 shops\n",
      "\n"
     ]
    }
   ],
   "source": [
    "for name, group in grouped:\n",
    "    print(f\"Location '{name}': \", end='')\n",
    "    print(f\"{len(group)} shops\")\n",
    "    print()"
   ]
  },
  {
   "cell_type": "markdown",
   "id": "5e9653d7",
   "metadata": {},
   "source": [
    "#### 2) Iterate through the groups formed by 'Type' and 'Location' and calculate the average 'Rating' for each group, printing both the group identifiers and the corresponding average ratings."
   ]
  },
  {
   "cell_type": "code",
   "execution_count": 8,
   "id": "6f4425fe",
   "metadata": {
    "scrolled": true
   },
   "outputs": [
    {
     "name": "stdout",
     "output_type": "stream",
     "text": [
      "Group - ('Chain', 'Hollywood') : 4.233333333333333\n",
      "Group - ('Chain', 'New York') : 4.45\n",
      "Group - ('Chain', 'San Diego') : 4.15\n",
      "Group - ('Independent', 'Hollywood') : 4.6\n",
      "Group - ('Independent', 'New York') : 4.8\n",
      "Group - ('Independent', 'San Diego') : 4.7\n"
     ]
    }
   ],
   "source": [
    "for name,  group in coffee_shops.groupby(['Type', 'Location']):\n",
    "    print(f\"Group - {name} : \", end=\"\")\n",
    "    print(group.loc[:,'Rating'].mean())"
   ]
  },
  {
   "cell_type": "markdown",
   "id": "3968ca79",
   "metadata": {},
   "source": [
    "#### 3) For each 'Type' of coffee shop, iterate through the groups formed by 'Location', and find the location with the highest total 'Rating' across all shops of that type."
   ]
  },
  {
   "cell_type": "code",
   "execution_count": 9,
   "id": "70cb8b1c",
   "metadata": {},
   "outputs": [],
   "source": [
    "type_grouped = coffee_shops.groupby('Type')"
   ]
  },
  {
   "cell_type": "code",
   "execution_count": 10,
   "id": "eaf96599",
   "metadata": {},
   "outputs": [
    {
     "name": "stdout",
     "output_type": "stream",
     "text": [
      "Chain : 12.700000000000001\n",
      "Independent : 4.8\n"
     ]
    }
   ],
   "source": [
    "for type_name, type_group in type_grouped:\n",
    "    print(f\"{type_name} : \", end=\"\")\n",
    "    cur_max_for_type = -math.inf\n",
    "    for loc_name, loc_group in type_group.groupby('Location'):\n",
    "        cur_loc_sum = loc_group.loc[:, 'Rating'].sum()\n",
    "        if cur_loc_sum > cur_max_for_type:\n",
    "            cur_max_for_type = cur_loc_sum\n",
    "    print(cur_max_for_type)"
   ]
  },
  {
   "cell_type": "markdown",
   "id": "66d037cf",
   "metadata": {},
   "source": [
    "#### 4) Iterate through the groups formed by 'Type' and 'Location', and find the location with the lowest median 'Price' for each type, printing both the type and location."
   ]
  },
  {
   "cell_type": "code",
   "execution_count": null,
   "id": "f4b5a29b",
   "metadata": {},
   "outputs": [],
   "source": []
  },
  {
   "cell_type": "markdown",
   "id": "df3a0a8c",
   "metadata": {},
   "source": [
    "#### 5) How can you loop through each group based on 'Location' and find the shop with the highest 'Rating' within each location, printing the location name and the shop name?"
   ]
  },
  {
   "cell_type": "code",
   "execution_count": null,
   "id": "939315f2",
   "metadata": {},
   "outputs": [],
   "source": []
  },
  {
   "cell_type": "markdown",
   "id": "cec24006",
   "metadata": {},
   "source": [
    "#### 6) For each group formed by 'Type', 'Location', and 'Price_Category', iterate through the data and count how many shops belong to each 'Price_Category' within each group."
   ]
  },
  {
   "cell_type": "code",
   "execution_count": null,
   "id": "c0d58ef7",
   "metadata": {},
   "outputs": [],
   "source": []
  },
  {
   "cell_type": "markdown",
   "id": "5782738f",
   "metadata": {},
   "source": [
    "#### 7) Loop through the groups formed by 'Type' and 'Location', and find the shop with the lowest 'Rating' within each location, printing the location name and the shop name."
   ]
  },
  {
   "cell_type": "code",
   "execution_count": null,
   "id": "ab9a3e22",
   "metadata": {},
   "outputs": [],
   "source": []
  },
  {
   "cell_type": "markdown",
   "id": "405168a1",
   "metadata": {},
   "source": [
    "#### 8) Iterate through each group based on 'Type' and calculate the sum of 'Rating' for all shops of that type, printing the type and the total rating."
   ]
  },
  {
   "cell_type": "code",
   "execution_count": null,
   "id": "b62341b0",
   "metadata": {},
   "outputs": [],
   "source": []
  },
  {
   "cell_type": "markdown",
   "id": "9f68d9ab",
   "metadata": {},
   "source": [
    "#### 9) For each 'Location' group, iterate through the data and find the shop with the highest 'Price' within that location, printing the location name and the shop name."
   ]
  },
  {
   "cell_type": "code",
   "execution_count": null,
   "id": "6d289dc4",
   "metadata": {},
   "outputs": [],
   "source": []
  },
  {
   "cell_type": "markdown",
   "id": "0301d893",
   "metadata": {},
   "source": [
    "#### 10) How can you loop through each group formed by 'Type' and 'Location', and calculate the percentage of 'Chain' shops within each location, printing the location name and the percentage?"
   ]
  },
  {
   "cell_type": "code",
   "execution_count": null,
   "id": "7bfe2378",
   "metadata": {},
   "outputs": [],
   "source": []
  },
  {
   "cell_type": "code",
   "execution_count": null,
   "id": "17eeed97",
   "metadata": {},
   "outputs": [],
   "source": []
  }
 ],
 "metadata": {
  "kernelspec": {
   "display_name": "Python 3 (ipykernel)",
   "language": "python",
   "name": "python3"
  },
  "language_info": {
   "codemirror_mode": {
    "name": "ipython",
    "version": 3
   },
   "file_extension": ".py",
   "mimetype": "text/x-python",
   "name": "python",
   "nbconvert_exporter": "python",
   "pygments_lexer": "ipython3",
   "version": "3.8.12"
  }
 },
 "nbformat": 4,
 "nbformat_minor": 5
}

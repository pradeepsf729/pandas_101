{
 "cells": [
  {
   "cell_type": "code",
   "execution_count": 1,
   "id": "b707f3ad",
   "metadata": {},
   "outputs": [],
   "source": [
    "import pandas as pd"
   ]
  },
  {
   "cell_type": "code",
   "execution_count": 2,
   "id": "f6360c82",
   "metadata": {},
   "outputs": [],
   "source": [
    "data = {\n",
    "    'Store_ID': [1001, 1002, 1003, 1004, 1005],\n",
    "    'Store_Name': ['Pet Paradise', 'Animal Kingdom', 'Furry Friends', 'Pet Pals', 'Fauna House'],\n",
    "    'Location': ['New York', 'Los Angeles', 'Chicago', 'Houston', 'Phoenix'],\n",
    "    'Speciality': ['Fish', 'Birds', 'Dogs', 'Cats', 'Reptiles'],\n",
    "    'Rating': [4.5, 4.2, 3.9, 4.7, 4.0]\n",
    "}"
   ]
  },
  {
   "cell_type": "code",
   "execution_count": 3,
   "id": "31723316",
   "metadata": {},
   "outputs": [],
   "source": [
    "df = pd.DataFrame(data)"
   ]
  },
  {
   "cell_type": "code",
   "execution_count": 4,
   "id": "ff2ada7b",
   "metadata": {},
   "outputs": [
    {
     "data": {
      "text/html": [
       "<div>\n",
       "<style scoped>\n",
       "    .dataframe tbody tr th:only-of-type {\n",
       "        vertical-align: middle;\n",
       "    }\n",
       "\n",
       "    .dataframe tbody tr th {\n",
       "        vertical-align: top;\n",
       "    }\n",
       "\n",
       "    .dataframe thead th {\n",
       "        text-align: right;\n",
       "    }\n",
       "</style>\n",
       "<table border=\"1\" class=\"dataframe\">\n",
       "  <thead>\n",
       "    <tr style=\"text-align: right;\">\n",
       "      <th></th>\n",
       "      <th>Store_ID</th>\n",
       "      <th>Store_Name</th>\n",
       "      <th>Location</th>\n",
       "      <th>Speciality</th>\n",
       "      <th>Rating</th>\n",
       "    </tr>\n",
       "  </thead>\n",
       "  <tbody>\n",
       "    <tr>\n",
       "      <th>0</th>\n",
       "      <td>1001</td>\n",
       "      <td>Pet Paradise</td>\n",
       "      <td>New York</td>\n",
       "      <td>Fish</td>\n",
       "      <td>4.5</td>\n",
       "    </tr>\n",
       "    <tr>\n",
       "      <th>1</th>\n",
       "      <td>1002</td>\n",
       "      <td>Animal Kingdom</td>\n",
       "      <td>Los Angeles</td>\n",
       "      <td>Birds</td>\n",
       "      <td>4.2</td>\n",
       "    </tr>\n",
       "    <tr>\n",
       "      <th>2</th>\n",
       "      <td>1003</td>\n",
       "      <td>Furry Friends</td>\n",
       "      <td>Chicago</td>\n",
       "      <td>Dogs</td>\n",
       "      <td>3.9</td>\n",
       "    </tr>\n",
       "    <tr>\n",
       "      <th>3</th>\n",
       "      <td>1004</td>\n",
       "      <td>Pet Pals</td>\n",
       "      <td>Houston</td>\n",
       "      <td>Cats</td>\n",
       "      <td>4.7</td>\n",
       "    </tr>\n",
       "    <tr>\n",
       "      <th>4</th>\n",
       "      <td>1005</td>\n",
       "      <td>Fauna House</td>\n",
       "      <td>Phoenix</td>\n",
       "      <td>Reptiles</td>\n",
       "      <td>4.0</td>\n",
       "    </tr>\n",
       "  </tbody>\n",
       "</table>\n",
       "</div>"
      ],
      "text/plain": [
       "   Store_ID      Store_Name     Location Speciality  Rating\n",
       "0      1001    Pet Paradise     New York       Fish     4.5\n",
       "1      1002  Animal Kingdom  Los Angeles      Birds     4.2\n",
       "2      1003   Furry Friends      Chicago       Dogs     3.9\n",
       "3      1004        Pet Pals      Houston       Cats     4.7\n",
       "4      1005     Fauna House      Phoenix   Reptiles     4.0"
      ]
     },
     "execution_count": 4,
     "metadata": {},
     "output_type": "execute_result"
    }
   ],
   "source": [
    "df"
   ]
  },
  {
   "cell_type": "markdown",
   "id": "0753a911",
   "metadata": {},
   "source": [
    "#### How would you replace all occurrences of 'New York' in the Location column with 'NYC'?"
   ]
  },
  {
   "cell_type": "code",
   "execution_count": 6,
   "id": "0d33ffa5",
   "metadata": {},
   "outputs": [
    {
     "data": {
      "text/html": [
       "<div>\n",
       "<style scoped>\n",
       "    .dataframe tbody tr th:only-of-type {\n",
       "        vertical-align: middle;\n",
       "    }\n",
       "\n",
       "    .dataframe tbody tr th {\n",
       "        vertical-align: top;\n",
       "    }\n",
       "\n",
       "    .dataframe thead th {\n",
       "        text-align: right;\n",
       "    }\n",
       "</style>\n",
       "<table border=\"1\" class=\"dataframe\">\n",
       "  <thead>\n",
       "    <tr style=\"text-align: right;\">\n",
       "      <th></th>\n",
       "      <th>Store_ID</th>\n",
       "      <th>Store_Name</th>\n",
       "      <th>Location</th>\n",
       "      <th>Speciality</th>\n",
       "      <th>Rating</th>\n",
       "    </tr>\n",
       "  </thead>\n",
       "  <tbody>\n",
       "    <tr>\n",
       "      <th>0</th>\n",
       "      <td>1001</td>\n",
       "      <td>Pet Paradise</td>\n",
       "      <td>NYC</td>\n",
       "      <td>Fish</td>\n",
       "      <td>4.5</td>\n",
       "    </tr>\n",
       "    <tr>\n",
       "      <th>1</th>\n",
       "      <td>1002</td>\n",
       "      <td>Animal Kingdom</td>\n",
       "      <td>Los Angeles</td>\n",
       "      <td>Birds</td>\n",
       "      <td>4.2</td>\n",
       "    </tr>\n",
       "    <tr>\n",
       "      <th>2</th>\n",
       "      <td>1003</td>\n",
       "      <td>Furry Friends</td>\n",
       "      <td>Chicago</td>\n",
       "      <td>Dogs</td>\n",
       "      <td>3.9</td>\n",
       "    </tr>\n",
       "    <tr>\n",
       "      <th>3</th>\n",
       "      <td>1004</td>\n",
       "      <td>Pet Pals</td>\n",
       "      <td>Houston</td>\n",
       "      <td>Cats</td>\n",
       "      <td>4.7</td>\n",
       "    </tr>\n",
       "    <tr>\n",
       "      <th>4</th>\n",
       "      <td>1005</td>\n",
       "      <td>Fauna House</td>\n",
       "      <td>Phoenix</td>\n",
       "      <td>Reptiles</td>\n",
       "      <td>4.0</td>\n",
       "    </tr>\n",
       "  </tbody>\n",
       "</table>\n",
       "</div>"
      ],
      "text/plain": [
       "   Store_ID      Store_Name     Location Speciality  Rating\n",
       "0      1001    Pet Paradise          NYC       Fish     4.5\n",
       "1      1002  Animal Kingdom  Los Angeles      Birds     4.2\n",
       "2      1003   Furry Friends      Chicago       Dogs     3.9\n",
       "3      1004        Pet Pals      Houston       Cats     4.7\n",
       "4      1005     Fauna House      Phoenix   Reptiles     4.0"
      ]
     },
     "execution_count": 6,
     "metadata": {},
     "output_type": "execute_result"
    }
   ],
   "source": [
    "df.replace('New York', 'NYC')"
   ]
  },
  {
   "cell_type": "markdown",
   "id": "1686c7f7",
   "metadata": {},
   "source": [
    "#### If you wanted to change ratings of 4.5 to 5, how would you use the replace method for this task?"
   ]
  },
  {
   "cell_type": "code",
   "execution_count": 11,
   "id": "b583f9d6",
   "metadata": {},
   "outputs": [],
   "source": [
    "df.loc[:, ['Rating']] = df.loc[:, ['Rating']].replace(4.5, 5)"
   ]
  },
  {
   "cell_type": "code",
   "execution_count": 12,
   "id": "975fca52",
   "metadata": {},
   "outputs": [
    {
     "data": {
      "text/html": [
       "<div>\n",
       "<style scoped>\n",
       "    .dataframe tbody tr th:only-of-type {\n",
       "        vertical-align: middle;\n",
       "    }\n",
       "\n",
       "    .dataframe tbody tr th {\n",
       "        vertical-align: top;\n",
       "    }\n",
       "\n",
       "    .dataframe thead th {\n",
       "        text-align: right;\n",
       "    }\n",
       "</style>\n",
       "<table border=\"1\" class=\"dataframe\">\n",
       "  <thead>\n",
       "    <tr style=\"text-align: right;\">\n",
       "      <th></th>\n",
       "      <th>Store_ID</th>\n",
       "      <th>Store_Name</th>\n",
       "      <th>Location</th>\n",
       "      <th>Speciality</th>\n",
       "      <th>Rating</th>\n",
       "    </tr>\n",
       "  </thead>\n",
       "  <tbody>\n",
       "    <tr>\n",
       "      <th>0</th>\n",
       "      <td>1001</td>\n",
       "      <td>Pet Paradise</td>\n",
       "      <td>New York</td>\n",
       "      <td>Fish</td>\n",
       "      <td>5.0</td>\n",
       "    </tr>\n",
       "    <tr>\n",
       "      <th>1</th>\n",
       "      <td>1002</td>\n",
       "      <td>Animal Kingdom</td>\n",
       "      <td>Los Angeles</td>\n",
       "      <td>Birds</td>\n",
       "      <td>4.2</td>\n",
       "    </tr>\n",
       "    <tr>\n",
       "      <th>2</th>\n",
       "      <td>1003</td>\n",
       "      <td>Furry Friends</td>\n",
       "      <td>Chicago</td>\n",
       "      <td>Dogs</td>\n",
       "      <td>3.9</td>\n",
       "    </tr>\n",
       "    <tr>\n",
       "      <th>3</th>\n",
       "      <td>1004</td>\n",
       "      <td>Pet Pals</td>\n",
       "      <td>Houston</td>\n",
       "      <td>Cats</td>\n",
       "      <td>4.7</td>\n",
       "    </tr>\n",
       "    <tr>\n",
       "      <th>4</th>\n",
       "      <td>1005</td>\n",
       "      <td>Fauna House</td>\n",
       "      <td>Phoenix</td>\n",
       "      <td>Reptiles</td>\n",
       "      <td>4.0</td>\n",
       "    </tr>\n",
       "  </tbody>\n",
       "</table>\n",
       "</div>"
      ],
      "text/plain": [
       "   Store_ID      Store_Name     Location Speciality  Rating\n",
       "0      1001    Pet Paradise     New York       Fish     5.0\n",
       "1      1002  Animal Kingdom  Los Angeles      Birds     4.2\n",
       "2      1003   Furry Friends      Chicago       Dogs     3.9\n",
       "3      1004        Pet Pals      Houston       Cats     4.7\n",
       "4      1005     Fauna House      Phoenix   Reptiles     4.0"
      ]
     },
     "execution_count": 12,
     "metadata": {},
     "output_type": "execute_result"
    }
   ],
   "source": [
    "df"
   ]
  },
  {
   "cell_type": "markdown",
   "id": "99f6506e",
   "metadata": {},
   "source": [
    "#### How can you replace the speciality 'Dogs' with 'Canines' in the DataFrame?"
   ]
  },
  {
   "cell_type": "code",
   "execution_count": 13,
   "id": "c871d021",
   "metadata": {},
   "outputs": [],
   "source": [
    "df.loc[:, ['Speciality']] = df.loc[:, ['Speciality']].replace(\"Dogs\", \"Canines\")"
   ]
  },
  {
   "cell_type": "code",
   "execution_count": 14,
   "id": "4c561b2a",
   "metadata": {},
   "outputs": [
    {
     "data": {
      "text/html": [
       "<div>\n",
       "<style scoped>\n",
       "    .dataframe tbody tr th:only-of-type {\n",
       "        vertical-align: middle;\n",
       "    }\n",
       "\n",
       "    .dataframe tbody tr th {\n",
       "        vertical-align: top;\n",
       "    }\n",
       "\n",
       "    .dataframe thead th {\n",
       "        text-align: right;\n",
       "    }\n",
       "</style>\n",
       "<table border=\"1\" class=\"dataframe\">\n",
       "  <thead>\n",
       "    <tr style=\"text-align: right;\">\n",
       "      <th></th>\n",
       "      <th>Store_ID</th>\n",
       "      <th>Store_Name</th>\n",
       "      <th>Location</th>\n",
       "      <th>Speciality</th>\n",
       "      <th>Rating</th>\n",
       "    </tr>\n",
       "  </thead>\n",
       "  <tbody>\n",
       "    <tr>\n",
       "      <th>0</th>\n",
       "      <td>1001</td>\n",
       "      <td>Pet Paradise</td>\n",
       "      <td>New York</td>\n",
       "      <td>Fish</td>\n",
       "      <td>5.0</td>\n",
       "    </tr>\n",
       "    <tr>\n",
       "      <th>1</th>\n",
       "      <td>1002</td>\n",
       "      <td>Animal Kingdom</td>\n",
       "      <td>Los Angeles</td>\n",
       "      <td>Birds</td>\n",
       "      <td>4.2</td>\n",
       "    </tr>\n",
       "    <tr>\n",
       "      <th>2</th>\n",
       "      <td>1003</td>\n",
       "      <td>Furry Friends</td>\n",
       "      <td>Chicago</td>\n",
       "      <td>Canines</td>\n",
       "      <td>3.9</td>\n",
       "    </tr>\n",
       "    <tr>\n",
       "      <th>3</th>\n",
       "      <td>1004</td>\n",
       "      <td>Pet Pals</td>\n",
       "      <td>Houston</td>\n",
       "      <td>Cats</td>\n",
       "      <td>4.7</td>\n",
       "    </tr>\n",
       "    <tr>\n",
       "      <th>4</th>\n",
       "      <td>1005</td>\n",
       "      <td>Fauna House</td>\n",
       "      <td>Phoenix</td>\n",
       "      <td>Reptiles</td>\n",
       "      <td>4.0</td>\n",
       "    </tr>\n",
       "  </tbody>\n",
       "</table>\n",
       "</div>"
      ],
      "text/plain": [
       "   Store_ID      Store_Name     Location Speciality  Rating\n",
       "0      1001    Pet Paradise     New York       Fish     5.0\n",
       "1      1002  Animal Kingdom  Los Angeles      Birds     4.2\n",
       "2      1003   Furry Friends      Chicago    Canines     3.9\n",
       "3      1004        Pet Pals      Houston       Cats     4.7\n",
       "4      1005     Fauna House      Phoenix   Reptiles     4.0"
      ]
     },
     "execution_count": 14,
     "metadata": {},
     "output_type": "execute_result"
    }
   ],
   "source": [
    "df"
   ]
  },
  {
   "cell_type": "markdown",
   "id": "7d3a4cb6",
   "metadata": {},
   "source": [
    "#### If you had a dictionary of old and new store names, how would you apply the replace method to update the store names in the DataFrame?"
   ]
  },
  {
   "cell_type": "code",
   "execution_count": 28,
   "id": "c2e69a23",
   "metadata": {},
   "outputs": [],
   "source": [
    "old_store_names = df.loc[:, 'Store_Name'].tolist()"
   ]
  },
  {
   "cell_type": "code",
   "execution_count": 29,
   "id": "bdd85cfb",
   "metadata": {},
   "outputs": [
    {
     "data": {
      "text/plain": [
       "['Pet Paradise', 'Animal Kingdom', 'Furry Friends', 'Pet Pals', 'Fauna House']"
      ]
     },
     "execution_count": 29,
     "metadata": {},
     "output_type": "execute_result"
    }
   ],
   "source": [
    "old_store_names"
   ]
  },
  {
   "cell_type": "code",
   "execution_count": 33,
   "id": "9bce4a69",
   "metadata": {},
   "outputs": [],
   "source": [
    "new_store_names = list(map(str.upper, old_store_names))"
   ]
  },
  {
   "cell_type": "code",
   "execution_count": 35,
   "id": "412df71e",
   "metadata": {},
   "outputs": [
    {
     "data": {
      "text/plain": [
       "['PET PARADISE', 'ANIMAL KINGDOM', 'FURRY FRIENDS', 'PET PALS', 'FAUNA HOUSE']"
      ]
     },
     "execution_count": 35,
     "metadata": {},
     "output_type": "execute_result"
    }
   ],
   "source": [
    "new_store_names"
   ]
  },
  {
   "cell_type": "code",
   "execution_count": 39,
   "id": "815ea593",
   "metadata": {},
   "outputs": [],
   "source": [
    "name_dict = dict(zip(old_store_names, new_store_names))"
   ]
  },
  {
   "cell_type": "code",
   "execution_count": 40,
   "id": "89bf41c5",
   "metadata": {},
   "outputs": [
    {
     "data": {
      "text/plain": [
       "{'Pet Paradise': 'PET PARADISE',\n",
       " 'Animal Kingdom': 'ANIMAL KINGDOM',\n",
       " 'Furry Friends': 'FURRY FRIENDS',\n",
       " 'Pet Pals': 'PET PALS',\n",
       " 'Fauna House': 'FAUNA HOUSE'}"
      ]
     },
     "execution_count": 40,
     "metadata": {},
     "output_type": "execute_result"
    }
   ],
   "source": [
    "name_dict"
   ]
  },
  {
   "cell_type": "code",
   "execution_count": 41,
   "id": "0f1de0b9",
   "metadata": {},
   "outputs": [
    {
     "data": {
      "text/html": [
       "<div>\n",
       "<style scoped>\n",
       "    .dataframe tbody tr th:only-of-type {\n",
       "        vertical-align: middle;\n",
       "    }\n",
       "\n",
       "    .dataframe tbody tr th {\n",
       "        vertical-align: top;\n",
       "    }\n",
       "\n",
       "    .dataframe thead th {\n",
       "        text-align: right;\n",
       "    }\n",
       "</style>\n",
       "<table border=\"1\" class=\"dataframe\">\n",
       "  <thead>\n",
       "    <tr style=\"text-align: right;\">\n",
       "      <th></th>\n",
       "      <th>Store_ID</th>\n",
       "      <th>Store_Name</th>\n",
       "      <th>Location</th>\n",
       "      <th>Speciality</th>\n",
       "      <th>Rating</th>\n",
       "    </tr>\n",
       "  </thead>\n",
       "  <tbody>\n",
       "    <tr>\n",
       "      <th>0</th>\n",
       "      <td>1001</td>\n",
       "      <td>PET PARADISE</td>\n",
       "      <td>New York</td>\n",
       "      <td>Fish</td>\n",
       "      <td>5.0</td>\n",
       "    </tr>\n",
       "    <tr>\n",
       "      <th>1</th>\n",
       "      <td>1002</td>\n",
       "      <td>ANIMAL KINGDOM</td>\n",
       "      <td>Los Angeles</td>\n",
       "      <td>Birds</td>\n",
       "      <td>4.2</td>\n",
       "    </tr>\n",
       "    <tr>\n",
       "      <th>2</th>\n",
       "      <td>1003</td>\n",
       "      <td>FURRY FRIENDS</td>\n",
       "      <td>Chicago</td>\n",
       "      <td>Canines</td>\n",
       "      <td>3.9</td>\n",
       "    </tr>\n",
       "    <tr>\n",
       "      <th>3</th>\n",
       "      <td>1004</td>\n",
       "      <td>PET PALS</td>\n",
       "      <td>Houston</td>\n",
       "      <td>Cats</td>\n",
       "      <td>4.7</td>\n",
       "    </tr>\n",
       "    <tr>\n",
       "      <th>4</th>\n",
       "      <td>1005</td>\n",
       "      <td>FAUNA HOUSE</td>\n",
       "      <td>Phoenix</td>\n",
       "      <td>Reptiles</td>\n",
       "      <td>4.0</td>\n",
       "    </tr>\n",
       "  </tbody>\n",
       "</table>\n",
       "</div>"
      ],
      "text/plain": [
       "   Store_ID      Store_Name     Location Speciality  Rating\n",
       "0      1001    PET PARADISE     New York       Fish     5.0\n",
       "1      1002  ANIMAL KINGDOM  Los Angeles      Birds     4.2\n",
       "2      1003   FURRY FRIENDS      Chicago    Canines     3.9\n",
       "3      1004        PET PALS      Houston       Cats     4.7\n",
       "4      1005     FAUNA HOUSE      Phoenix   Reptiles     4.0"
      ]
     },
     "execution_count": 41,
     "metadata": {},
     "output_type": "execute_result"
    }
   ],
   "source": [
    "df.replace(to_replace={'Store_Name' : name_dict})"
   ]
  },
  {
   "cell_type": "markdown",
   "id": "87011906",
   "metadata": {},
   "source": [
    "#### How would you replace ratings below 4 with a string 'Low Rating'?"
   ]
  },
  {
   "cell_type": "code",
   "execution_count": 66,
   "id": "276a4162",
   "metadata": {},
   "outputs": [],
   "source": [
    "df_new = df.replace(to_replace=df.loc[df['Rating'] < 4.0].loc[:, 'Rating'].tolist(), value='Low Rating')"
   ]
  },
  {
   "cell_type": "code",
   "execution_count": 67,
   "id": "d98ab124",
   "metadata": {},
   "outputs": [
    {
     "data": {
      "text/html": [
       "<div>\n",
       "<style scoped>\n",
       "    .dataframe tbody tr th:only-of-type {\n",
       "        vertical-align: middle;\n",
       "    }\n",
       "\n",
       "    .dataframe tbody tr th {\n",
       "        vertical-align: top;\n",
       "    }\n",
       "\n",
       "    .dataframe thead th {\n",
       "        text-align: right;\n",
       "    }\n",
       "</style>\n",
       "<table border=\"1\" class=\"dataframe\">\n",
       "  <thead>\n",
       "    <tr style=\"text-align: right;\">\n",
       "      <th></th>\n",
       "      <th>Store_ID</th>\n",
       "      <th>Store_Name</th>\n",
       "      <th>Location</th>\n",
       "      <th>Speciality</th>\n",
       "      <th>Rating</th>\n",
       "    </tr>\n",
       "  </thead>\n",
       "  <tbody>\n",
       "    <tr>\n",
       "      <th>0</th>\n",
       "      <td>1001</td>\n",
       "      <td>Pet Paradise</td>\n",
       "      <td>New York</td>\n",
       "      <td>Fish</td>\n",
       "      <td>5.0</td>\n",
       "    </tr>\n",
       "    <tr>\n",
       "      <th>1</th>\n",
       "      <td>1002</td>\n",
       "      <td>Animal Kingdom</td>\n",
       "      <td>Los Angeles</td>\n",
       "      <td>Birds</td>\n",
       "      <td>4.2</td>\n",
       "    </tr>\n",
       "    <tr>\n",
       "      <th>2</th>\n",
       "      <td>1003</td>\n",
       "      <td>Furry Friends</td>\n",
       "      <td>Chicago</td>\n",
       "      <td>Canines</td>\n",
       "      <td>Low Rating</td>\n",
       "    </tr>\n",
       "    <tr>\n",
       "      <th>3</th>\n",
       "      <td>1004</td>\n",
       "      <td>Pet Pals</td>\n",
       "      <td>Houston</td>\n",
       "      <td>Cats</td>\n",
       "      <td>4.7</td>\n",
       "    </tr>\n",
       "    <tr>\n",
       "      <th>4</th>\n",
       "      <td>1005</td>\n",
       "      <td>Fauna House</td>\n",
       "      <td>Phoenix</td>\n",
       "      <td>Reptiles</td>\n",
       "      <td>4.0</td>\n",
       "    </tr>\n",
       "  </tbody>\n",
       "</table>\n",
       "</div>"
      ],
      "text/plain": [
       "   Store_ID      Store_Name     Location Speciality      Rating\n",
       "0      1001    Pet Paradise     New York       Fish         5.0\n",
       "1      1002  Animal Kingdom  Los Angeles      Birds         4.2\n",
       "2      1003   Furry Friends      Chicago    Canines  Low Rating\n",
       "3      1004        Pet Pals      Houston       Cats         4.7\n",
       "4      1005     Fauna House      Phoenix   Reptiles         4.0"
      ]
     },
     "execution_count": 67,
     "metadata": {},
     "output_type": "execute_result"
    }
   ],
   "source": [
    "df_new"
   ]
  },
  {
   "cell_type": "code",
   "execution_count": null,
   "id": "39e9e252",
   "metadata": {},
   "outputs": [],
   "source": []
  }
 ],
 "metadata": {
  "kernelspec": {
   "display_name": "Python 3 (ipykernel)",
   "language": "python",
   "name": "python3"
  },
  "language_info": {
   "codemirror_mode": {
    "name": "ipython",
    "version": 3
   },
   "file_extension": ".py",
   "mimetype": "text/x-python",
   "name": "python",
   "nbconvert_exporter": "python",
   "pygments_lexer": "ipython3",
   "version": "3.8.12"
  }
 },
 "nbformat": 4,
 "nbformat_minor": 5
}

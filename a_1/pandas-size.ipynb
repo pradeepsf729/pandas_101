{
 "cells": [
  {
   "cell_type": "code",
   "execution_count": 1,
   "id": "a492f53f",
   "metadata": {},
   "outputs": [],
   "source": [
    "import pandas as pd\n",
    "from datetime import datetime\n",
    "import numpy as np"
   ]
  },
  {
   "cell_type": "code",
   "execution_count": 2,
   "id": "5d5c95fc",
   "metadata": {},
   "outputs": [],
   "source": [
    "data = {\n",
    "    'Order_ID': [1, 2, 3, 4, 5],\n",
    "    'Customer_ID': [101, 102, 103, 104, 105],\n",
    "    'Restaurant_ID': [201, 202, 203, 204, 205],\n",
    "    'Order_Date': [datetime(2023, 8, 1), datetime(2023, 8, 2), datetime(2023, 8, 3), datetime(2023, 8, 4), datetime(2023, 8, 5)],\n",
    "    'Order_Time': ['12:30:00', '18:45:00', '19:20:00', '13:15:00', '09:30:00'],\n",
    "    'Food_Item': ['Burger', 'Sushi', 'Pasta', 'Pizza', 'Salad'],\n",
    "    'Quantity': [2, 1, 3, 1, 1],\n",
    "    'Price': [12.99, 18.50, 10.99, 14.99, 7.99],\n",
    "    'Delivery_Time(min)': [30, 45, 40, 35, 25],\n",
    "    'Rating': [4.5, 4.0, 5.0, 3.5, 4.0]\n",
    "}"
   ]
  },
  {
   "cell_type": "code",
   "execution_count": 3,
   "id": "c2775b21",
   "metadata": {},
   "outputs": [],
   "source": [
    "uber_eats_df = pd.DataFrame(data)"
   ]
  },
  {
   "cell_type": "code",
   "execution_count": 4,
   "id": "10ed2afb",
   "metadata": {},
   "outputs": [
    {
     "data": {
      "text/html": [
       "<div>\n",
       "<style scoped>\n",
       "    .dataframe tbody tr th:only-of-type {\n",
       "        vertical-align: middle;\n",
       "    }\n",
       "\n",
       "    .dataframe tbody tr th {\n",
       "        vertical-align: top;\n",
       "    }\n",
       "\n",
       "    .dataframe thead th {\n",
       "        text-align: right;\n",
       "    }\n",
       "</style>\n",
       "<table border=\"1\" class=\"dataframe\">\n",
       "  <thead>\n",
       "    <tr style=\"text-align: right;\">\n",
       "      <th></th>\n",
       "      <th>Order_ID</th>\n",
       "      <th>Customer_ID</th>\n",
       "      <th>Restaurant_ID</th>\n",
       "      <th>Order_Date</th>\n",
       "      <th>Order_Time</th>\n",
       "      <th>Food_Item</th>\n",
       "      <th>Quantity</th>\n",
       "      <th>Price</th>\n",
       "      <th>Delivery_Time(min)</th>\n",
       "      <th>Rating</th>\n",
       "    </tr>\n",
       "  </thead>\n",
       "  <tbody>\n",
       "    <tr>\n",
       "      <th>0</th>\n",
       "      <td>1</td>\n",
       "      <td>101</td>\n",
       "      <td>201</td>\n",
       "      <td>2023-08-01</td>\n",
       "      <td>12:30:00</td>\n",
       "      <td>Burger</td>\n",
       "      <td>2</td>\n",
       "      <td>12.99</td>\n",
       "      <td>30</td>\n",
       "      <td>4.5</td>\n",
       "    </tr>\n",
       "    <tr>\n",
       "      <th>1</th>\n",
       "      <td>2</td>\n",
       "      <td>102</td>\n",
       "      <td>202</td>\n",
       "      <td>2023-08-02</td>\n",
       "      <td>18:45:00</td>\n",
       "      <td>Sushi</td>\n",
       "      <td>1</td>\n",
       "      <td>18.50</td>\n",
       "      <td>45</td>\n",
       "      <td>4.0</td>\n",
       "    </tr>\n",
       "    <tr>\n",
       "      <th>2</th>\n",
       "      <td>3</td>\n",
       "      <td>103</td>\n",
       "      <td>203</td>\n",
       "      <td>2023-08-03</td>\n",
       "      <td>19:20:00</td>\n",
       "      <td>Pasta</td>\n",
       "      <td>3</td>\n",
       "      <td>10.99</td>\n",
       "      <td>40</td>\n",
       "      <td>5.0</td>\n",
       "    </tr>\n",
       "    <tr>\n",
       "      <th>3</th>\n",
       "      <td>4</td>\n",
       "      <td>104</td>\n",
       "      <td>204</td>\n",
       "      <td>2023-08-04</td>\n",
       "      <td>13:15:00</td>\n",
       "      <td>Pizza</td>\n",
       "      <td>1</td>\n",
       "      <td>14.99</td>\n",
       "      <td>35</td>\n",
       "      <td>3.5</td>\n",
       "    </tr>\n",
       "    <tr>\n",
       "      <th>4</th>\n",
       "      <td>5</td>\n",
       "      <td>105</td>\n",
       "      <td>205</td>\n",
       "      <td>2023-08-05</td>\n",
       "      <td>09:30:00</td>\n",
       "      <td>Salad</td>\n",
       "      <td>1</td>\n",
       "      <td>7.99</td>\n",
       "      <td>25</td>\n",
       "      <td>4.0</td>\n",
       "    </tr>\n",
       "  </tbody>\n",
       "</table>\n",
       "</div>"
      ],
      "text/plain": [
       "   Order_ID  Customer_ID  Restaurant_ID Order_Date Order_Time Food_Item  \\\n",
       "0         1          101            201 2023-08-01   12:30:00    Burger   \n",
       "1         2          102            202 2023-08-02   18:45:00     Sushi   \n",
       "2         3          103            203 2023-08-03   19:20:00     Pasta   \n",
       "3         4          104            204 2023-08-04   13:15:00     Pizza   \n",
       "4         5          105            205 2023-08-05   09:30:00     Salad   \n",
       "\n",
       "   Quantity  Price  Delivery_Time(min)  Rating  \n",
       "0         2  12.99                  30     4.5  \n",
       "1         1  18.50                  45     4.0  \n",
       "2         3  10.99                  40     5.0  \n",
       "3         1  14.99                  35     3.5  \n",
       "4         1   7.99                  25     4.0  "
      ]
     },
     "execution_count": 4,
     "metadata": {},
     "output_type": "execute_result"
    }
   ],
   "source": [
    "uber_eats_df"
   ]
  },
  {
   "cell_type": "markdown",
   "id": "eeb9cdee",
   "metadata": {},
   "source": [
    "#### What will the size attribute return when applied to the uber_eats_df DataFrame?"
   ]
  },
  {
   "cell_type": "code",
   "execution_count": 5,
   "id": "83c0c1c5",
   "metadata": {},
   "outputs": [
    {
     "data": {
      "text/plain": [
       "(50, 50)"
      ]
     },
     "execution_count": 5,
     "metadata": {},
     "output_type": "execute_result"
    }
   ],
   "source": [
    "# size = rows * columns\n",
    "size = len(uber_eats_df) * len(uber_eats_df.loc[0])\n",
    "size, uber_eats_df.size"
   ]
  },
  {
   "cell_type": "markdown",
   "id": "02f028b6",
   "metadata": {},
   "source": [
    "#### How would you verify if the size attribute counts the number of rows, columns, or individual elements in the DataFrame?\n"
   ]
  },
  {
   "cell_type": "code",
   "execution_count": 6,
   "id": "3e74f9fc",
   "metadata": {},
   "outputs": [
    {
     "data": {
      "text/plain": [
       "True"
      ]
     },
     "execution_count": 6,
     "metadata": {},
     "output_type": "execute_result"
    }
   ],
   "source": [
    "len(uber_eats_df) * len(uber_eats_df.loc[0]) == uber_eats_df.size"
   ]
  },
  {
   "cell_type": "markdown",
   "id": "761aba72",
   "metadata": {},
   "source": [
    "#### If you apply a filter to uber_eats_df to only include rows where Rating is greater than or equal to 4.5, what will the size attribute return for the filtered DataFrame?"
   ]
  },
  {
   "cell_type": "code",
   "execution_count": 7,
   "id": "852ec150",
   "metadata": {},
   "outputs": [
    {
     "data": {
      "text/plain": [
       "10"
      ]
     },
     "execution_count": 7,
     "metadata": {},
     "output_type": "execute_result"
    }
   ],
   "source": [
    "10\n",
    "uber_eats_df[uber_eats_df['Rating'] > 4.5].size"
   ]
  },
  {
   "cell_type": "markdown",
   "id": "b73dde3f",
   "metadata": {},
   "source": [
    "#### Compare the output of uber_eats_df.size and uber_eats_df.shape. What mathematical operation could you apply to the values in shape to derive the value of size?"
   ]
  },
  {
   "cell_type": "code",
   "execution_count": 8,
   "id": "5bb1812a",
   "metadata": {},
   "outputs": [
    {
     "data": {
      "text/plain": [
       "True"
      ]
     },
     "execution_count": 8,
     "metadata": {},
     "output_type": "execute_result"
    }
   ],
   "source": [
    "uber_eats_df.size == uber_eats_df.shape[0] * uber_eats_df.shape[1]"
   ]
  },
  {
   "cell_type": "markdown",
   "id": "a88b3ccd",
   "metadata": {},
   "source": [
    "#### If you select only the 'Food_Item' and 'Price' columns from uber_eats_df, what will be the output of the size attribute?"
   ]
  },
  {
   "cell_type": "code",
   "execution_count": 9,
   "id": "a70f29cb",
   "metadata": {},
   "outputs": [
    {
     "data": {
      "text/plain": [
       "10"
      ]
     },
     "execution_count": 9,
     "metadata": {},
     "output_type": "execute_result"
    }
   ],
   "source": [
    "10\n",
    "uber_eats_df.loc[:, ['Food_Item', 'Price']].size"
   ]
  },
  {
   "cell_type": "markdown",
   "id": "c59376bc",
   "metadata": {},
   "source": [
    "#### How would the size attribute change if you dropped a row from uber_eats_df? Can you confirm this by coding it?"
   ]
  },
  {
   "cell_type": "code",
   "execution_count": 10,
   "id": "5ff6e42a",
   "metadata": {},
   "outputs": [
    {
     "name": "stdout",
     "output_type": "stream",
     "text": [
      "Before :  50\n",
      "After :  40\n"
     ]
    }
   ],
   "source": [
    "\"\"\"\n",
    "Current size : 50\n",
    "After doriing one row : 40\n",
    "\"\"\"\n",
    "print(\"Before : \", uber_eats_df.size)\n",
    "df = uber_eats_df.drop(4)\n",
    "print(\"After : \", df.size)"
   ]
  },
  {
   "cell_type": "markdown",
   "id": "a1f961dc",
   "metadata": {},
   "source": [
    "#### Create a Series object by selecting the Price column from uber_eats_df. What does the size attribute show for this Series object?"
   ]
  },
  {
   "cell_type": "code",
   "execution_count": 11,
   "id": "6b54f28f",
   "metadata": {},
   "outputs": [
    {
     "data": {
      "text/plain": [
       "5"
      ]
     },
     "execution_count": 11,
     "metadata": {},
     "output_type": "execute_result"
    }
   ],
   "source": [
    "5\n",
    "uber_eats_df['Price'].size"
   ]
  },
  {
   "cell_type": "markdown",
   "id": "380c85d0",
   "metadata": {},
   "source": [
    "#### Does the size attribute include NaN values if they were present in the DataFrame? (You might want to modify the DataFrame to include a NaN value to answer this question.)"
   ]
  },
  {
   "cell_type": "code",
   "execution_count": 12,
   "id": "eba72e50",
   "metadata": {},
   "outputs": [
    {
     "name": "stdout",
     "output_type": "stream",
     "text": [
      "without nan :  50\n",
      "wit nan :  50\n"
     ]
    }
   ],
   "source": [
    "# Yes\n",
    "\n",
    "print(\"without nan : \", uber_eats_df.size)\n",
    "uber_eats_df.loc[4, 'Food_Item'] = np.nan\n",
    "print(\"wit nan : \", uber_eats_df.size)"
   ]
  },
  {
   "cell_type": "markdown",
   "id": "864ea935",
   "metadata": {},
   "source": [
    "#### How would the output of uber_eats_df.size change if you added a new column to the DataFrame? Can you confirm your answer by coding it?"
   ]
  },
  {
   "cell_type": "code",
   "execution_count": 13,
   "id": "bbfc3dd2",
   "metadata": {},
   "outputs": [
    {
     "data": {
      "text/plain": [
       "55"
      ]
     },
     "execution_count": 13,
     "metadata": {},
     "output_type": "execute_result"
    }
   ],
   "source": [
    "# new size after one column: 55\n",
    "# size increases by  (cur_num_rows) * (num_new_columns)\n",
    "\n",
    "uber_eats_df.loc[:, 'Location'] = ['NewYork', \"California\", \"Texas\", \"Dallas\", \"Colorado\"]\n",
    "uber_eats_df.size"
   ]
  },
  {
   "cell_type": "code",
   "execution_count": null,
   "id": "148c618f",
   "metadata": {},
   "outputs": [],
   "source": []
  }
 ],
 "metadata": {
  "kernelspec": {
   "display_name": "Python 3 (ipykernel)",
   "language": "python",
   "name": "python3"
  },
  "language_info": {
   "codemirror_mode": {
    "name": "ipython",
    "version": 3
   },
   "file_extension": ".py",
   "mimetype": "text/x-python",
   "name": "python",
   "nbconvert_exporter": "python",
   "pygments_lexer": "ipython3",
   "version": "3.8.12"
  }
 },
 "nbformat": 4,
 "nbformat_minor": 5
}

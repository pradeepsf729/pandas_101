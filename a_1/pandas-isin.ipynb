{
 "cells": [
  {
   "cell_type": "code",
   "execution_count": 1,
   "id": "f7af5ebf",
   "metadata": {},
   "outputs": [],
   "source": [
    "import pandas as pd"
   ]
  },
  {
   "cell_type": "code",
   "execution_count": 2,
   "id": "92a39d1a",
   "metadata": {},
   "outputs": [],
   "source": [
    "data = {\n",
    "'Store_ID': [101, 102, 103, 104, 105, 106, 107, 108, 109, 110],\n",
    "'Store_Name': ['Walmart', 'Target', 'Costco', 'Aldi', 'Trader Joe\\'s', 'Safeway', 'Kroger', 'Walmart', 'Whole Foods', 'Sprouts'],\n",
    "'City': ['Los Angeles', 'San Francisco', 'San Diego', 'San Jose', 'Sacramento', 'Fresno', 'Oakland', 'Los Angeles', 'Santa Clara', 'Pasadena'],\n",
    "'Annual_Revenue_Millions': [450, 320, 480, 190, 240, 260, 210, 400, 310, 150],\n",
    "'Category': ['Supermarket', 'Department', 'Warehouse', 'Supermarket', 'Supermarket', 'Supermarket', 'Supermarket', 'Supermarket', 'Organic', 'Organic']\n",
    "}"
   ]
  },
  {
   "cell_type": "code",
   "execution_count": 3,
   "id": "4f5720cb",
   "metadata": {},
   "outputs": [],
   "source": [
    "df = pd.DataFrame(data)"
   ]
  },
  {
   "cell_type": "code",
   "execution_count": 4,
   "id": "932a6496",
   "metadata": {},
   "outputs": [
    {
     "data": {
      "text/html": [
       "<div>\n",
       "<style scoped>\n",
       "    .dataframe tbody tr th:only-of-type {\n",
       "        vertical-align: middle;\n",
       "    }\n",
       "\n",
       "    .dataframe tbody tr th {\n",
       "        vertical-align: top;\n",
       "    }\n",
       "\n",
       "    .dataframe thead th {\n",
       "        text-align: right;\n",
       "    }\n",
       "</style>\n",
       "<table border=\"1\" class=\"dataframe\">\n",
       "  <thead>\n",
       "    <tr style=\"text-align: right;\">\n",
       "      <th></th>\n",
       "      <th>Store_ID</th>\n",
       "      <th>Store_Name</th>\n",
       "      <th>City</th>\n",
       "      <th>Annual_Revenue_Millions</th>\n",
       "      <th>Category</th>\n",
       "    </tr>\n",
       "  </thead>\n",
       "  <tbody>\n",
       "    <tr>\n",
       "      <th>0</th>\n",
       "      <td>101</td>\n",
       "      <td>Walmart</td>\n",
       "      <td>Los Angeles</td>\n",
       "      <td>450</td>\n",
       "      <td>Supermarket</td>\n",
       "    </tr>\n",
       "    <tr>\n",
       "      <th>1</th>\n",
       "      <td>102</td>\n",
       "      <td>Target</td>\n",
       "      <td>San Francisco</td>\n",
       "      <td>320</td>\n",
       "      <td>Department</td>\n",
       "    </tr>\n",
       "    <tr>\n",
       "      <th>2</th>\n",
       "      <td>103</td>\n",
       "      <td>Costco</td>\n",
       "      <td>San Diego</td>\n",
       "      <td>480</td>\n",
       "      <td>Warehouse</td>\n",
       "    </tr>\n",
       "    <tr>\n",
       "      <th>3</th>\n",
       "      <td>104</td>\n",
       "      <td>Aldi</td>\n",
       "      <td>San Jose</td>\n",
       "      <td>190</td>\n",
       "      <td>Supermarket</td>\n",
       "    </tr>\n",
       "    <tr>\n",
       "      <th>4</th>\n",
       "      <td>105</td>\n",
       "      <td>Trader Joe's</td>\n",
       "      <td>Sacramento</td>\n",
       "      <td>240</td>\n",
       "      <td>Supermarket</td>\n",
       "    </tr>\n",
       "    <tr>\n",
       "      <th>5</th>\n",
       "      <td>106</td>\n",
       "      <td>Safeway</td>\n",
       "      <td>Fresno</td>\n",
       "      <td>260</td>\n",
       "      <td>Supermarket</td>\n",
       "    </tr>\n",
       "    <tr>\n",
       "      <th>6</th>\n",
       "      <td>107</td>\n",
       "      <td>Kroger</td>\n",
       "      <td>Oakland</td>\n",
       "      <td>210</td>\n",
       "      <td>Supermarket</td>\n",
       "    </tr>\n",
       "    <tr>\n",
       "      <th>7</th>\n",
       "      <td>108</td>\n",
       "      <td>Walmart</td>\n",
       "      <td>Los Angeles</td>\n",
       "      <td>400</td>\n",
       "      <td>Supermarket</td>\n",
       "    </tr>\n",
       "    <tr>\n",
       "      <th>8</th>\n",
       "      <td>109</td>\n",
       "      <td>Whole Foods</td>\n",
       "      <td>Santa Clara</td>\n",
       "      <td>310</td>\n",
       "      <td>Organic</td>\n",
       "    </tr>\n",
       "    <tr>\n",
       "      <th>9</th>\n",
       "      <td>110</td>\n",
       "      <td>Sprouts</td>\n",
       "      <td>Pasadena</td>\n",
       "      <td>150</td>\n",
       "      <td>Organic</td>\n",
       "    </tr>\n",
       "  </tbody>\n",
       "</table>\n",
       "</div>"
      ],
      "text/plain": [
       "   Store_ID    Store_Name           City  Annual_Revenue_Millions     Category\n",
       "0       101       Walmart    Los Angeles                      450  Supermarket\n",
       "1       102        Target  San Francisco                      320   Department\n",
       "2       103        Costco      San Diego                      480    Warehouse\n",
       "3       104          Aldi       San Jose                      190  Supermarket\n",
       "4       105  Trader Joe's     Sacramento                      240  Supermarket\n",
       "5       106       Safeway         Fresno                      260  Supermarket\n",
       "6       107        Kroger        Oakland                      210  Supermarket\n",
       "7       108       Walmart    Los Angeles                      400  Supermarket\n",
       "8       109   Whole Foods    Santa Clara                      310      Organic\n",
       "9       110       Sprouts       Pasadena                      150      Organic"
      ]
     },
     "execution_count": 4,
     "metadata": {},
     "output_type": "execute_result"
    }
   ],
   "source": [
    "df"
   ]
  },
  {
   "cell_type": "markdown",
   "id": "730b07fe",
   "metadata": {},
   "source": [
    "#### How would you filter the DataFrame to get stores located in either 'Los Angeles' or 'San Diego'?"
   ]
  },
  {
   "cell_type": "code",
   "execution_count": 8,
   "id": "40814eec",
   "metadata": {},
   "outputs": [
    {
     "data": {
      "text/html": [
       "<div>\n",
       "<style scoped>\n",
       "    .dataframe tbody tr th:only-of-type {\n",
       "        vertical-align: middle;\n",
       "    }\n",
       "\n",
       "    .dataframe tbody tr th {\n",
       "        vertical-align: top;\n",
       "    }\n",
       "\n",
       "    .dataframe thead th {\n",
       "        text-align: right;\n",
       "    }\n",
       "</style>\n",
       "<table border=\"1\" class=\"dataframe\">\n",
       "  <thead>\n",
       "    <tr style=\"text-align: right;\">\n",
       "      <th></th>\n",
       "      <th>Store_ID</th>\n",
       "      <th>Store_Name</th>\n",
       "      <th>City</th>\n",
       "      <th>Annual_Revenue_Millions</th>\n",
       "      <th>Category</th>\n",
       "    </tr>\n",
       "  </thead>\n",
       "  <tbody>\n",
       "    <tr>\n",
       "      <th>0</th>\n",
       "      <td>101</td>\n",
       "      <td>Walmart</td>\n",
       "      <td>Los Angeles</td>\n",
       "      <td>450</td>\n",
       "      <td>Supermarket</td>\n",
       "    </tr>\n",
       "    <tr>\n",
       "      <th>2</th>\n",
       "      <td>103</td>\n",
       "      <td>Costco</td>\n",
       "      <td>San Diego</td>\n",
       "      <td>480</td>\n",
       "      <td>Warehouse</td>\n",
       "    </tr>\n",
       "    <tr>\n",
       "      <th>7</th>\n",
       "      <td>108</td>\n",
       "      <td>Walmart</td>\n",
       "      <td>Los Angeles</td>\n",
       "      <td>400</td>\n",
       "      <td>Supermarket</td>\n",
       "    </tr>\n",
       "  </tbody>\n",
       "</table>\n",
       "</div>"
      ],
      "text/plain": [
       "   Store_ID Store_Name         City  Annual_Revenue_Millions     Category\n",
       "0       101    Walmart  Los Angeles                      450  Supermarket\n",
       "2       103     Costco    San Diego                      480    Warehouse\n",
       "7       108    Walmart  Los Angeles                      400  Supermarket"
      ]
     },
     "execution_count": 8,
     "metadata": {},
     "output_type": "execute_result"
    }
   ],
   "source": [
    "df[df.isin(['Los Angeles', 'San Diego']).loc[:,'City']]"
   ]
  },
  {
   "cell_type": "markdown",
   "id": "b4c22c23",
   "metadata": {},
   "source": [
    "#### Can you use isin to find out which stores in the DataFrame have an annual revenue of either 450 or 480 million?"
   ]
  },
  {
   "cell_type": "code",
   "execution_count": 13,
   "id": "a84561ea",
   "metadata": {},
   "outputs": [
    {
     "data": {
      "text/html": [
       "<div>\n",
       "<style scoped>\n",
       "    .dataframe tbody tr th:only-of-type {\n",
       "        vertical-align: middle;\n",
       "    }\n",
       "\n",
       "    .dataframe tbody tr th {\n",
       "        vertical-align: top;\n",
       "    }\n",
       "\n",
       "    .dataframe thead th {\n",
       "        text-align: right;\n",
       "    }\n",
       "</style>\n",
       "<table border=\"1\" class=\"dataframe\">\n",
       "  <thead>\n",
       "    <tr style=\"text-align: right;\">\n",
       "      <th></th>\n",
       "      <th>Store_ID</th>\n",
       "      <th>Store_Name</th>\n",
       "      <th>City</th>\n",
       "      <th>Annual_Revenue_Millions</th>\n",
       "      <th>Category</th>\n",
       "    </tr>\n",
       "  </thead>\n",
       "  <tbody>\n",
       "    <tr>\n",
       "      <th>0</th>\n",
       "      <td>101</td>\n",
       "      <td>Walmart</td>\n",
       "      <td>Los Angeles</td>\n",
       "      <td>450</td>\n",
       "      <td>Supermarket</td>\n",
       "    </tr>\n",
       "    <tr>\n",
       "      <th>2</th>\n",
       "      <td>103</td>\n",
       "      <td>Costco</td>\n",
       "      <td>San Diego</td>\n",
       "      <td>480</td>\n",
       "      <td>Warehouse</td>\n",
       "    </tr>\n",
       "  </tbody>\n",
       "</table>\n",
       "</div>"
      ],
      "text/plain": [
       "   Store_ID Store_Name         City  Annual_Revenue_Millions     Category\n",
       "0       101    Walmart  Los Angeles                      450  Supermarket\n",
       "2       103     Costco    San Diego                      480    Warehouse"
      ]
     },
     "execution_count": 13,
     "metadata": {},
     "output_type": "execute_result"
    }
   ],
   "source": [
    "df[df.isin({'Annual_Revenue_Millions' : [450, 480]}).loc[:,'Annual_Revenue_Millions']]"
   ]
  },
  {
   "cell_type": "markdown",
   "id": "4fdffa0e",
   "metadata": {},
   "source": [
    "#### How would you use isin to identify rows where the store name is either 'Walmart' or 'Aldi'?"
   ]
  },
  {
   "cell_type": "code",
   "execution_count": 14,
   "id": "b26962d8",
   "metadata": {},
   "outputs": [
    {
     "data": {
      "text/html": [
       "<div>\n",
       "<style scoped>\n",
       "    .dataframe tbody tr th:only-of-type {\n",
       "        vertical-align: middle;\n",
       "    }\n",
       "\n",
       "    .dataframe tbody tr th {\n",
       "        vertical-align: top;\n",
       "    }\n",
       "\n",
       "    .dataframe thead th {\n",
       "        text-align: right;\n",
       "    }\n",
       "</style>\n",
       "<table border=\"1\" class=\"dataframe\">\n",
       "  <thead>\n",
       "    <tr style=\"text-align: right;\">\n",
       "      <th></th>\n",
       "      <th>Store_ID</th>\n",
       "      <th>Store_Name</th>\n",
       "      <th>City</th>\n",
       "      <th>Annual_Revenue_Millions</th>\n",
       "      <th>Category</th>\n",
       "    </tr>\n",
       "  </thead>\n",
       "  <tbody>\n",
       "    <tr>\n",
       "      <th>0</th>\n",
       "      <td>101</td>\n",
       "      <td>Walmart</td>\n",
       "      <td>Los Angeles</td>\n",
       "      <td>450</td>\n",
       "      <td>Supermarket</td>\n",
       "    </tr>\n",
       "    <tr>\n",
       "      <th>3</th>\n",
       "      <td>104</td>\n",
       "      <td>Aldi</td>\n",
       "      <td>San Jose</td>\n",
       "      <td>190</td>\n",
       "      <td>Supermarket</td>\n",
       "    </tr>\n",
       "    <tr>\n",
       "      <th>7</th>\n",
       "      <td>108</td>\n",
       "      <td>Walmart</td>\n",
       "      <td>Los Angeles</td>\n",
       "      <td>400</td>\n",
       "      <td>Supermarket</td>\n",
       "    </tr>\n",
       "  </tbody>\n",
       "</table>\n",
       "</div>"
      ],
      "text/plain": [
       "   Store_ID Store_Name         City  Annual_Revenue_Millions     Category\n",
       "0       101    Walmart  Los Angeles                      450  Supermarket\n",
       "3       104       Aldi     San Jose                      190  Supermarket\n",
       "7       108    Walmart  Los Angeles                      400  Supermarket"
      ]
     },
     "execution_count": 14,
     "metadata": {},
     "output_type": "execute_result"
    }
   ],
   "source": [
    "df[df.isin({'Store_Name' : ['Walmart', 'Aldi']}).loc[:,'Store_Name']]"
   ]
  },
  {
   "cell_type": "markdown",
   "id": "f1c77441",
   "metadata": {},
   "source": [
    "#### Imagine you have a list selected_cities = ['Sacramento', 'Oakland']. How would you use the is in method to filter the DataFrame based on this list?"
   ]
  },
  {
   "cell_type": "code",
   "execution_count": 16,
   "id": "430ef9c3",
   "metadata": {},
   "outputs": [],
   "source": [
    "selected_cities = ['Sacramento', 'Oakland']"
   ]
  },
  {
   "cell_type": "code",
   "execution_count": 19,
   "id": "e59230e9",
   "metadata": {},
   "outputs": [
    {
     "data": {
      "text/html": [
       "<div>\n",
       "<style scoped>\n",
       "    .dataframe tbody tr th:only-of-type {\n",
       "        vertical-align: middle;\n",
       "    }\n",
       "\n",
       "    .dataframe tbody tr th {\n",
       "        vertical-align: top;\n",
       "    }\n",
       "\n",
       "    .dataframe thead th {\n",
       "        text-align: right;\n",
       "    }\n",
       "</style>\n",
       "<table border=\"1\" class=\"dataframe\">\n",
       "  <thead>\n",
       "    <tr style=\"text-align: right;\">\n",
       "      <th></th>\n",
       "      <th>Store_ID</th>\n",
       "      <th>Store_Name</th>\n",
       "      <th>City</th>\n",
       "      <th>Annual_Revenue_Millions</th>\n",
       "      <th>Category</th>\n",
       "    </tr>\n",
       "  </thead>\n",
       "  <tbody>\n",
       "    <tr>\n",
       "      <th>4</th>\n",
       "      <td>105</td>\n",
       "      <td>Trader Joe's</td>\n",
       "      <td>Sacramento</td>\n",
       "      <td>240</td>\n",
       "      <td>Supermarket</td>\n",
       "    </tr>\n",
       "    <tr>\n",
       "      <th>6</th>\n",
       "      <td>107</td>\n",
       "      <td>Kroger</td>\n",
       "      <td>Oakland</td>\n",
       "      <td>210</td>\n",
       "      <td>Supermarket</td>\n",
       "    </tr>\n",
       "  </tbody>\n",
       "</table>\n",
       "</div>"
      ],
      "text/plain": [
       "   Store_ID    Store_Name        City  Annual_Revenue_Millions     Category\n",
       "4       105  Trader Joe's  Sacramento                      240  Supermarket\n",
       "6       107        Kroger     Oakland                      210  Supermarket"
      ]
     },
     "execution_count": 19,
     "metadata": {},
     "output_type": "execute_result"
    }
   ],
   "source": [
    "df[df.isin(selected_cities).loc[:, 'City']]"
   ]
  },
  {
   "cell_type": "markdown",
   "id": "4bb724b9",
   "metadata": {},
   "source": [
    "#### Can you identify which rows have the store category either as 'Organic' or 'Warehouse'?"
   ]
  },
  {
   "cell_type": "code",
   "execution_count": 20,
   "id": "21385cf8",
   "metadata": {},
   "outputs": [
    {
     "data": {
      "text/html": [
       "<div>\n",
       "<style scoped>\n",
       "    .dataframe tbody tr th:only-of-type {\n",
       "        vertical-align: middle;\n",
       "    }\n",
       "\n",
       "    .dataframe tbody tr th {\n",
       "        vertical-align: top;\n",
       "    }\n",
       "\n",
       "    .dataframe thead th {\n",
       "        text-align: right;\n",
       "    }\n",
       "</style>\n",
       "<table border=\"1\" class=\"dataframe\">\n",
       "  <thead>\n",
       "    <tr style=\"text-align: right;\">\n",
       "      <th></th>\n",
       "      <th>Store_ID</th>\n",
       "      <th>Store_Name</th>\n",
       "      <th>City</th>\n",
       "      <th>Annual_Revenue_Millions</th>\n",
       "      <th>Category</th>\n",
       "    </tr>\n",
       "  </thead>\n",
       "  <tbody>\n",
       "    <tr>\n",
       "      <th>2</th>\n",
       "      <td>103</td>\n",
       "      <td>Costco</td>\n",
       "      <td>San Diego</td>\n",
       "      <td>480</td>\n",
       "      <td>Warehouse</td>\n",
       "    </tr>\n",
       "    <tr>\n",
       "      <th>8</th>\n",
       "      <td>109</td>\n",
       "      <td>Whole Foods</td>\n",
       "      <td>Santa Clara</td>\n",
       "      <td>310</td>\n",
       "      <td>Organic</td>\n",
       "    </tr>\n",
       "    <tr>\n",
       "      <th>9</th>\n",
       "      <td>110</td>\n",
       "      <td>Sprouts</td>\n",
       "      <td>Pasadena</td>\n",
       "      <td>150</td>\n",
       "      <td>Organic</td>\n",
       "    </tr>\n",
       "  </tbody>\n",
       "</table>\n",
       "</div>"
      ],
      "text/plain": [
       "   Store_ID   Store_Name         City  Annual_Revenue_Millions   Category\n",
       "2       103       Costco    San Diego                      480  Warehouse\n",
       "8       109  Whole Foods  Santa Clara                      310    Organic\n",
       "9       110      Sprouts     Pasadena                      150    Organic"
      ]
     },
     "execution_count": 20,
     "metadata": {},
     "output_type": "execute_result"
    }
   ],
   "source": [
    "df[df.isin({'Category' : ['Organic', 'Warehouse']}).loc[:,'Category']]"
   ]
  },
  {
   "cell_type": "markdown",
   "id": "dbaeea76",
   "metadata": {},
   "source": [
    "#### How would you use the isin method to exclude rows where the store name is 'Trader Joe's'?"
   ]
  },
  {
   "cell_type": "code",
   "execution_count": 24,
   "id": "cfa9ad9b",
   "metadata": {},
   "outputs": [
    {
     "data": {
      "text/html": [
       "<div>\n",
       "<style scoped>\n",
       "    .dataframe tbody tr th:only-of-type {\n",
       "        vertical-align: middle;\n",
       "    }\n",
       "\n",
       "    .dataframe tbody tr th {\n",
       "        vertical-align: top;\n",
       "    }\n",
       "\n",
       "    .dataframe thead th {\n",
       "        text-align: right;\n",
       "    }\n",
       "</style>\n",
       "<table border=\"1\" class=\"dataframe\">\n",
       "  <thead>\n",
       "    <tr style=\"text-align: right;\">\n",
       "      <th></th>\n",
       "      <th>Store_ID</th>\n",
       "      <th>Store_Name</th>\n",
       "      <th>City</th>\n",
       "      <th>Annual_Revenue_Millions</th>\n",
       "      <th>Category</th>\n",
       "    </tr>\n",
       "  </thead>\n",
       "  <tbody>\n",
       "    <tr>\n",
       "      <th>0</th>\n",
       "      <td>101</td>\n",
       "      <td>Walmart</td>\n",
       "      <td>Los Angeles</td>\n",
       "      <td>450</td>\n",
       "      <td>Supermarket</td>\n",
       "    </tr>\n",
       "    <tr>\n",
       "      <th>1</th>\n",
       "      <td>102</td>\n",
       "      <td>Target</td>\n",
       "      <td>San Francisco</td>\n",
       "      <td>320</td>\n",
       "      <td>Department</td>\n",
       "    </tr>\n",
       "    <tr>\n",
       "      <th>2</th>\n",
       "      <td>103</td>\n",
       "      <td>Costco</td>\n",
       "      <td>San Diego</td>\n",
       "      <td>480</td>\n",
       "      <td>Warehouse</td>\n",
       "    </tr>\n",
       "    <tr>\n",
       "      <th>3</th>\n",
       "      <td>104</td>\n",
       "      <td>Aldi</td>\n",
       "      <td>San Jose</td>\n",
       "      <td>190</td>\n",
       "      <td>Supermarket</td>\n",
       "    </tr>\n",
       "    <tr>\n",
       "      <th>5</th>\n",
       "      <td>106</td>\n",
       "      <td>Safeway</td>\n",
       "      <td>Fresno</td>\n",
       "      <td>260</td>\n",
       "      <td>Supermarket</td>\n",
       "    </tr>\n",
       "    <tr>\n",
       "      <th>6</th>\n",
       "      <td>107</td>\n",
       "      <td>Kroger</td>\n",
       "      <td>Oakland</td>\n",
       "      <td>210</td>\n",
       "      <td>Supermarket</td>\n",
       "    </tr>\n",
       "    <tr>\n",
       "      <th>7</th>\n",
       "      <td>108</td>\n",
       "      <td>Walmart</td>\n",
       "      <td>Los Angeles</td>\n",
       "      <td>400</td>\n",
       "      <td>Supermarket</td>\n",
       "    </tr>\n",
       "    <tr>\n",
       "      <th>8</th>\n",
       "      <td>109</td>\n",
       "      <td>Whole Foods</td>\n",
       "      <td>Santa Clara</td>\n",
       "      <td>310</td>\n",
       "      <td>Organic</td>\n",
       "    </tr>\n",
       "    <tr>\n",
       "      <th>9</th>\n",
       "      <td>110</td>\n",
       "      <td>Sprouts</td>\n",
       "      <td>Pasadena</td>\n",
       "      <td>150</td>\n",
       "      <td>Organic</td>\n",
       "    </tr>\n",
       "  </tbody>\n",
       "</table>\n",
       "</div>"
      ],
      "text/plain": [
       "   Store_ID   Store_Name           City  Annual_Revenue_Millions     Category\n",
       "0       101      Walmart    Los Angeles                      450  Supermarket\n",
       "1       102       Target  San Francisco                      320   Department\n",
       "2       103       Costco      San Diego                      480    Warehouse\n",
       "3       104         Aldi       San Jose                      190  Supermarket\n",
       "5       106      Safeway         Fresno                      260  Supermarket\n",
       "6       107       Kroger        Oakland                      210  Supermarket\n",
       "7       108      Walmart    Los Angeles                      400  Supermarket\n",
       "8       109  Whole Foods    Santa Clara                      310      Organic\n",
       "9       110      Sprouts       Pasadena                      150      Organic"
      ]
     },
     "execution_count": 24,
     "metadata": {},
     "output_type": "execute_result"
    }
   ],
   "source": [
    "df[~df.isin({'Store_Name' : ['Trader Joe\\'s']}).loc[:,'Store_Name']]"
   ]
  },
  {
   "cell_type": "markdown",
   "id": "ce221ff8",
   "metadata": {},
   "source": [
    "#### If you had a Series s = pd.Series([101, 103, 105]), how would you use isin to filter rows in the DataFrame with matching Store_IDs?"
   ]
  },
  {
   "cell_type": "code",
   "execution_count": 25,
   "id": "ae3511aa",
   "metadata": {},
   "outputs": [],
   "source": [
    "s = pd.Series([101, 103, 105])"
   ]
  },
  {
   "cell_type": "code",
   "execution_count": 28,
   "id": "5904245e",
   "metadata": {},
   "outputs": [
    {
     "data": {
      "text/plain": [
       "array([101, 103, 105])"
      ]
     },
     "execution_count": 28,
     "metadata": {},
     "output_type": "execute_result"
    }
   ],
   "source": [
    "s.values"
   ]
  },
  {
   "cell_type": "code",
   "execution_count": 32,
   "id": "fa1d47c3",
   "metadata": {},
   "outputs": [
    {
     "data": {
      "text/html": [
       "<div>\n",
       "<style scoped>\n",
       "    .dataframe tbody tr th:only-of-type {\n",
       "        vertical-align: middle;\n",
       "    }\n",
       "\n",
       "    .dataframe tbody tr th {\n",
       "        vertical-align: top;\n",
       "    }\n",
       "\n",
       "    .dataframe thead th {\n",
       "        text-align: right;\n",
       "    }\n",
       "</style>\n",
       "<table border=\"1\" class=\"dataframe\">\n",
       "  <thead>\n",
       "    <tr style=\"text-align: right;\">\n",
       "      <th></th>\n",
       "      <th>Store_ID</th>\n",
       "      <th>Store_Name</th>\n",
       "      <th>City</th>\n",
       "      <th>Annual_Revenue_Millions</th>\n",
       "      <th>Category</th>\n",
       "    </tr>\n",
       "  </thead>\n",
       "  <tbody>\n",
       "    <tr>\n",
       "      <th>0</th>\n",
       "      <td>101</td>\n",
       "      <td>Walmart</td>\n",
       "      <td>Los Angeles</td>\n",
       "      <td>450</td>\n",
       "      <td>Supermarket</td>\n",
       "    </tr>\n",
       "    <tr>\n",
       "      <th>2</th>\n",
       "      <td>103</td>\n",
       "      <td>Costco</td>\n",
       "      <td>San Diego</td>\n",
       "      <td>480</td>\n",
       "      <td>Warehouse</td>\n",
       "    </tr>\n",
       "    <tr>\n",
       "      <th>4</th>\n",
       "      <td>105</td>\n",
       "      <td>Trader Joe's</td>\n",
       "      <td>Sacramento</td>\n",
       "      <td>240</td>\n",
       "      <td>Supermarket</td>\n",
       "    </tr>\n",
       "  </tbody>\n",
       "</table>\n",
       "</div>"
      ],
      "text/plain": [
       "   Store_ID    Store_Name         City  Annual_Revenue_Millions     Category\n",
       "0       101       Walmart  Los Angeles                      450  Supermarket\n",
       "2       103        Costco    San Diego                      480    Warehouse\n",
       "4       105  Trader Joe's   Sacramento                      240  Supermarket"
      ]
     },
     "execution_count": 32,
     "metadata": {},
     "output_type": "execute_result"
    }
   ],
   "source": [
    "df[df.isin({'Store_ID' :list(s.values)}).loc[:, 'Store_ID']]"
   ]
  },
  {
   "cell_type": "markdown",
   "id": "bff3b851",
   "metadata": {},
   "source": [
    "#### How can you combine isin with the ~ operator to filter out rows where the city is either 'San Francisco' or 'Santa Clara'?"
   ]
  },
  {
   "cell_type": "code",
   "execution_count": 36,
   "id": "d9c20d53",
   "metadata": {},
   "outputs": [
    {
     "data": {
      "text/html": [
       "<div>\n",
       "<style scoped>\n",
       "    .dataframe tbody tr th:only-of-type {\n",
       "        vertical-align: middle;\n",
       "    }\n",
       "\n",
       "    .dataframe tbody tr th {\n",
       "        vertical-align: top;\n",
       "    }\n",
       "\n",
       "    .dataframe thead th {\n",
       "        text-align: right;\n",
       "    }\n",
       "</style>\n",
       "<table border=\"1\" class=\"dataframe\">\n",
       "  <thead>\n",
       "    <tr style=\"text-align: right;\">\n",
       "      <th></th>\n",
       "      <th>Store_ID</th>\n",
       "      <th>Store_Name</th>\n",
       "      <th>City</th>\n",
       "      <th>Annual_Revenue_Millions</th>\n",
       "      <th>Category</th>\n",
       "    </tr>\n",
       "  </thead>\n",
       "  <tbody>\n",
       "    <tr>\n",
       "      <th>1</th>\n",
       "      <td>102</td>\n",
       "      <td>Target</td>\n",
       "      <td>San Francisco</td>\n",
       "      <td>320</td>\n",
       "      <td>Department</td>\n",
       "    </tr>\n",
       "    <tr>\n",
       "      <th>8</th>\n",
       "      <td>109</td>\n",
       "      <td>Whole Foods</td>\n",
       "      <td>Santa Clara</td>\n",
       "      <td>310</td>\n",
       "      <td>Organic</td>\n",
       "    </tr>\n",
       "  </tbody>\n",
       "</table>\n",
       "</div>"
      ],
      "text/plain": [
       "   Store_ID   Store_Name           City  Annual_Revenue_Millions    Category\n",
       "1       102       Target  San Francisco                      320  Department\n",
       "8       109  Whole Foods    Santa Clara                      310     Organic"
      ]
     },
     "execution_count": 36,
     "metadata": {},
     "output_type": "execute_result"
    }
   ],
   "source": [
    "df[df.isin(['San Francisco', 'Santa Clara']).loc[:,'City']]"
   ]
  },
  {
   "cell_type": "code",
   "execution_count": 38,
   "id": "68efa288",
   "metadata": {},
   "outputs": [
    {
     "data": {
      "text/plain": [
       "array(['Los Angeles', 'San Francisco', 'San Diego', 'San Jose',\n",
       "       'Sacramento', 'Fresno', 'Oakland', 'Los Angeles', 'Santa Clara',\n",
       "       'Pasadena'], dtype=object)"
      ]
     },
     "execution_count": 38,
     "metadata": {},
     "output_type": "execute_result"
    }
   ],
   "source": [
    "df['City'].values"
   ]
  },
  {
   "cell_type": "markdown",
   "id": "a39410fa",
   "metadata": {},
   "source": [
    "#### Can you find out which stores are not categorized as 'Supermarket' using the isin method?"
   ]
  },
  {
   "cell_type": "code",
   "execution_count": 40,
   "id": "33972e13",
   "metadata": {},
   "outputs": [
    {
     "data": {
      "text/html": [
       "<div>\n",
       "<style scoped>\n",
       "    .dataframe tbody tr th:only-of-type {\n",
       "        vertical-align: middle;\n",
       "    }\n",
       "\n",
       "    .dataframe tbody tr th {\n",
       "        vertical-align: top;\n",
       "    }\n",
       "\n",
       "    .dataframe thead th {\n",
       "        text-align: right;\n",
       "    }\n",
       "</style>\n",
       "<table border=\"1\" class=\"dataframe\">\n",
       "  <thead>\n",
       "    <tr style=\"text-align: right;\">\n",
       "      <th></th>\n",
       "      <th>Store_ID</th>\n",
       "      <th>Store_Name</th>\n",
       "      <th>City</th>\n",
       "      <th>Annual_Revenue_Millions</th>\n",
       "      <th>Category</th>\n",
       "    </tr>\n",
       "  </thead>\n",
       "  <tbody>\n",
       "    <tr>\n",
       "      <th>1</th>\n",
       "      <td>102</td>\n",
       "      <td>Target</td>\n",
       "      <td>San Francisco</td>\n",
       "      <td>320</td>\n",
       "      <td>Department</td>\n",
       "    </tr>\n",
       "    <tr>\n",
       "      <th>2</th>\n",
       "      <td>103</td>\n",
       "      <td>Costco</td>\n",
       "      <td>San Diego</td>\n",
       "      <td>480</td>\n",
       "      <td>Warehouse</td>\n",
       "    </tr>\n",
       "    <tr>\n",
       "      <th>8</th>\n",
       "      <td>109</td>\n",
       "      <td>Whole Foods</td>\n",
       "      <td>Santa Clara</td>\n",
       "      <td>310</td>\n",
       "      <td>Organic</td>\n",
       "    </tr>\n",
       "    <tr>\n",
       "      <th>9</th>\n",
       "      <td>110</td>\n",
       "      <td>Sprouts</td>\n",
       "      <td>Pasadena</td>\n",
       "      <td>150</td>\n",
       "      <td>Organic</td>\n",
       "    </tr>\n",
       "  </tbody>\n",
       "</table>\n",
       "</div>"
      ],
      "text/plain": [
       "   Store_ID   Store_Name           City  Annual_Revenue_Millions    Category\n",
       "1       102       Target  San Francisco                      320  Department\n",
       "2       103       Costco      San Diego                      480   Warehouse\n",
       "8       109  Whole Foods    Santa Clara                      310     Organic\n",
       "9       110      Sprouts       Pasadena                      150     Organic"
      ]
     },
     "execution_count": 40,
     "metadata": {},
     "output_type": "execute_result"
    }
   ],
   "source": [
    "df[~df.isin({'Category' : ['Supermarket']}).loc[:,'Category']]"
   ]
  },
  {
   "cell_type": "markdown",
   "id": "861707a0",
   "metadata": {},
   "source": [
    "#### Imagine there's an external list of store names for a promotion. \n",
    "\n",
    "#### How would you use the isin method to filter only the rows of the DataFrame that match the store names in this list?"
   ]
  },
  {
   "cell_type": "code",
   "execution_count": 45,
   "id": "fccdfc85",
   "metadata": {},
   "outputs": [],
   "source": [
    "l = ['Target', 'Walmart', 'Whole Foods']"
   ]
  },
  {
   "cell_type": "code",
   "execution_count": 46,
   "id": "c58949f9",
   "metadata": {},
   "outputs": [
    {
     "data": {
      "text/html": [
       "<div>\n",
       "<style scoped>\n",
       "    .dataframe tbody tr th:only-of-type {\n",
       "        vertical-align: middle;\n",
       "    }\n",
       "\n",
       "    .dataframe tbody tr th {\n",
       "        vertical-align: top;\n",
       "    }\n",
       "\n",
       "    .dataframe thead th {\n",
       "        text-align: right;\n",
       "    }\n",
       "</style>\n",
       "<table border=\"1\" class=\"dataframe\">\n",
       "  <thead>\n",
       "    <tr style=\"text-align: right;\">\n",
       "      <th></th>\n",
       "      <th>Store_ID</th>\n",
       "      <th>Store_Name</th>\n",
       "      <th>City</th>\n",
       "      <th>Annual_Revenue_Millions</th>\n",
       "      <th>Category</th>\n",
       "    </tr>\n",
       "  </thead>\n",
       "  <tbody>\n",
       "    <tr>\n",
       "      <th>0</th>\n",
       "      <td>101</td>\n",
       "      <td>Walmart</td>\n",
       "      <td>Los Angeles</td>\n",
       "      <td>450</td>\n",
       "      <td>Supermarket</td>\n",
       "    </tr>\n",
       "    <tr>\n",
       "      <th>1</th>\n",
       "      <td>102</td>\n",
       "      <td>Target</td>\n",
       "      <td>San Francisco</td>\n",
       "      <td>320</td>\n",
       "      <td>Department</td>\n",
       "    </tr>\n",
       "    <tr>\n",
       "      <th>7</th>\n",
       "      <td>108</td>\n",
       "      <td>Walmart</td>\n",
       "      <td>Los Angeles</td>\n",
       "      <td>400</td>\n",
       "      <td>Supermarket</td>\n",
       "    </tr>\n",
       "    <tr>\n",
       "      <th>8</th>\n",
       "      <td>109</td>\n",
       "      <td>Whole Foods</td>\n",
       "      <td>Santa Clara</td>\n",
       "      <td>310</td>\n",
       "      <td>Organic</td>\n",
       "    </tr>\n",
       "  </tbody>\n",
       "</table>\n",
       "</div>"
      ],
      "text/plain": [
       "   Store_ID   Store_Name           City  Annual_Revenue_Millions     Category\n",
       "0       101      Walmart    Los Angeles                      450  Supermarket\n",
       "1       102       Target  San Francisco                      320   Department\n",
       "7       108      Walmart    Los Angeles                      400  Supermarket\n",
       "8       109  Whole Foods    Santa Clara                      310      Organic"
      ]
     },
     "execution_count": 46,
     "metadata": {},
     "output_type": "execute_result"
    }
   ],
   "source": [
    "df[df.isin({'Store_Name' : l}).loc[:, 'Store_Name']]"
   ]
  },
  {
   "cell_type": "code",
   "execution_count": null,
   "id": "ce136839",
   "metadata": {},
   "outputs": [],
   "source": []
  }
 ],
 "metadata": {
  "kernelspec": {
   "display_name": "Python 3 (ipykernel)",
   "language": "python",
   "name": "python3"
  },
  "language_info": {
   "codemirror_mode": {
    "name": "ipython",
    "version": 3
   },
   "file_extension": ".py",
   "mimetype": "text/x-python",
   "name": "python",
   "nbconvert_exporter": "python",
   "pygments_lexer": "ipython3",
   "version": "3.8.12"
  }
 },
 "nbformat": 4,
 "nbformat_minor": 5
}

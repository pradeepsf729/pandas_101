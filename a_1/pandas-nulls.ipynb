{
 "cells": [
  {
   "cell_type": "code",
   "execution_count": 1,
   "id": "befa9c8c",
   "metadata": {},
   "outputs": [],
   "source": [
    "import pandas as pd\n",
    "import numpy as np"
   ]
  },
  {
   "cell_type": "code",
   "execution_count": 2,
   "id": "558c3487",
   "metadata": {},
   "outputs": [],
   "source": [
    "data = {\n",
    "    'Product_ID': [1, 2, 3, 4, 5, np.nan],\n",
    "    'Product_Name': ['Laptop', 'Phone', 'TV', 'Headphones', None, 'Microwave'],\n",
    "    'Stock': [20, 15, np.nan, 30, 25, 12],\n",
    "    'Price': [999.99, 799.99, 399.99, np.nan, 59.99, 99.99],\n",
    "    'Discounted': [True, False, True, False, np.nan, True],\n",
    "}\n",
    "\n",
    "target_df = pd.DataFrame(data)"
   ]
  },
  {
   "cell_type": "code",
   "execution_count": 3,
   "id": "d3044539",
   "metadata": {},
   "outputs": [
    {
     "data": {
      "text/html": [
       "<div>\n",
       "<style scoped>\n",
       "    .dataframe tbody tr th:only-of-type {\n",
       "        vertical-align: middle;\n",
       "    }\n",
       "\n",
       "    .dataframe tbody tr th {\n",
       "        vertical-align: top;\n",
       "    }\n",
       "\n",
       "    .dataframe thead th {\n",
       "        text-align: right;\n",
       "    }\n",
       "</style>\n",
       "<table border=\"1\" class=\"dataframe\">\n",
       "  <thead>\n",
       "    <tr style=\"text-align: right;\">\n",
       "      <th></th>\n",
       "      <th>Product_ID</th>\n",
       "      <th>Product_Name</th>\n",
       "      <th>Stock</th>\n",
       "      <th>Price</th>\n",
       "      <th>Discounted</th>\n",
       "    </tr>\n",
       "  </thead>\n",
       "  <tbody>\n",
       "    <tr>\n",
       "      <th>0</th>\n",
       "      <td>1.0</td>\n",
       "      <td>Laptop</td>\n",
       "      <td>20.0</td>\n",
       "      <td>999.99</td>\n",
       "      <td>True</td>\n",
       "    </tr>\n",
       "    <tr>\n",
       "      <th>1</th>\n",
       "      <td>2.0</td>\n",
       "      <td>Phone</td>\n",
       "      <td>15.0</td>\n",
       "      <td>799.99</td>\n",
       "      <td>False</td>\n",
       "    </tr>\n",
       "    <tr>\n",
       "      <th>2</th>\n",
       "      <td>3.0</td>\n",
       "      <td>TV</td>\n",
       "      <td>NaN</td>\n",
       "      <td>399.99</td>\n",
       "      <td>True</td>\n",
       "    </tr>\n",
       "    <tr>\n",
       "      <th>3</th>\n",
       "      <td>4.0</td>\n",
       "      <td>Headphones</td>\n",
       "      <td>30.0</td>\n",
       "      <td>NaN</td>\n",
       "      <td>False</td>\n",
       "    </tr>\n",
       "    <tr>\n",
       "      <th>4</th>\n",
       "      <td>5.0</td>\n",
       "      <td>None</td>\n",
       "      <td>25.0</td>\n",
       "      <td>59.99</td>\n",
       "      <td>NaN</td>\n",
       "    </tr>\n",
       "    <tr>\n",
       "      <th>5</th>\n",
       "      <td>NaN</td>\n",
       "      <td>Microwave</td>\n",
       "      <td>12.0</td>\n",
       "      <td>99.99</td>\n",
       "      <td>True</td>\n",
       "    </tr>\n",
       "  </tbody>\n",
       "</table>\n",
       "</div>"
      ],
      "text/plain": [
       "   Product_ID Product_Name  Stock   Price Discounted\n",
       "0         1.0       Laptop   20.0  999.99       True\n",
       "1         2.0        Phone   15.0  799.99      False\n",
       "2         3.0           TV    NaN  399.99       True\n",
       "3         4.0   Headphones   30.0     NaN      False\n",
       "4         5.0         None   25.0   59.99        NaN\n",
       "5         NaN    Microwave   12.0   99.99       True"
      ]
     },
     "execution_count": 3,
     "metadata": {},
     "output_type": "execute_result"
    }
   ],
   "source": [
    "target_df"
   ]
  },
  {
   "cell_type": "markdown",
   "id": "25ca0790",
   "metadata": {},
   "source": [
    "### Identify Null Values"
   ]
  },
  {
   "cell_type": "markdown",
   "id": "2c80e22e",
   "metadata": {},
   "source": [
    "#### How would you identify rows where the 'Stock' column has null values in the provided target_df DataFrame?"
   ]
  },
  {
   "cell_type": "code",
   "execution_count": 4,
   "id": "9b5f7475",
   "metadata": {},
   "outputs": [
    {
     "data": {
      "text/html": [
       "<div>\n",
       "<style scoped>\n",
       "    .dataframe tbody tr th:only-of-type {\n",
       "        vertical-align: middle;\n",
       "    }\n",
       "\n",
       "    .dataframe tbody tr th {\n",
       "        vertical-align: top;\n",
       "    }\n",
       "\n",
       "    .dataframe thead th {\n",
       "        text-align: right;\n",
       "    }\n",
       "</style>\n",
       "<table border=\"1\" class=\"dataframe\">\n",
       "  <thead>\n",
       "    <tr style=\"text-align: right;\">\n",
       "      <th></th>\n",
       "      <th>Product_ID</th>\n",
       "      <th>Product_Name</th>\n",
       "      <th>Stock</th>\n",
       "      <th>Price</th>\n",
       "      <th>Discounted</th>\n",
       "    </tr>\n",
       "  </thead>\n",
       "  <tbody>\n",
       "    <tr>\n",
       "      <th>2</th>\n",
       "      <td>3.0</td>\n",
       "      <td>TV</td>\n",
       "      <td>NaN</td>\n",
       "      <td>399.99</td>\n",
       "      <td>True</td>\n",
       "    </tr>\n",
       "  </tbody>\n",
       "</table>\n",
       "</div>"
      ],
      "text/plain": [
       "   Product_ID Product_Name  Stock   Price Discounted\n",
       "2         3.0           TV    NaN  399.99       True"
      ]
     },
     "execution_count": 4,
     "metadata": {},
     "output_type": "execute_result"
    }
   ],
   "source": [
    "target_df.loc[target_df.loc[:, 'Stock'].isna() == True]"
   ]
  },
  {
   "cell_type": "markdown",
   "id": "b9d6d883",
   "metadata": {},
   "source": [
    "#### Can you list the columns in target_df that contain at least one null value?"
   ]
  },
  {
   "cell_type": "code",
   "execution_count": 5,
   "id": "aff15ddd",
   "metadata": {},
   "outputs": [
    {
     "data": {
      "text/plain": [
       "Product_ID      True\n",
       "Product_Name    True\n",
       "Stock           True\n",
       "Price           True\n",
       "Discounted      True\n",
       "dtype: bool"
      ]
     },
     "execution_count": 5,
     "metadata": {},
     "output_type": "execute_result"
    }
   ],
   "source": [
    "target_df.isna().any()"
   ]
  },
  {
   "cell_type": "markdown",
   "id": "eff12b65",
   "metadata": {},
   "source": [
    "#### How would you use pd.isna() to identify null values in the entire target_df DataFrame?"
   ]
  },
  {
   "cell_type": "code",
   "execution_count": 6,
   "id": "29b9d43b",
   "metadata": {},
   "outputs": [
    {
     "data": {
      "text/html": [
       "<div>\n",
       "<style scoped>\n",
       "    .dataframe tbody tr th:only-of-type {\n",
       "        vertical-align: middle;\n",
       "    }\n",
       "\n",
       "    .dataframe tbody tr th {\n",
       "        vertical-align: top;\n",
       "    }\n",
       "\n",
       "    .dataframe thead th {\n",
       "        text-align: right;\n",
       "    }\n",
       "</style>\n",
       "<table border=\"1\" class=\"dataframe\">\n",
       "  <thead>\n",
       "    <tr style=\"text-align: right;\">\n",
       "      <th></th>\n",
       "      <th>Product_ID</th>\n",
       "      <th>Product_Name</th>\n",
       "      <th>Stock</th>\n",
       "      <th>Price</th>\n",
       "      <th>Discounted</th>\n",
       "    </tr>\n",
       "  </thead>\n",
       "  <tbody>\n",
       "    <tr>\n",
       "      <th>0</th>\n",
       "      <td>False</td>\n",
       "      <td>False</td>\n",
       "      <td>False</td>\n",
       "      <td>False</td>\n",
       "      <td>False</td>\n",
       "    </tr>\n",
       "    <tr>\n",
       "      <th>1</th>\n",
       "      <td>False</td>\n",
       "      <td>False</td>\n",
       "      <td>False</td>\n",
       "      <td>False</td>\n",
       "      <td>False</td>\n",
       "    </tr>\n",
       "    <tr>\n",
       "      <th>2</th>\n",
       "      <td>False</td>\n",
       "      <td>False</td>\n",
       "      <td>True</td>\n",
       "      <td>False</td>\n",
       "      <td>False</td>\n",
       "    </tr>\n",
       "    <tr>\n",
       "      <th>3</th>\n",
       "      <td>False</td>\n",
       "      <td>False</td>\n",
       "      <td>False</td>\n",
       "      <td>True</td>\n",
       "      <td>False</td>\n",
       "    </tr>\n",
       "    <tr>\n",
       "      <th>4</th>\n",
       "      <td>False</td>\n",
       "      <td>True</td>\n",
       "      <td>False</td>\n",
       "      <td>False</td>\n",
       "      <td>True</td>\n",
       "    </tr>\n",
       "    <tr>\n",
       "      <th>5</th>\n",
       "      <td>True</td>\n",
       "      <td>False</td>\n",
       "      <td>False</td>\n",
       "      <td>False</td>\n",
       "      <td>False</td>\n",
       "    </tr>\n",
       "  </tbody>\n",
       "</table>\n",
       "</div>"
      ],
      "text/plain": [
       "   Product_ID  Product_Name  Stock  Price  Discounted\n",
       "0       False         False  False  False       False\n",
       "1       False         False  False  False       False\n",
       "2       False         False   True  False       False\n",
       "3       False         False  False   True       False\n",
       "4       False          True  False  False        True\n",
       "5        True         False  False  False       False"
      ]
     },
     "execution_count": 6,
     "metadata": {},
     "output_type": "execute_result"
    }
   ],
   "source": [
    "target_df.isna()"
   ]
  },
  {
   "cell_type": "markdown",
   "id": "f22c4773",
   "metadata": {},
   "source": [
    "#### If you wanted to identify rows where both 'Stock' and 'Price' have null values, how would you do it?"
   ]
  },
  {
   "cell_type": "code",
   "execution_count": 7,
   "id": "cdbf1752",
   "metadata": {},
   "outputs": [
    {
     "data": {
      "text/html": [
       "<div>\n",
       "<style scoped>\n",
       "    .dataframe tbody tr th:only-of-type {\n",
       "        vertical-align: middle;\n",
       "    }\n",
       "\n",
       "    .dataframe tbody tr th {\n",
       "        vertical-align: top;\n",
       "    }\n",
       "\n",
       "    .dataframe thead th {\n",
       "        text-align: right;\n",
       "    }\n",
       "</style>\n",
       "<table border=\"1\" class=\"dataframe\">\n",
       "  <thead>\n",
       "    <tr style=\"text-align: right;\">\n",
       "      <th></th>\n",
       "      <th>Product_ID</th>\n",
       "      <th>Product_Name</th>\n",
       "      <th>Stock</th>\n",
       "      <th>Price</th>\n",
       "      <th>Discounted</th>\n",
       "    </tr>\n",
       "  </thead>\n",
       "  <tbody>\n",
       "  </tbody>\n",
       "</table>\n",
       "</div>"
      ],
      "text/plain": [
       "Empty DataFrame\n",
       "Columns: [Product_ID, Product_Name, Stock, Price, Discounted]\n",
       "Index: []"
      ]
     },
     "execution_count": 7,
     "metadata": {},
     "output_type": "execute_result"
    }
   ],
   "source": [
    "target_df.loc[(target_df.loc[:, \"Stock\"].isna() == True) & (target_df.loc[:, \"Price\"].isna() == True)]"
   ]
  },
  {
   "cell_type": "code",
   "execution_count": 8,
   "id": "ddd1817f",
   "metadata": {},
   "outputs": [
    {
     "data": {
      "text/html": [
       "<div>\n",
       "<style scoped>\n",
       "    .dataframe tbody tr th:only-of-type {\n",
       "        vertical-align: middle;\n",
       "    }\n",
       "\n",
       "    .dataframe tbody tr th {\n",
       "        vertical-align: top;\n",
       "    }\n",
       "\n",
       "    .dataframe thead th {\n",
       "        text-align: right;\n",
       "    }\n",
       "</style>\n",
       "<table border=\"1\" class=\"dataframe\">\n",
       "  <thead>\n",
       "    <tr style=\"text-align: right;\">\n",
       "      <th></th>\n",
       "      <th>Product_ID</th>\n",
       "      <th>Product_Name</th>\n",
       "      <th>Stock</th>\n",
       "      <th>Price</th>\n",
       "      <th>Discounted</th>\n",
       "    </tr>\n",
       "  </thead>\n",
       "  <tbody>\n",
       "    <tr>\n",
       "      <th>0</th>\n",
       "      <td>1.0</td>\n",
       "      <td>Laptop</td>\n",
       "      <td>20.0</td>\n",
       "      <td>999.99</td>\n",
       "      <td>True</td>\n",
       "    </tr>\n",
       "    <tr>\n",
       "      <th>1</th>\n",
       "      <td>2.0</td>\n",
       "      <td>Phone</td>\n",
       "      <td>15.0</td>\n",
       "      <td>799.99</td>\n",
       "      <td>False</td>\n",
       "    </tr>\n",
       "    <tr>\n",
       "      <th>2</th>\n",
       "      <td>3.0</td>\n",
       "      <td>TV</td>\n",
       "      <td>NaN</td>\n",
       "      <td>399.99</td>\n",
       "      <td>True</td>\n",
       "    </tr>\n",
       "    <tr>\n",
       "      <th>3</th>\n",
       "      <td>4.0</td>\n",
       "      <td>Headphones</td>\n",
       "      <td>30.0</td>\n",
       "      <td>NaN</td>\n",
       "      <td>False</td>\n",
       "    </tr>\n",
       "    <tr>\n",
       "      <th>4</th>\n",
       "      <td>5.0</td>\n",
       "      <td>None</td>\n",
       "      <td>25.0</td>\n",
       "      <td>59.99</td>\n",
       "      <td>NaN</td>\n",
       "    </tr>\n",
       "    <tr>\n",
       "      <th>5</th>\n",
       "      <td>NaN</td>\n",
       "      <td>Microwave</td>\n",
       "      <td>12.0</td>\n",
       "      <td>99.99</td>\n",
       "      <td>True</td>\n",
       "    </tr>\n",
       "  </tbody>\n",
       "</table>\n",
       "</div>"
      ],
      "text/plain": [
       "   Product_ID Product_Name  Stock   Price Discounted\n",
       "0         1.0       Laptop   20.0  999.99       True\n",
       "1         2.0        Phone   15.0  799.99      False\n",
       "2         3.0           TV    NaN  399.99       True\n",
       "3         4.0   Headphones   30.0     NaN      False\n",
       "4         5.0         None   25.0   59.99        NaN\n",
       "5         NaN    Microwave   12.0   99.99       True"
      ]
     },
     "execution_count": 8,
     "metadata": {},
     "output_type": "execute_result"
    }
   ],
   "source": [
    "target_df"
   ]
  },
  {
   "cell_type": "code",
   "execution_count": 9,
   "id": "9a7e1f54",
   "metadata": {},
   "outputs": [],
   "source": [
    "target_df.loc[6] = [6.0, \"Monitor\", np.nan, np.nan, True]"
   ]
  },
  {
   "cell_type": "code",
   "execution_count": 10,
   "id": "6efd0c81",
   "metadata": {},
   "outputs": [
    {
     "data": {
      "text/html": [
       "<div>\n",
       "<style scoped>\n",
       "    .dataframe tbody tr th:only-of-type {\n",
       "        vertical-align: middle;\n",
       "    }\n",
       "\n",
       "    .dataframe tbody tr th {\n",
       "        vertical-align: top;\n",
       "    }\n",
       "\n",
       "    .dataframe thead th {\n",
       "        text-align: right;\n",
       "    }\n",
       "</style>\n",
       "<table border=\"1\" class=\"dataframe\">\n",
       "  <thead>\n",
       "    <tr style=\"text-align: right;\">\n",
       "      <th></th>\n",
       "      <th>Product_ID</th>\n",
       "      <th>Product_Name</th>\n",
       "      <th>Stock</th>\n",
       "      <th>Price</th>\n",
       "      <th>Discounted</th>\n",
       "    </tr>\n",
       "  </thead>\n",
       "  <tbody>\n",
       "    <tr>\n",
       "      <th>0</th>\n",
       "      <td>1.0</td>\n",
       "      <td>Laptop</td>\n",
       "      <td>20.0</td>\n",
       "      <td>999.99</td>\n",
       "      <td>True</td>\n",
       "    </tr>\n",
       "    <tr>\n",
       "      <th>1</th>\n",
       "      <td>2.0</td>\n",
       "      <td>Phone</td>\n",
       "      <td>15.0</td>\n",
       "      <td>799.99</td>\n",
       "      <td>False</td>\n",
       "    </tr>\n",
       "    <tr>\n",
       "      <th>2</th>\n",
       "      <td>3.0</td>\n",
       "      <td>TV</td>\n",
       "      <td>NaN</td>\n",
       "      <td>399.99</td>\n",
       "      <td>True</td>\n",
       "    </tr>\n",
       "    <tr>\n",
       "      <th>3</th>\n",
       "      <td>4.0</td>\n",
       "      <td>Headphones</td>\n",
       "      <td>30.0</td>\n",
       "      <td>NaN</td>\n",
       "      <td>False</td>\n",
       "    </tr>\n",
       "    <tr>\n",
       "      <th>4</th>\n",
       "      <td>5.0</td>\n",
       "      <td>None</td>\n",
       "      <td>25.0</td>\n",
       "      <td>59.99</td>\n",
       "      <td>NaN</td>\n",
       "    </tr>\n",
       "    <tr>\n",
       "      <th>5</th>\n",
       "      <td>NaN</td>\n",
       "      <td>Microwave</td>\n",
       "      <td>12.0</td>\n",
       "      <td>99.99</td>\n",
       "      <td>True</td>\n",
       "    </tr>\n",
       "    <tr>\n",
       "      <th>6</th>\n",
       "      <td>6.0</td>\n",
       "      <td>Monitor</td>\n",
       "      <td>NaN</td>\n",
       "      <td>NaN</td>\n",
       "      <td>True</td>\n",
       "    </tr>\n",
       "  </tbody>\n",
       "</table>\n",
       "</div>"
      ],
      "text/plain": [
       "   Product_ID Product_Name  Stock   Price Discounted\n",
       "0         1.0       Laptop   20.0  999.99       True\n",
       "1         2.0        Phone   15.0  799.99      False\n",
       "2         3.0           TV    NaN  399.99       True\n",
       "3         4.0   Headphones   30.0     NaN      False\n",
       "4         5.0         None   25.0   59.99        NaN\n",
       "5         NaN    Microwave   12.0   99.99       True\n",
       "6         6.0      Monitor    NaN     NaN       True"
      ]
     },
     "execution_count": 10,
     "metadata": {},
     "output_type": "execute_result"
    }
   ],
   "source": [
    "target_df"
   ]
  },
  {
   "cell_type": "code",
   "execution_count": 11,
   "id": "5c0982b7",
   "metadata": {},
   "outputs": [
    {
     "data": {
      "text/html": [
       "<div>\n",
       "<style scoped>\n",
       "    .dataframe tbody tr th:only-of-type {\n",
       "        vertical-align: middle;\n",
       "    }\n",
       "\n",
       "    .dataframe tbody tr th {\n",
       "        vertical-align: top;\n",
       "    }\n",
       "\n",
       "    .dataframe thead th {\n",
       "        text-align: right;\n",
       "    }\n",
       "</style>\n",
       "<table border=\"1\" class=\"dataframe\">\n",
       "  <thead>\n",
       "    <tr style=\"text-align: right;\">\n",
       "      <th></th>\n",
       "      <th>Product_ID</th>\n",
       "      <th>Product_Name</th>\n",
       "      <th>Stock</th>\n",
       "      <th>Price</th>\n",
       "      <th>Discounted</th>\n",
       "    </tr>\n",
       "  </thead>\n",
       "  <tbody>\n",
       "    <tr>\n",
       "      <th>6</th>\n",
       "      <td>6.0</td>\n",
       "      <td>Monitor</td>\n",
       "      <td>NaN</td>\n",
       "      <td>NaN</td>\n",
       "      <td>True</td>\n",
       "    </tr>\n",
       "  </tbody>\n",
       "</table>\n",
       "</div>"
      ],
      "text/plain": [
       "   Product_ID Product_Name  Stock  Price Discounted\n",
       "6         6.0      Monitor    NaN    NaN       True"
      ]
     },
     "execution_count": 11,
     "metadata": {},
     "output_type": "execute_result"
    }
   ],
   "source": [
    "target_df.loc[(target_df.loc[:, \"Stock\"].isna() == True) & (target_df.loc[:, \"Price\"].isna() == True)]"
   ]
  },
  {
   "cell_type": "markdown",
   "id": "9d0d5712",
   "metadata": {},
   "source": [
    "### Filtering"
   ]
  },
  {
   "cell_type": "markdown",
   "id": "dfde02b6",
   "metadata": {},
   "source": [
    "#### How would you filter out rows where the 'Stock' column has null values in the target_df DataFrame?"
   ]
  },
  {
   "cell_type": "code",
   "execution_count": 12,
   "id": "32ce2c08",
   "metadata": {},
   "outputs": [
    {
     "data": {
      "text/html": [
       "<div>\n",
       "<style scoped>\n",
       "    .dataframe tbody tr th:only-of-type {\n",
       "        vertical-align: middle;\n",
       "    }\n",
       "\n",
       "    .dataframe tbody tr th {\n",
       "        vertical-align: top;\n",
       "    }\n",
       "\n",
       "    .dataframe thead th {\n",
       "        text-align: right;\n",
       "    }\n",
       "</style>\n",
       "<table border=\"1\" class=\"dataframe\">\n",
       "  <thead>\n",
       "    <tr style=\"text-align: right;\">\n",
       "      <th></th>\n",
       "      <th>Product_ID</th>\n",
       "      <th>Product_Name</th>\n",
       "      <th>Stock</th>\n",
       "      <th>Price</th>\n",
       "      <th>Discounted</th>\n",
       "    </tr>\n",
       "  </thead>\n",
       "  <tbody>\n",
       "    <tr>\n",
       "      <th>2</th>\n",
       "      <td>3.0</td>\n",
       "      <td>TV</td>\n",
       "      <td>NaN</td>\n",
       "      <td>399.99</td>\n",
       "      <td>True</td>\n",
       "    </tr>\n",
       "    <tr>\n",
       "      <th>6</th>\n",
       "      <td>6.0</td>\n",
       "      <td>Monitor</td>\n",
       "      <td>NaN</td>\n",
       "      <td>NaN</td>\n",
       "      <td>True</td>\n",
       "    </tr>\n",
       "  </tbody>\n",
       "</table>\n",
       "</div>"
      ],
      "text/plain": [
       "   Product_ID Product_Name  Stock   Price Discounted\n",
       "2         3.0           TV    NaN  399.99       True\n",
       "6         6.0      Monitor    NaN     NaN       True"
      ]
     },
     "execution_count": 12,
     "metadata": {},
     "output_type": "execute_result"
    }
   ],
   "source": [
    "target_df.loc[target_df.loc[:, \"Stock\"].isna() == True]"
   ]
  },
  {
   "cell_type": "markdown",
   "id": "b9629d37",
   "metadata": {},
   "source": [
    "#### What method would you use to remove any row that has at least one null value in target_df?"
   ]
  },
  {
   "cell_type": "code",
   "execution_count": 13,
   "id": "21abaf71",
   "metadata": {},
   "outputs": [],
   "source": [
    "temp = target_df.copy()"
   ]
  },
  {
   "cell_type": "code",
   "execution_count": 14,
   "id": "5cc2c9c5",
   "metadata": {},
   "outputs": [
    {
     "data": {
      "text/html": [
       "<div>\n",
       "<style scoped>\n",
       "    .dataframe tbody tr th:only-of-type {\n",
       "        vertical-align: middle;\n",
       "    }\n",
       "\n",
       "    .dataframe tbody tr th {\n",
       "        vertical-align: top;\n",
       "    }\n",
       "\n",
       "    .dataframe thead th {\n",
       "        text-align: right;\n",
       "    }\n",
       "</style>\n",
       "<table border=\"1\" class=\"dataframe\">\n",
       "  <thead>\n",
       "    <tr style=\"text-align: right;\">\n",
       "      <th></th>\n",
       "      <th>Product_ID</th>\n",
       "      <th>Product_Name</th>\n",
       "      <th>Stock</th>\n",
       "      <th>Price</th>\n",
       "      <th>Discounted</th>\n",
       "    </tr>\n",
       "  </thead>\n",
       "  <tbody>\n",
       "    <tr>\n",
       "      <th>0</th>\n",
       "      <td>1.0</td>\n",
       "      <td>Laptop</td>\n",
       "      <td>20.0</td>\n",
       "      <td>999.99</td>\n",
       "      <td>True</td>\n",
       "    </tr>\n",
       "    <tr>\n",
       "      <th>1</th>\n",
       "      <td>2.0</td>\n",
       "      <td>Phone</td>\n",
       "      <td>15.0</td>\n",
       "      <td>799.99</td>\n",
       "      <td>False</td>\n",
       "    </tr>\n",
       "    <tr>\n",
       "      <th>2</th>\n",
       "      <td>3.0</td>\n",
       "      <td>TV</td>\n",
       "      <td>NaN</td>\n",
       "      <td>399.99</td>\n",
       "      <td>True</td>\n",
       "    </tr>\n",
       "    <tr>\n",
       "      <th>3</th>\n",
       "      <td>4.0</td>\n",
       "      <td>Headphones</td>\n",
       "      <td>30.0</td>\n",
       "      <td>NaN</td>\n",
       "      <td>False</td>\n",
       "    </tr>\n",
       "    <tr>\n",
       "      <th>4</th>\n",
       "      <td>5.0</td>\n",
       "      <td>None</td>\n",
       "      <td>25.0</td>\n",
       "      <td>59.99</td>\n",
       "      <td>NaN</td>\n",
       "    </tr>\n",
       "    <tr>\n",
       "      <th>5</th>\n",
       "      <td>NaN</td>\n",
       "      <td>Microwave</td>\n",
       "      <td>12.0</td>\n",
       "      <td>99.99</td>\n",
       "      <td>True</td>\n",
       "    </tr>\n",
       "    <tr>\n",
       "      <th>6</th>\n",
       "      <td>6.0</td>\n",
       "      <td>Monitor</td>\n",
       "      <td>NaN</td>\n",
       "      <td>NaN</td>\n",
       "      <td>True</td>\n",
       "    </tr>\n",
       "  </tbody>\n",
       "</table>\n",
       "</div>"
      ],
      "text/plain": [
       "   Product_ID Product_Name  Stock   Price Discounted\n",
       "0         1.0       Laptop   20.0  999.99       True\n",
       "1         2.0        Phone   15.0  799.99      False\n",
       "2         3.0           TV    NaN  399.99       True\n",
       "3         4.0   Headphones   30.0     NaN      False\n",
       "4         5.0         None   25.0   59.99        NaN\n",
       "5         NaN    Microwave   12.0   99.99       True\n",
       "6         6.0      Monitor    NaN     NaN       True"
      ]
     },
     "execution_count": 14,
     "metadata": {},
     "output_type": "execute_result"
    }
   ],
   "source": [
    "temp"
   ]
  },
  {
   "cell_type": "code",
   "execution_count": 15,
   "id": "e3ff0553",
   "metadata": {},
   "outputs": [],
   "source": [
    "temp = temp.dropna(axis=0)"
   ]
  },
  {
   "cell_type": "code",
   "execution_count": 16,
   "id": "c0a491dc",
   "metadata": {},
   "outputs": [
    {
     "data": {
      "text/html": [
       "<div>\n",
       "<style scoped>\n",
       "    .dataframe tbody tr th:only-of-type {\n",
       "        vertical-align: middle;\n",
       "    }\n",
       "\n",
       "    .dataframe tbody tr th {\n",
       "        vertical-align: top;\n",
       "    }\n",
       "\n",
       "    .dataframe thead th {\n",
       "        text-align: right;\n",
       "    }\n",
       "</style>\n",
       "<table border=\"1\" class=\"dataframe\">\n",
       "  <thead>\n",
       "    <tr style=\"text-align: right;\">\n",
       "      <th></th>\n",
       "      <th>Product_ID</th>\n",
       "      <th>Product_Name</th>\n",
       "      <th>Stock</th>\n",
       "      <th>Price</th>\n",
       "      <th>Discounted</th>\n",
       "    </tr>\n",
       "  </thead>\n",
       "  <tbody>\n",
       "    <tr>\n",
       "      <th>0</th>\n",
       "      <td>1.0</td>\n",
       "      <td>Laptop</td>\n",
       "      <td>20.0</td>\n",
       "      <td>999.99</td>\n",
       "      <td>True</td>\n",
       "    </tr>\n",
       "    <tr>\n",
       "      <th>1</th>\n",
       "      <td>2.0</td>\n",
       "      <td>Phone</td>\n",
       "      <td>15.0</td>\n",
       "      <td>799.99</td>\n",
       "      <td>False</td>\n",
       "    </tr>\n",
       "  </tbody>\n",
       "</table>\n",
       "</div>"
      ],
      "text/plain": [
       "   Product_ID Product_Name  Stock   Price Discounted\n",
       "0         1.0       Laptop   20.0  999.99       True\n",
       "1         2.0        Phone   15.0  799.99      False"
      ]
     },
     "execution_count": 16,
     "metadata": {},
     "output_type": "execute_result"
    }
   ],
   "source": [
    "temp"
   ]
  },
  {
   "cell_type": "markdown",
   "id": "8e04a34e",
   "metadata": {},
   "source": [
    "#### If you only want to drop rows where both 'Stock' and 'Price' have null values, how would you go about doing this in target_df?"
   ]
  },
  {
   "cell_type": "code",
   "execution_count": 17,
   "id": "288a0ac7",
   "metadata": {},
   "outputs": [],
   "source": [
    "temp = target_df.copy()"
   ]
  },
  {
   "cell_type": "code",
   "execution_count": 18,
   "id": "a34bff36",
   "metadata": {},
   "outputs": [
    {
     "data": {
      "text/html": [
       "<div>\n",
       "<style scoped>\n",
       "    .dataframe tbody tr th:only-of-type {\n",
       "        vertical-align: middle;\n",
       "    }\n",
       "\n",
       "    .dataframe tbody tr th {\n",
       "        vertical-align: top;\n",
       "    }\n",
       "\n",
       "    .dataframe thead th {\n",
       "        text-align: right;\n",
       "    }\n",
       "</style>\n",
       "<table border=\"1\" class=\"dataframe\">\n",
       "  <thead>\n",
       "    <tr style=\"text-align: right;\">\n",
       "      <th></th>\n",
       "      <th>Product_ID</th>\n",
       "      <th>Product_Name</th>\n",
       "      <th>Stock</th>\n",
       "      <th>Price</th>\n",
       "      <th>Discounted</th>\n",
       "    </tr>\n",
       "  </thead>\n",
       "  <tbody>\n",
       "    <tr>\n",
       "      <th>0</th>\n",
       "      <td>1.0</td>\n",
       "      <td>Laptop</td>\n",
       "      <td>20.0</td>\n",
       "      <td>999.99</td>\n",
       "      <td>True</td>\n",
       "    </tr>\n",
       "    <tr>\n",
       "      <th>1</th>\n",
       "      <td>2.0</td>\n",
       "      <td>Phone</td>\n",
       "      <td>15.0</td>\n",
       "      <td>799.99</td>\n",
       "      <td>False</td>\n",
       "    </tr>\n",
       "    <tr>\n",
       "      <th>2</th>\n",
       "      <td>3.0</td>\n",
       "      <td>TV</td>\n",
       "      <td>NaN</td>\n",
       "      <td>399.99</td>\n",
       "      <td>True</td>\n",
       "    </tr>\n",
       "    <tr>\n",
       "      <th>3</th>\n",
       "      <td>4.0</td>\n",
       "      <td>Headphones</td>\n",
       "      <td>30.0</td>\n",
       "      <td>NaN</td>\n",
       "      <td>False</td>\n",
       "    </tr>\n",
       "    <tr>\n",
       "      <th>4</th>\n",
       "      <td>5.0</td>\n",
       "      <td>None</td>\n",
       "      <td>25.0</td>\n",
       "      <td>59.99</td>\n",
       "      <td>NaN</td>\n",
       "    </tr>\n",
       "    <tr>\n",
       "      <th>5</th>\n",
       "      <td>NaN</td>\n",
       "      <td>Microwave</td>\n",
       "      <td>12.0</td>\n",
       "      <td>99.99</td>\n",
       "      <td>True</td>\n",
       "    </tr>\n",
       "    <tr>\n",
       "      <th>6</th>\n",
       "      <td>6.0</td>\n",
       "      <td>Monitor</td>\n",
       "      <td>NaN</td>\n",
       "      <td>NaN</td>\n",
       "      <td>True</td>\n",
       "    </tr>\n",
       "  </tbody>\n",
       "</table>\n",
       "</div>"
      ],
      "text/plain": [
       "   Product_ID Product_Name  Stock   Price Discounted\n",
       "0         1.0       Laptop   20.0  999.99       True\n",
       "1         2.0        Phone   15.0  799.99      False\n",
       "2         3.0           TV    NaN  399.99       True\n",
       "3         4.0   Headphones   30.0     NaN      False\n",
       "4         5.0         None   25.0   59.99        NaN\n",
       "5         NaN    Microwave   12.0   99.99       True\n",
       "6         6.0      Monitor    NaN     NaN       True"
      ]
     },
     "execution_count": 18,
     "metadata": {},
     "output_type": "execute_result"
    }
   ],
   "source": [
    "temp"
   ]
  },
  {
   "cell_type": "code",
   "execution_count": 19,
   "id": "5b5eb1ba",
   "metadata": {},
   "outputs": [
    {
     "data": {
      "text/html": [
       "<div>\n",
       "<style scoped>\n",
       "    .dataframe tbody tr th:only-of-type {\n",
       "        vertical-align: middle;\n",
       "    }\n",
       "\n",
       "    .dataframe tbody tr th {\n",
       "        vertical-align: top;\n",
       "    }\n",
       "\n",
       "    .dataframe thead th {\n",
       "        text-align: right;\n",
       "    }\n",
       "</style>\n",
       "<table border=\"1\" class=\"dataframe\">\n",
       "  <thead>\n",
       "    <tr style=\"text-align: right;\">\n",
       "      <th></th>\n",
       "      <th>Product_ID</th>\n",
       "      <th>Product_Name</th>\n",
       "      <th>Stock</th>\n",
       "      <th>Price</th>\n",
       "      <th>Discounted</th>\n",
       "    </tr>\n",
       "  </thead>\n",
       "  <tbody>\n",
       "    <tr>\n",
       "      <th>0</th>\n",
       "      <td>1.0</td>\n",
       "      <td>Laptop</td>\n",
       "      <td>20.0</td>\n",
       "      <td>999.99</td>\n",
       "      <td>True</td>\n",
       "    </tr>\n",
       "    <tr>\n",
       "      <th>1</th>\n",
       "      <td>2.0</td>\n",
       "      <td>Phone</td>\n",
       "      <td>15.0</td>\n",
       "      <td>799.99</td>\n",
       "      <td>False</td>\n",
       "    </tr>\n",
       "    <tr>\n",
       "      <th>4</th>\n",
       "      <td>5.0</td>\n",
       "      <td>None</td>\n",
       "      <td>25.0</td>\n",
       "      <td>59.99</td>\n",
       "      <td>NaN</td>\n",
       "    </tr>\n",
       "    <tr>\n",
       "      <th>5</th>\n",
       "      <td>NaN</td>\n",
       "      <td>Microwave</td>\n",
       "      <td>12.0</td>\n",
       "      <td>99.99</td>\n",
       "      <td>True</td>\n",
       "    </tr>\n",
       "  </tbody>\n",
       "</table>\n",
       "</div>"
      ],
      "text/plain": [
       "   Product_ID Product_Name  Stock   Price Discounted\n",
       "0         1.0       Laptop   20.0  999.99       True\n",
       "1         2.0        Phone   15.0  799.99      False\n",
       "4         5.0         None   25.0   59.99        NaN\n",
       "5         NaN    Microwave   12.0   99.99       True"
      ]
     },
     "execution_count": 19,
     "metadata": {},
     "output_type": "execute_result"
    }
   ],
   "source": [
    "temp.dropna(subset=['Stock', 'Price'])"
   ]
  },
  {
   "cell_type": "markdown",
   "id": "bcdd64ca",
   "metadata": {},
   "source": [
    "### Filling"
   ]
  },
  {
   "cell_type": "markdown",
   "id": "98b95248",
   "metadata": {},
   "source": [
    "#### How would you fill null values in the 'Stock' column with the median value of that column?"
   ]
  },
  {
   "cell_type": "code",
   "execution_count": 20,
   "id": "2c817782",
   "metadata": {},
   "outputs": [
    {
     "data": {
      "text/html": [
       "<div>\n",
       "<style scoped>\n",
       "    .dataframe tbody tr th:only-of-type {\n",
       "        vertical-align: middle;\n",
       "    }\n",
       "\n",
       "    .dataframe tbody tr th {\n",
       "        vertical-align: top;\n",
       "    }\n",
       "\n",
       "    .dataframe thead th {\n",
       "        text-align: right;\n",
       "    }\n",
       "</style>\n",
       "<table border=\"1\" class=\"dataframe\">\n",
       "  <thead>\n",
       "    <tr style=\"text-align: right;\">\n",
       "      <th></th>\n",
       "      <th>Product_ID</th>\n",
       "      <th>Product_Name</th>\n",
       "      <th>Stock</th>\n",
       "      <th>Price</th>\n",
       "      <th>Discounted</th>\n",
       "    </tr>\n",
       "  </thead>\n",
       "  <tbody>\n",
       "    <tr>\n",
       "      <th>0</th>\n",
       "      <td>1.0</td>\n",
       "      <td>Laptop</td>\n",
       "      <td>20.0</td>\n",
       "      <td>999.99</td>\n",
       "      <td>True</td>\n",
       "    </tr>\n",
       "    <tr>\n",
       "      <th>1</th>\n",
       "      <td>2.0</td>\n",
       "      <td>Phone</td>\n",
       "      <td>15.0</td>\n",
       "      <td>799.99</td>\n",
       "      <td>False</td>\n",
       "    </tr>\n",
       "    <tr>\n",
       "      <th>2</th>\n",
       "      <td>3.0</td>\n",
       "      <td>TV</td>\n",
       "      <td>NaN</td>\n",
       "      <td>399.99</td>\n",
       "      <td>True</td>\n",
       "    </tr>\n",
       "    <tr>\n",
       "      <th>3</th>\n",
       "      <td>4.0</td>\n",
       "      <td>Headphones</td>\n",
       "      <td>30.0</td>\n",
       "      <td>NaN</td>\n",
       "      <td>False</td>\n",
       "    </tr>\n",
       "    <tr>\n",
       "      <th>4</th>\n",
       "      <td>5.0</td>\n",
       "      <td>None</td>\n",
       "      <td>25.0</td>\n",
       "      <td>59.99</td>\n",
       "      <td>NaN</td>\n",
       "    </tr>\n",
       "    <tr>\n",
       "      <th>5</th>\n",
       "      <td>NaN</td>\n",
       "      <td>Microwave</td>\n",
       "      <td>12.0</td>\n",
       "      <td>99.99</td>\n",
       "      <td>True</td>\n",
       "    </tr>\n",
       "    <tr>\n",
       "      <th>6</th>\n",
       "      <td>6.0</td>\n",
       "      <td>Monitor</td>\n",
       "      <td>NaN</td>\n",
       "      <td>NaN</td>\n",
       "      <td>True</td>\n",
       "    </tr>\n",
       "  </tbody>\n",
       "</table>\n",
       "</div>"
      ],
      "text/plain": [
       "   Product_ID Product_Name  Stock   Price Discounted\n",
       "0         1.0       Laptop   20.0  999.99       True\n",
       "1         2.0        Phone   15.0  799.99      False\n",
       "2         3.0           TV    NaN  399.99       True\n",
       "3         4.0   Headphones   30.0     NaN      False\n",
       "4         5.0         None   25.0   59.99        NaN\n",
       "5         NaN    Microwave   12.0   99.99       True\n",
       "6         6.0      Monitor    NaN     NaN       True"
      ]
     },
     "execution_count": 20,
     "metadata": {},
     "output_type": "execute_result"
    }
   ],
   "source": [
    "temp"
   ]
  },
  {
   "cell_type": "code",
   "execution_count": 21,
   "id": "0b374c5b",
   "metadata": {},
   "outputs": [],
   "source": [
    "stock_median = np.median(temp.loc[temp['Stock'].notna(), [\"Stock\"]])"
   ]
  },
  {
   "cell_type": "code",
   "execution_count": 22,
   "id": "8ddc279b",
   "metadata": {},
   "outputs": [
    {
     "data": {
      "text/plain": [
       "20.0"
      ]
     },
     "execution_count": 22,
     "metadata": {},
     "output_type": "execute_result"
    }
   ],
   "source": [
    "stock_median"
   ]
  },
  {
   "cell_type": "code",
   "execution_count": 23,
   "id": "f53343d6",
   "metadata": {},
   "outputs": [],
   "source": [
    "temp.loc[temp['Stock'].isna(), [\"Stock\"]] = stock_median"
   ]
  },
  {
   "cell_type": "code",
   "execution_count": 24,
   "id": "7fdea4e4",
   "metadata": {},
   "outputs": [
    {
     "data": {
      "text/html": [
       "<div>\n",
       "<style scoped>\n",
       "    .dataframe tbody tr th:only-of-type {\n",
       "        vertical-align: middle;\n",
       "    }\n",
       "\n",
       "    .dataframe tbody tr th {\n",
       "        vertical-align: top;\n",
       "    }\n",
       "\n",
       "    .dataframe thead th {\n",
       "        text-align: right;\n",
       "    }\n",
       "</style>\n",
       "<table border=\"1\" class=\"dataframe\">\n",
       "  <thead>\n",
       "    <tr style=\"text-align: right;\">\n",
       "      <th></th>\n",
       "      <th>Product_ID</th>\n",
       "      <th>Product_Name</th>\n",
       "      <th>Stock</th>\n",
       "      <th>Price</th>\n",
       "      <th>Discounted</th>\n",
       "    </tr>\n",
       "  </thead>\n",
       "  <tbody>\n",
       "    <tr>\n",
       "      <th>0</th>\n",
       "      <td>1.0</td>\n",
       "      <td>Laptop</td>\n",
       "      <td>20.0</td>\n",
       "      <td>999.99</td>\n",
       "      <td>True</td>\n",
       "    </tr>\n",
       "    <tr>\n",
       "      <th>1</th>\n",
       "      <td>2.0</td>\n",
       "      <td>Phone</td>\n",
       "      <td>15.0</td>\n",
       "      <td>799.99</td>\n",
       "      <td>False</td>\n",
       "    </tr>\n",
       "    <tr>\n",
       "      <th>2</th>\n",
       "      <td>3.0</td>\n",
       "      <td>TV</td>\n",
       "      <td>20.0</td>\n",
       "      <td>399.99</td>\n",
       "      <td>True</td>\n",
       "    </tr>\n",
       "    <tr>\n",
       "      <th>3</th>\n",
       "      <td>4.0</td>\n",
       "      <td>Headphones</td>\n",
       "      <td>30.0</td>\n",
       "      <td>NaN</td>\n",
       "      <td>False</td>\n",
       "    </tr>\n",
       "    <tr>\n",
       "      <th>4</th>\n",
       "      <td>5.0</td>\n",
       "      <td>None</td>\n",
       "      <td>25.0</td>\n",
       "      <td>59.99</td>\n",
       "      <td>NaN</td>\n",
       "    </tr>\n",
       "    <tr>\n",
       "      <th>5</th>\n",
       "      <td>NaN</td>\n",
       "      <td>Microwave</td>\n",
       "      <td>12.0</td>\n",
       "      <td>99.99</td>\n",
       "      <td>True</td>\n",
       "    </tr>\n",
       "    <tr>\n",
       "      <th>6</th>\n",
       "      <td>6.0</td>\n",
       "      <td>Monitor</td>\n",
       "      <td>20.0</td>\n",
       "      <td>NaN</td>\n",
       "      <td>True</td>\n",
       "    </tr>\n",
       "  </tbody>\n",
       "</table>\n",
       "</div>"
      ],
      "text/plain": [
       "   Product_ID Product_Name  Stock   Price Discounted\n",
       "0         1.0       Laptop   20.0  999.99       True\n",
       "1         2.0        Phone   15.0  799.99      False\n",
       "2         3.0           TV   20.0  399.99       True\n",
       "3         4.0   Headphones   30.0     NaN      False\n",
       "4         5.0         None   25.0   59.99        NaN\n",
       "5         NaN    Microwave   12.0   99.99       True\n",
       "6         6.0      Monitor   20.0     NaN       True"
      ]
     },
     "execution_count": 24,
     "metadata": {},
     "output_type": "execute_result"
    }
   ],
   "source": [
    "temp"
   ]
  },
  {
   "cell_type": "markdown",
   "id": "3320a396",
   "metadata": {},
   "source": [
    "#### Can you use the .fillna() method to fill null values in multiple columns ('Stock' and 'Price') at once? If so, how?"
   ]
  },
  {
   "cell_type": "code",
   "execution_count": 25,
   "id": "6a18ff55",
   "metadata": {},
   "outputs": [],
   "source": [
    "price_median = np.median(target_df.loc[target_df['Price'].notna(), [\"Price\"]])"
   ]
  },
  {
   "cell_type": "code",
   "execution_count": 26,
   "id": "a969af3d",
   "metadata": {},
   "outputs": [
    {
     "data": {
      "text/plain": [
       "399.99"
      ]
     },
     "execution_count": 26,
     "metadata": {},
     "output_type": "execute_result"
    }
   ],
   "source": [
    "price_median"
   ]
  },
  {
   "cell_type": "code",
   "execution_count": 27,
   "id": "16649138",
   "metadata": {},
   "outputs": [],
   "source": [
    "replace = {'Stock' : stock_median, 'Price': price_median}\n",
    "temp = target_df.fillna(replace)"
   ]
  },
  {
   "cell_type": "code",
   "execution_count": 28,
   "id": "7243f39f",
   "metadata": {},
   "outputs": [
    {
     "data": {
      "text/html": [
       "<div>\n",
       "<style scoped>\n",
       "    .dataframe tbody tr th:only-of-type {\n",
       "        vertical-align: middle;\n",
       "    }\n",
       "\n",
       "    .dataframe tbody tr th {\n",
       "        vertical-align: top;\n",
       "    }\n",
       "\n",
       "    .dataframe thead th {\n",
       "        text-align: right;\n",
       "    }\n",
       "</style>\n",
       "<table border=\"1\" class=\"dataframe\">\n",
       "  <thead>\n",
       "    <tr style=\"text-align: right;\">\n",
       "      <th></th>\n",
       "      <th>Product_ID</th>\n",
       "      <th>Product_Name</th>\n",
       "      <th>Stock</th>\n",
       "      <th>Price</th>\n",
       "      <th>Discounted</th>\n",
       "    </tr>\n",
       "  </thead>\n",
       "  <tbody>\n",
       "    <tr>\n",
       "      <th>0</th>\n",
       "      <td>1.0</td>\n",
       "      <td>Laptop</td>\n",
       "      <td>20.0</td>\n",
       "      <td>999.99</td>\n",
       "      <td>True</td>\n",
       "    </tr>\n",
       "    <tr>\n",
       "      <th>1</th>\n",
       "      <td>2.0</td>\n",
       "      <td>Phone</td>\n",
       "      <td>15.0</td>\n",
       "      <td>799.99</td>\n",
       "      <td>False</td>\n",
       "    </tr>\n",
       "    <tr>\n",
       "      <th>2</th>\n",
       "      <td>3.0</td>\n",
       "      <td>TV</td>\n",
       "      <td>20.0</td>\n",
       "      <td>399.99</td>\n",
       "      <td>True</td>\n",
       "    </tr>\n",
       "    <tr>\n",
       "      <th>3</th>\n",
       "      <td>4.0</td>\n",
       "      <td>Headphones</td>\n",
       "      <td>30.0</td>\n",
       "      <td>399.99</td>\n",
       "      <td>False</td>\n",
       "    </tr>\n",
       "    <tr>\n",
       "      <th>4</th>\n",
       "      <td>5.0</td>\n",
       "      <td>None</td>\n",
       "      <td>25.0</td>\n",
       "      <td>59.99</td>\n",
       "      <td>NaN</td>\n",
       "    </tr>\n",
       "    <tr>\n",
       "      <th>5</th>\n",
       "      <td>NaN</td>\n",
       "      <td>Microwave</td>\n",
       "      <td>12.0</td>\n",
       "      <td>99.99</td>\n",
       "      <td>True</td>\n",
       "    </tr>\n",
       "    <tr>\n",
       "      <th>6</th>\n",
       "      <td>6.0</td>\n",
       "      <td>Monitor</td>\n",
       "      <td>20.0</td>\n",
       "      <td>399.99</td>\n",
       "      <td>True</td>\n",
       "    </tr>\n",
       "  </tbody>\n",
       "</table>\n",
       "</div>"
      ],
      "text/plain": [
       "   Product_ID Product_Name  Stock   Price Discounted\n",
       "0         1.0       Laptop   20.0  999.99       True\n",
       "1         2.0        Phone   15.0  799.99      False\n",
       "2         3.0           TV   20.0  399.99       True\n",
       "3         4.0   Headphones   30.0  399.99      False\n",
       "4         5.0         None   25.0   59.99        NaN\n",
       "5         NaN    Microwave   12.0   99.99       True\n",
       "6         6.0      Monitor   20.0  399.99       True"
      ]
     },
     "execution_count": 28,
     "metadata": {},
     "output_type": "execute_result"
    }
   ],
   "source": [
    "temp"
   ]
  },
  {
   "cell_type": "markdown",
   "id": "72bda44d",
   "metadata": {},
   "source": [
    "#### If you only want to fill the first null value in each column with a zero, how would you do it?"
   ]
  },
  {
   "cell_type": "code",
   "execution_count": 29,
   "id": "ae766849",
   "metadata": {},
   "outputs": [
    {
     "data": {
      "text/html": [
       "<div>\n",
       "<style scoped>\n",
       "    .dataframe tbody tr th:only-of-type {\n",
       "        vertical-align: middle;\n",
       "    }\n",
       "\n",
       "    .dataframe tbody tr th {\n",
       "        vertical-align: top;\n",
       "    }\n",
       "\n",
       "    .dataframe thead th {\n",
       "        text-align: right;\n",
       "    }\n",
       "</style>\n",
       "<table border=\"1\" class=\"dataframe\">\n",
       "  <thead>\n",
       "    <tr style=\"text-align: right;\">\n",
       "      <th></th>\n",
       "      <th>Product_ID</th>\n",
       "      <th>Product_Name</th>\n",
       "      <th>Stock</th>\n",
       "      <th>Price</th>\n",
       "      <th>Discounted</th>\n",
       "    </tr>\n",
       "  </thead>\n",
       "  <tbody>\n",
       "    <tr>\n",
       "      <th>0</th>\n",
       "      <td>1.0</td>\n",
       "      <td>Laptop</td>\n",
       "      <td>20.0</td>\n",
       "      <td>999.99</td>\n",
       "      <td>True</td>\n",
       "    </tr>\n",
       "    <tr>\n",
       "      <th>1</th>\n",
       "      <td>2.0</td>\n",
       "      <td>Phone</td>\n",
       "      <td>15.0</td>\n",
       "      <td>799.99</td>\n",
       "      <td>False</td>\n",
       "    </tr>\n",
       "    <tr>\n",
       "      <th>2</th>\n",
       "      <td>3.0</td>\n",
       "      <td>TV</td>\n",
       "      <td>NaN</td>\n",
       "      <td>399.99</td>\n",
       "      <td>True</td>\n",
       "    </tr>\n",
       "    <tr>\n",
       "      <th>3</th>\n",
       "      <td>4.0</td>\n",
       "      <td>Headphones</td>\n",
       "      <td>30.0</td>\n",
       "      <td>NaN</td>\n",
       "      <td>False</td>\n",
       "    </tr>\n",
       "    <tr>\n",
       "      <th>4</th>\n",
       "      <td>5.0</td>\n",
       "      <td>None</td>\n",
       "      <td>25.0</td>\n",
       "      <td>59.99</td>\n",
       "      <td>NaN</td>\n",
       "    </tr>\n",
       "    <tr>\n",
       "      <th>5</th>\n",
       "      <td>NaN</td>\n",
       "      <td>Microwave</td>\n",
       "      <td>12.0</td>\n",
       "      <td>99.99</td>\n",
       "      <td>True</td>\n",
       "    </tr>\n",
       "    <tr>\n",
       "      <th>6</th>\n",
       "      <td>6.0</td>\n",
       "      <td>Monitor</td>\n",
       "      <td>NaN</td>\n",
       "      <td>NaN</td>\n",
       "      <td>True</td>\n",
       "    </tr>\n",
       "  </tbody>\n",
       "</table>\n",
       "</div>"
      ],
      "text/plain": [
       "   Product_ID Product_Name  Stock   Price Discounted\n",
       "0         1.0       Laptop   20.0  999.99       True\n",
       "1         2.0        Phone   15.0  799.99      False\n",
       "2         3.0           TV    NaN  399.99       True\n",
       "3         4.0   Headphones   30.0     NaN      False\n",
       "4         5.0         None   25.0   59.99        NaN\n",
       "5         NaN    Microwave   12.0   99.99       True\n",
       "6         6.0      Monitor    NaN     NaN       True"
      ]
     },
     "execution_count": 29,
     "metadata": {},
     "output_type": "execute_result"
    }
   ],
   "source": [
    "target_df"
   ]
  },
  {
   "cell_type": "code",
   "execution_count": 30,
   "id": "79340632",
   "metadata": {},
   "outputs": [],
   "source": [
    "temp=target_df.fillna(value=0, limit=1)"
   ]
  },
  {
   "cell_type": "code",
   "execution_count": 31,
   "id": "3b9feb5e",
   "metadata": {},
   "outputs": [
    {
     "data": {
      "text/html": [
       "<div>\n",
       "<style scoped>\n",
       "    .dataframe tbody tr th:only-of-type {\n",
       "        vertical-align: middle;\n",
       "    }\n",
       "\n",
       "    .dataframe tbody tr th {\n",
       "        vertical-align: top;\n",
       "    }\n",
       "\n",
       "    .dataframe thead th {\n",
       "        text-align: right;\n",
       "    }\n",
       "</style>\n",
       "<table border=\"1\" class=\"dataframe\">\n",
       "  <thead>\n",
       "    <tr style=\"text-align: right;\">\n",
       "      <th></th>\n",
       "      <th>Product_ID</th>\n",
       "      <th>Product_Name</th>\n",
       "      <th>Stock</th>\n",
       "      <th>Price</th>\n",
       "      <th>Discounted</th>\n",
       "    </tr>\n",
       "  </thead>\n",
       "  <tbody>\n",
       "    <tr>\n",
       "      <th>0</th>\n",
       "      <td>1.0</td>\n",
       "      <td>Laptop</td>\n",
       "      <td>20.0</td>\n",
       "      <td>999.99</td>\n",
       "      <td>True</td>\n",
       "    </tr>\n",
       "    <tr>\n",
       "      <th>1</th>\n",
       "      <td>2.0</td>\n",
       "      <td>Phone</td>\n",
       "      <td>15.0</td>\n",
       "      <td>799.99</td>\n",
       "      <td>False</td>\n",
       "    </tr>\n",
       "    <tr>\n",
       "      <th>2</th>\n",
       "      <td>3.0</td>\n",
       "      <td>TV</td>\n",
       "      <td>0.0</td>\n",
       "      <td>399.99</td>\n",
       "      <td>True</td>\n",
       "    </tr>\n",
       "    <tr>\n",
       "      <th>3</th>\n",
       "      <td>4.0</td>\n",
       "      <td>Headphones</td>\n",
       "      <td>30.0</td>\n",
       "      <td>0.00</td>\n",
       "      <td>False</td>\n",
       "    </tr>\n",
       "    <tr>\n",
       "      <th>4</th>\n",
       "      <td>5.0</td>\n",
       "      <td>0</td>\n",
       "      <td>25.0</td>\n",
       "      <td>59.99</td>\n",
       "      <td>0</td>\n",
       "    </tr>\n",
       "    <tr>\n",
       "      <th>5</th>\n",
       "      <td>0.0</td>\n",
       "      <td>Microwave</td>\n",
       "      <td>12.0</td>\n",
       "      <td>99.99</td>\n",
       "      <td>True</td>\n",
       "    </tr>\n",
       "    <tr>\n",
       "      <th>6</th>\n",
       "      <td>6.0</td>\n",
       "      <td>Monitor</td>\n",
       "      <td>NaN</td>\n",
       "      <td>NaN</td>\n",
       "      <td>True</td>\n",
       "    </tr>\n",
       "  </tbody>\n",
       "</table>\n",
       "</div>"
      ],
      "text/plain": [
       "   Product_ID Product_Name  Stock   Price Discounted\n",
       "0         1.0       Laptop   20.0  999.99       True\n",
       "1         2.0        Phone   15.0  799.99      False\n",
       "2         3.0           TV    0.0  399.99       True\n",
       "3         4.0   Headphones   30.0    0.00      False\n",
       "4         5.0            0   25.0   59.99          0\n",
       "5         0.0    Microwave   12.0   99.99       True\n",
       "6         6.0      Monitor    NaN     NaN       True"
      ]
     },
     "execution_count": 31,
     "metadata": {},
     "output_type": "execute_result"
    }
   ],
   "source": [
    "temp"
   ]
  },
  {
   "cell_type": "markdown",
   "id": "8a2034e5",
   "metadata": {},
   "source": [
    "### Counting"
   ]
  },
  {
   "cell_type": "markdown",
   "id": "49139613",
   "metadata": {},
   "source": [
    "#### How would you count the number of null values in the entire DataFrame?"
   ]
  },
  {
   "cell_type": "code",
   "execution_count": 32,
   "id": "8e8635d8",
   "metadata": {},
   "outputs": [
    {
     "data": {
      "text/plain": [
       "28"
      ]
     },
     "execution_count": 32,
     "metadata": {},
     "output_type": "execute_result"
    }
   ],
   "source": [
    "target_df.notna().values.sum()"
   ]
  },
  {
   "cell_type": "markdown",
   "id": "2c068c83",
   "metadata": {},
   "source": [
    "#### Is there a way to get a count of non-null values for each column in the DataFrame?"
   ]
  },
  {
   "cell_type": "code",
   "execution_count": 33,
   "id": "26bb6438",
   "metadata": {},
   "outputs": [
    {
     "data": {
      "text/plain": [
       "Product_ID      6\n",
       "Product_Name    6\n",
       "Stock           5\n",
       "Price           5\n",
       "Discounted      6\n",
       "dtype: int64"
      ]
     },
     "execution_count": 33,
     "metadata": {},
     "output_type": "execute_result"
    }
   ],
   "source": [
    "target_df.notna().sum()"
   ]
  },
  {
   "cell_type": "markdown",
   "id": "81a4b9a5",
   "metadata": {},
   "source": [
    "#### How would you count null values in a specific row, say the row at index 2?"
   ]
  },
  {
   "cell_type": "code",
   "execution_count": 34,
   "id": "41232415",
   "metadata": {},
   "outputs": [
    {
     "data": {
      "text/plain": [
       "4"
      ]
     },
     "execution_count": 34,
     "metadata": {},
     "output_type": "execute_result"
    }
   ],
   "source": [
    "target_df.notna().sum(axis=1)[2]"
   ]
  },
  {
   "cell_type": "markdown",
   "id": "23a110ad",
   "metadata": {},
   "source": [
    "#### Replacing"
   ]
  },
  {
   "cell_type": "markdown",
   "id": "1e2c3195",
   "metadata": {},
   "source": [
    "#### If you wanted to replace all null values in the DataFrame with the string \"Unknown\", how would you do it?"
   ]
  },
  {
   "cell_type": "code",
   "execution_count": 35,
   "id": "a2d69878",
   "metadata": {},
   "outputs": [
    {
     "data": {
      "text/html": [
       "<div>\n",
       "<style scoped>\n",
       "    .dataframe tbody tr th:only-of-type {\n",
       "        vertical-align: middle;\n",
       "    }\n",
       "\n",
       "    .dataframe tbody tr th {\n",
       "        vertical-align: top;\n",
       "    }\n",
       "\n",
       "    .dataframe thead th {\n",
       "        text-align: right;\n",
       "    }\n",
       "</style>\n",
       "<table border=\"1\" class=\"dataframe\">\n",
       "  <thead>\n",
       "    <tr style=\"text-align: right;\">\n",
       "      <th></th>\n",
       "      <th>Product_ID</th>\n",
       "      <th>Product_Name</th>\n",
       "      <th>Stock</th>\n",
       "      <th>Price</th>\n",
       "      <th>Discounted</th>\n",
       "    </tr>\n",
       "  </thead>\n",
       "  <tbody>\n",
       "    <tr>\n",
       "      <th>0</th>\n",
       "      <td>1.0</td>\n",
       "      <td>Laptop</td>\n",
       "      <td>20.0</td>\n",
       "      <td>999.99</td>\n",
       "      <td>True</td>\n",
       "    </tr>\n",
       "    <tr>\n",
       "      <th>1</th>\n",
       "      <td>2.0</td>\n",
       "      <td>Phone</td>\n",
       "      <td>15.0</td>\n",
       "      <td>799.99</td>\n",
       "      <td>False</td>\n",
       "    </tr>\n",
       "    <tr>\n",
       "      <th>2</th>\n",
       "      <td>3.0</td>\n",
       "      <td>TV</td>\n",
       "      <td>Unknown</td>\n",
       "      <td>399.99</td>\n",
       "      <td>True</td>\n",
       "    </tr>\n",
       "    <tr>\n",
       "      <th>3</th>\n",
       "      <td>4.0</td>\n",
       "      <td>Headphones</td>\n",
       "      <td>30.0</td>\n",
       "      <td>Unknown</td>\n",
       "      <td>False</td>\n",
       "    </tr>\n",
       "    <tr>\n",
       "      <th>4</th>\n",
       "      <td>5.0</td>\n",
       "      <td>Unknown</td>\n",
       "      <td>25.0</td>\n",
       "      <td>59.99</td>\n",
       "      <td>Unknown</td>\n",
       "    </tr>\n",
       "    <tr>\n",
       "      <th>5</th>\n",
       "      <td>Unknown</td>\n",
       "      <td>Microwave</td>\n",
       "      <td>12.0</td>\n",
       "      <td>99.99</td>\n",
       "      <td>True</td>\n",
       "    </tr>\n",
       "    <tr>\n",
       "      <th>6</th>\n",
       "      <td>6.0</td>\n",
       "      <td>Monitor</td>\n",
       "      <td>Unknown</td>\n",
       "      <td>Unknown</td>\n",
       "      <td>True</td>\n",
       "    </tr>\n",
       "  </tbody>\n",
       "</table>\n",
       "</div>"
      ],
      "text/plain": [
       "  Product_ID Product_Name    Stock    Price Discounted\n",
       "0        1.0       Laptop     20.0   999.99       True\n",
       "1        2.0        Phone     15.0   799.99      False\n",
       "2        3.0           TV  Unknown   399.99       True\n",
       "3        4.0   Headphones     30.0  Unknown      False\n",
       "4        5.0      Unknown     25.0    59.99    Unknown\n",
       "5    Unknown    Microwave     12.0    99.99       True\n",
       "6        6.0      Monitor  Unknown  Unknown       True"
      ]
     },
     "execution_count": 35,
     "metadata": {},
     "output_type": "execute_result"
    }
   ],
   "source": [
    "target_df.fillna(\"Unknown\")"
   ]
  },
  {
   "cell_type": "markdown",
   "id": "f15791d8",
   "metadata": {},
   "source": [
    "#### Can you replace null values in one column ('Stock') with zero and in another column ('Discounted') with False, all in a single line of code?"
   ]
  },
  {
   "cell_type": "code",
   "execution_count": 36,
   "id": "10e58171",
   "metadata": {},
   "outputs": [
    {
     "data": {
      "text/html": [
       "<div>\n",
       "<style scoped>\n",
       "    .dataframe tbody tr th:only-of-type {\n",
       "        vertical-align: middle;\n",
       "    }\n",
       "\n",
       "    .dataframe tbody tr th {\n",
       "        vertical-align: top;\n",
       "    }\n",
       "\n",
       "    .dataframe thead th {\n",
       "        text-align: right;\n",
       "    }\n",
       "</style>\n",
       "<table border=\"1\" class=\"dataframe\">\n",
       "  <thead>\n",
       "    <tr style=\"text-align: right;\">\n",
       "      <th></th>\n",
       "      <th>Product_ID</th>\n",
       "      <th>Product_Name</th>\n",
       "      <th>Stock</th>\n",
       "      <th>Price</th>\n",
       "      <th>Discounted</th>\n",
       "    </tr>\n",
       "  </thead>\n",
       "  <tbody>\n",
       "    <tr>\n",
       "      <th>0</th>\n",
       "      <td>1.0</td>\n",
       "      <td>Laptop</td>\n",
       "      <td>20.0</td>\n",
       "      <td>999.99</td>\n",
       "      <td>True</td>\n",
       "    </tr>\n",
       "    <tr>\n",
       "      <th>1</th>\n",
       "      <td>2.0</td>\n",
       "      <td>Phone</td>\n",
       "      <td>15.0</td>\n",
       "      <td>799.99</td>\n",
       "      <td>False</td>\n",
       "    </tr>\n",
       "    <tr>\n",
       "      <th>2</th>\n",
       "      <td>3.0</td>\n",
       "      <td>TV</td>\n",
       "      <td>0.0</td>\n",
       "      <td>399.99</td>\n",
       "      <td>True</td>\n",
       "    </tr>\n",
       "    <tr>\n",
       "      <th>3</th>\n",
       "      <td>4.0</td>\n",
       "      <td>Headphones</td>\n",
       "      <td>30.0</td>\n",
       "      <td>NaN</td>\n",
       "      <td>False</td>\n",
       "    </tr>\n",
       "    <tr>\n",
       "      <th>4</th>\n",
       "      <td>5.0</td>\n",
       "      <td>None</td>\n",
       "      <td>25.0</td>\n",
       "      <td>59.99</td>\n",
       "      <td>False</td>\n",
       "    </tr>\n",
       "    <tr>\n",
       "      <th>5</th>\n",
       "      <td>NaN</td>\n",
       "      <td>Microwave</td>\n",
       "      <td>12.0</td>\n",
       "      <td>99.99</td>\n",
       "      <td>True</td>\n",
       "    </tr>\n",
       "    <tr>\n",
       "      <th>6</th>\n",
       "      <td>6.0</td>\n",
       "      <td>Monitor</td>\n",
       "      <td>0.0</td>\n",
       "      <td>NaN</td>\n",
       "      <td>True</td>\n",
       "    </tr>\n",
       "  </tbody>\n",
       "</table>\n",
       "</div>"
      ],
      "text/plain": [
       "   Product_ID Product_Name  Stock   Price  Discounted\n",
       "0         1.0       Laptop   20.0  999.99        True\n",
       "1         2.0        Phone   15.0  799.99       False\n",
       "2         3.0           TV    0.0  399.99        True\n",
       "3         4.0   Headphones   30.0     NaN       False\n",
       "4         5.0         None   25.0   59.99       False\n",
       "5         NaN    Microwave   12.0   99.99        True\n",
       "6         6.0      Monitor    0.0     NaN        True"
      ]
     },
     "execution_count": 36,
     "metadata": {},
     "output_type": "execute_result"
    }
   ],
   "source": [
    "fill_map = {'Stock': 0, 'Discounted': False}\n",
    "target_df.fillna(fill_map)"
   ]
  },
  {
   "cell_type": "markdown",
   "id": "4cca1a73",
   "metadata": {},
   "source": [
    "#### How would you replace all instances of a specific value, let's say 999.99 in the 'Price' column, with np.nan?"
   ]
  },
  {
   "cell_type": "code",
   "execution_count": 37,
   "id": "99c18ed9",
   "metadata": {},
   "outputs": [
    {
     "data": {
      "text/html": [
       "<div>\n",
       "<style scoped>\n",
       "    .dataframe tbody tr th:only-of-type {\n",
       "        vertical-align: middle;\n",
       "    }\n",
       "\n",
       "    .dataframe tbody tr th {\n",
       "        vertical-align: top;\n",
       "    }\n",
       "\n",
       "    .dataframe thead th {\n",
       "        text-align: right;\n",
       "    }\n",
       "</style>\n",
       "<table border=\"1\" class=\"dataframe\">\n",
       "  <thead>\n",
       "    <tr style=\"text-align: right;\">\n",
       "      <th></th>\n",
       "      <th>Product_ID</th>\n",
       "      <th>Product_Name</th>\n",
       "      <th>Stock</th>\n",
       "      <th>Price</th>\n",
       "      <th>Discounted</th>\n",
       "    </tr>\n",
       "  </thead>\n",
       "  <tbody>\n",
       "    <tr>\n",
       "      <th>0</th>\n",
       "      <td>1.0</td>\n",
       "      <td>Laptop</td>\n",
       "      <td>20.0</td>\n",
       "      <td>NaN</td>\n",
       "      <td>True</td>\n",
       "    </tr>\n",
       "    <tr>\n",
       "      <th>1</th>\n",
       "      <td>2.0</td>\n",
       "      <td>Phone</td>\n",
       "      <td>15.0</td>\n",
       "      <td>799.99</td>\n",
       "      <td>False</td>\n",
       "    </tr>\n",
       "    <tr>\n",
       "      <th>2</th>\n",
       "      <td>3.0</td>\n",
       "      <td>TV</td>\n",
       "      <td>NaN</td>\n",
       "      <td>399.99</td>\n",
       "      <td>True</td>\n",
       "    </tr>\n",
       "    <tr>\n",
       "      <th>3</th>\n",
       "      <td>4.0</td>\n",
       "      <td>Headphones</td>\n",
       "      <td>30.0</td>\n",
       "      <td>NaN</td>\n",
       "      <td>False</td>\n",
       "    </tr>\n",
       "    <tr>\n",
       "      <th>4</th>\n",
       "      <td>5.0</td>\n",
       "      <td>None</td>\n",
       "      <td>25.0</td>\n",
       "      <td>59.99</td>\n",
       "      <td>NaN</td>\n",
       "    </tr>\n",
       "    <tr>\n",
       "      <th>5</th>\n",
       "      <td>NaN</td>\n",
       "      <td>Microwave</td>\n",
       "      <td>12.0</td>\n",
       "      <td>99.99</td>\n",
       "      <td>True</td>\n",
       "    </tr>\n",
       "    <tr>\n",
       "      <th>6</th>\n",
       "      <td>6.0</td>\n",
       "      <td>Monitor</td>\n",
       "      <td>NaN</td>\n",
       "      <td>NaN</td>\n",
       "      <td>True</td>\n",
       "    </tr>\n",
       "  </tbody>\n",
       "</table>\n",
       "</div>"
      ],
      "text/plain": [
       "   Product_ID Product_Name  Stock   Price Discounted\n",
       "0         1.0       Laptop   20.0     NaN       True\n",
       "1         2.0        Phone   15.0  799.99      False\n",
       "2         3.0           TV    NaN  399.99       True\n",
       "3         4.0   Headphones   30.0     NaN      False\n",
       "4         5.0         None   25.0   59.99        NaN\n",
       "5         NaN    Microwave   12.0   99.99       True\n",
       "6         6.0      Monitor    NaN     NaN       True"
      ]
     },
     "execution_count": 37,
     "metadata": {},
     "output_type": "execute_result"
    }
   ],
   "source": [
    "target_df.replace(999.99, np.nan)"
   ]
  },
  {
   "cell_type": "markdown",
   "id": "e4983ec6",
   "metadata": {},
   "source": [
    "### Operations"
   ]
  },
  {
   "cell_type": "markdown",
   "id": "a5681775",
   "metadata": {},
   "source": [
    "#### How would you calculate the sum of each column in target_df, considering that some columns might have null values?"
   ]
  },
  {
   "cell_type": "code",
   "execution_count": 38,
   "id": "02aacf5d",
   "metadata": {},
   "outputs": [
    {
     "data": {
      "text/plain": [
       "Product_ID       21.0\n",
       "Stock           102.0\n",
       "Price         2359.95\n",
       "Discounted          4\n",
       "dtype: object"
      ]
     },
     "execution_count": 38,
     "metadata": {},
     "output_type": "execute_result"
    }
   ],
   "source": [
    "target_df.sum(skipna=True)"
   ]
  },
  {
   "cell_type": "markdown",
   "id": "1f52cc57",
   "metadata": {},
   "source": [
    "#### If you have null values in the 'Stock' and 'Price' columns, and you attempt to multiply these columns element-wise, what will happen to the resulting product where null values are involved?"
   ]
  },
  {
   "cell_type": "code",
   "execution_count": 39,
   "id": "70dd2fe7",
   "metadata": {},
   "outputs": [],
   "source": [
    "# The result will be Null value even if one operand is not null."
   ]
  },
  {
   "cell_type": "code",
   "execution_count": 40,
   "id": "5d8e1e9a",
   "metadata": {},
   "outputs": [
    {
     "data": {
      "text/html": [
       "<div>\n",
       "<style scoped>\n",
       "    .dataframe tbody tr th:only-of-type {\n",
       "        vertical-align: middle;\n",
       "    }\n",
       "\n",
       "    .dataframe tbody tr th {\n",
       "        vertical-align: top;\n",
       "    }\n",
       "\n",
       "    .dataframe thead th {\n",
       "        text-align: right;\n",
       "    }\n",
       "</style>\n",
       "<table border=\"1\" class=\"dataframe\">\n",
       "  <thead>\n",
       "    <tr style=\"text-align: right;\">\n",
       "      <th></th>\n",
       "      <th>Product_ID</th>\n",
       "      <th>Product_Name</th>\n",
       "      <th>Stock</th>\n",
       "      <th>Price</th>\n",
       "      <th>Discounted</th>\n",
       "    </tr>\n",
       "  </thead>\n",
       "  <tbody>\n",
       "    <tr>\n",
       "      <th>0</th>\n",
       "      <td>1.0</td>\n",
       "      <td>Laptop</td>\n",
       "      <td>20.0</td>\n",
       "      <td>999.99</td>\n",
       "      <td>True</td>\n",
       "    </tr>\n",
       "    <tr>\n",
       "      <th>1</th>\n",
       "      <td>2.0</td>\n",
       "      <td>Phone</td>\n",
       "      <td>15.0</td>\n",
       "      <td>799.99</td>\n",
       "      <td>False</td>\n",
       "    </tr>\n",
       "    <tr>\n",
       "      <th>2</th>\n",
       "      <td>3.0</td>\n",
       "      <td>TV</td>\n",
       "      <td>NaN</td>\n",
       "      <td>399.99</td>\n",
       "      <td>True</td>\n",
       "    </tr>\n",
       "    <tr>\n",
       "      <th>3</th>\n",
       "      <td>4.0</td>\n",
       "      <td>Headphones</td>\n",
       "      <td>30.0</td>\n",
       "      <td>NaN</td>\n",
       "      <td>False</td>\n",
       "    </tr>\n",
       "    <tr>\n",
       "      <th>4</th>\n",
       "      <td>5.0</td>\n",
       "      <td>None</td>\n",
       "      <td>25.0</td>\n",
       "      <td>59.99</td>\n",
       "      <td>NaN</td>\n",
       "    </tr>\n",
       "    <tr>\n",
       "      <th>5</th>\n",
       "      <td>NaN</td>\n",
       "      <td>Microwave</td>\n",
       "      <td>12.0</td>\n",
       "      <td>99.99</td>\n",
       "      <td>True</td>\n",
       "    </tr>\n",
       "    <tr>\n",
       "      <th>6</th>\n",
       "      <td>6.0</td>\n",
       "      <td>Monitor</td>\n",
       "      <td>NaN</td>\n",
       "      <td>NaN</td>\n",
       "      <td>True</td>\n",
       "    </tr>\n",
       "  </tbody>\n",
       "</table>\n",
       "</div>"
      ],
      "text/plain": [
       "   Product_ID Product_Name  Stock   Price Discounted\n",
       "0         1.0       Laptop   20.0  999.99       True\n",
       "1         2.0        Phone   15.0  799.99      False\n",
       "2         3.0           TV    NaN  399.99       True\n",
       "3         4.0   Headphones   30.0     NaN      False\n",
       "4         5.0         None   25.0   59.99        NaN\n",
       "5         NaN    Microwave   12.0   99.99       True\n",
       "6         6.0      Monitor    NaN     NaN       True"
      ]
     },
     "execution_count": 40,
     "metadata": {},
     "output_type": "execute_result"
    }
   ],
   "source": [
    "target_df"
   ]
  },
  {
   "cell_type": "code",
   "execution_count": 41,
   "id": "04cc148e",
   "metadata": {},
   "outputs": [
    {
     "data": {
      "text/plain": [
       "0    19999.80\n",
       "1    11999.85\n",
       "2         NaN\n",
       "3         NaN\n",
       "4     1499.75\n",
       "5     1199.88\n",
       "6         NaN\n",
       "dtype: float64"
      ]
     },
     "execution_count": 41,
     "metadata": {},
     "output_type": "execute_result"
    }
   ],
   "source": [
    "target_df['Stock'] * target_df['Price']"
   ]
  },
  {
   "cell_type": "markdown",
   "id": "1c711e50",
   "metadata": {},
   "source": [
    "#### How would you use the dropna method to perform an operation, say calculating the mean, only on non-null elements in the 'Stock' column?"
   ]
  },
  {
   "cell_type": "code",
   "execution_count": 42,
   "id": "6f37b897",
   "metadata": {},
   "outputs": [],
   "source": [
    "# By default the mean is calculated only on non null values"
   ]
  },
  {
   "cell_type": "code",
   "execution_count": 43,
   "id": "68934a62",
   "metadata": {},
   "outputs": [
    {
     "data": {
      "text/plain": [
       "20.4"
      ]
     },
     "execution_count": 43,
     "metadata": {},
     "output_type": "execute_result"
    }
   ],
   "source": [
    "target_df['Stock'].mean()"
   ]
  },
  {
   "cell_type": "code",
   "execution_count": 44,
   "id": "90d19a01",
   "metadata": {},
   "outputs": [
    {
     "data": {
      "text/plain": [
       "20.4"
      ]
     },
     "execution_count": 44,
     "metadata": {},
     "output_type": "execute_result"
    }
   ],
   "source": [
    "target_df.dropna(subset=['Stock']).loc[:, 'Stock'].mean()"
   ]
  },
  {
   "cell_type": "markdown",
   "id": "11683dac",
   "metadata": {},
   "source": [
    "### Propagating"
   ]
  },
  {
   "cell_type": "markdown",
   "id": "b6f14a81",
   "metadata": {},
   "source": [
    "#### How would you propagate the last valid observation in the 'Stock' column to fill NaN values?"
   ]
  },
  {
   "cell_type": "code",
   "execution_count": 45,
   "id": "08a63794",
   "metadata": {
    "scrolled": true
   },
   "outputs": [
    {
     "data": {
      "text/plain": [
       "0    20.0\n",
       "1    15.0\n",
       "2     NaN\n",
       "3    30.0\n",
       "4    25.0\n",
       "5    12.0\n",
       "6     NaN\n",
       "Name: Stock, dtype: float64"
      ]
     },
     "execution_count": 45,
     "metadata": {},
     "output_type": "execute_result"
    }
   ],
   "source": [
    "target_df['Stock']"
   ]
  },
  {
   "cell_type": "code",
   "execution_count": 46,
   "id": "c431b5e5",
   "metadata": {},
   "outputs": [
    {
     "data": {
      "text/plain": [
       "0    20.0\n",
       "1    15.0\n",
       "2    15.0\n",
       "3    30.0\n",
       "4    25.0\n",
       "5    12.0\n",
       "6    12.0\n",
       "Name: Stock, dtype: float64"
      ]
     },
     "execution_count": 46,
     "metadata": {},
     "output_type": "execute_result"
    }
   ],
   "source": [
    "target_df['Stock'].ffill()"
   ]
  },
  {
   "cell_type": "markdown",
   "id": "61779c65",
   "metadata": {},
   "source": [
    "#### Can you propagate the next valid observation backward to fill NaN values in the 'Price' column? If so, how would you do it?"
   ]
  },
  {
   "cell_type": "code",
   "execution_count": 47,
   "id": "97a997a5",
   "metadata": {
    "scrolled": true
   },
   "outputs": [
    {
     "data": {
      "text/plain": [
       "0    999.99\n",
       "1    799.99\n",
       "2    399.99\n",
       "3       NaN\n",
       "4     59.99\n",
       "5     99.99\n",
       "6       NaN\n",
       "Name: Price, dtype: float64"
      ]
     },
     "execution_count": 47,
     "metadata": {},
     "output_type": "execute_result"
    }
   ],
   "source": [
    "target_df['Price']"
   ]
  },
  {
   "cell_type": "code",
   "execution_count": 48,
   "id": "a78c967e",
   "metadata": {},
   "outputs": [
    {
     "data": {
      "text/plain": [
       "0    999.99\n",
       "1    799.99\n",
       "2    399.99\n",
       "3     59.99\n",
       "4     59.99\n",
       "5     99.99\n",
       "6       NaN\n",
       "Name: Price, dtype: float64"
      ]
     },
     "execution_count": 48,
     "metadata": {},
     "output_type": "execute_result"
    }
   ],
   "source": [
    "target_df['Price'].bfill()"
   ]
  },
  {
   "cell_type": "markdown",
   "id": "b5c0464e",
   "metadata": {},
   "source": [
    "#### How would you limit the number of NaN values filled by forward fill (or backward fill) to 1 in the 'Stock' column?"
   ]
  },
  {
   "cell_type": "code",
   "execution_count": 49,
   "id": "993d3a86",
   "metadata": {},
   "outputs": [
    {
     "data": {
      "text/plain": [
       "0    20.0\n",
       "1    15.0\n",
       "2     NaN\n",
       "3    30.0\n",
       "4    25.0\n",
       "5    12.0\n",
       "6     NaN\n",
       "Name: Stock, dtype: float64"
      ]
     },
     "execution_count": 49,
     "metadata": {},
     "output_type": "execute_result"
    }
   ],
   "source": [
    "target_df['Stock']"
   ]
  },
  {
   "cell_type": "code",
   "execution_count": 51,
   "id": "8752cbcd",
   "metadata": {},
   "outputs": [],
   "source": [
    "target_df.loc[3, ['Stock']] = np.nan"
   ]
  },
  {
   "cell_type": "code",
   "execution_count": 52,
   "id": "db30a310",
   "metadata": {},
   "outputs": [
    {
     "data": {
      "text/plain": [
       "0    20.0\n",
       "1    15.0\n",
       "2     NaN\n",
       "3     NaN\n",
       "4    25.0\n",
       "5    12.0\n",
       "6     NaN\n",
       "Name: Stock, dtype: float64"
      ]
     },
     "execution_count": 52,
     "metadata": {},
     "output_type": "execute_result"
    }
   ],
   "source": [
    "target_df['Stock']"
   ]
  },
  {
   "cell_type": "code",
   "execution_count": 53,
   "id": "1e538e98",
   "metadata": {},
   "outputs": [
    {
     "data": {
      "text/html": [
       "<div>\n",
       "<style scoped>\n",
       "    .dataframe tbody tr th:only-of-type {\n",
       "        vertical-align: middle;\n",
       "    }\n",
       "\n",
       "    .dataframe tbody tr th {\n",
       "        vertical-align: top;\n",
       "    }\n",
       "\n",
       "    .dataframe thead th {\n",
       "        text-align: right;\n",
       "    }\n",
       "</style>\n",
       "<table border=\"1\" class=\"dataframe\">\n",
       "  <thead>\n",
       "    <tr style=\"text-align: right;\">\n",
       "      <th></th>\n",
       "      <th>Product_ID</th>\n",
       "      <th>Product_Name</th>\n",
       "      <th>Stock</th>\n",
       "      <th>Price</th>\n",
       "      <th>Discounted</th>\n",
       "    </tr>\n",
       "  </thead>\n",
       "  <tbody>\n",
       "    <tr>\n",
       "      <th>0</th>\n",
       "      <td>1.0</td>\n",
       "      <td>Laptop</td>\n",
       "      <td>20.0</td>\n",
       "      <td>999.99</td>\n",
       "      <td>True</td>\n",
       "    </tr>\n",
       "    <tr>\n",
       "      <th>1</th>\n",
       "      <td>2.0</td>\n",
       "      <td>Phone</td>\n",
       "      <td>15.0</td>\n",
       "      <td>799.99</td>\n",
       "      <td>False</td>\n",
       "    </tr>\n",
       "    <tr>\n",
       "      <th>2</th>\n",
       "      <td>3.0</td>\n",
       "      <td>TV</td>\n",
       "      <td>15.0</td>\n",
       "      <td>399.99</td>\n",
       "      <td>True</td>\n",
       "    </tr>\n",
       "    <tr>\n",
       "      <th>3</th>\n",
       "      <td>4.0</td>\n",
       "      <td>Headphones</td>\n",
       "      <td>NaN</td>\n",
       "      <td>399.99</td>\n",
       "      <td>False</td>\n",
       "    </tr>\n",
       "    <tr>\n",
       "      <th>4</th>\n",
       "      <td>5.0</td>\n",
       "      <td>Headphones</td>\n",
       "      <td>25.0</td>\n",
       "      <td>59.99</td>\n",
       "      <td>False</td>\n",
       "    </tr>\n",
       "    <tr>\n",
       "      <th>5</th>\n",
       "      <td>5.0</td>\n",
       "      <td>Microwave</td>\n",
       "      <td>12.0</td>\n",
       "      <td>99.99</td>\n",
       "      <td>True</td>\n",
       "    </tr>\n",
       "    <tr>\n",
       "      <th>6</th>\n",
       "      <td>6.0</td>\n",
       "      <td>Monitor</td>\n",
       "      <td>12.0</td>\n",
       "      <td>99.99</td>\n",
       "      <td>True</td>\n",
       "    </tr>\n",
       "  </tbody>\n",
       "</table>\n",
       "</div>"
      ],
      "text/plain": [
       "   Product_ID Product_Name  Stock   Price  Discounted\n",
       "0         1.0       Laptop   20.0  999.99        True\n",
       "1         2.0        Phone   15.0  799.99       False\n",
       "2         3.0           TV   15.0  399.99        True\n",
       "3         4.0   Headphones    NaN  399.99       False\n",
       "4         5.0   Headphones   25.0   59.99       False\n",
       "5         5.0    Microwave   12.0   99.99        True\n",
       "6         6.0      Monitor   12.0   99.99        True"
      ]
     },
     "execution_count": 53,
     "metadata": {},
     "output_type": "execute_result"
    }
   ],
   "source": [
    "target_df.ffill(limit=1)"
   ]
  },
  {
   "cell_type": "code",
   "execution_count": null,
   "id": "ce5ab51f",
   "metadata": {},
   "outputs": [],
   "source": []
  }
 ],
 "metadata": {
  "kernelspec": {
   "display_name": "Python 3 (ipykernel)",
   "language": "python",
   "name": "python3"
  },
  "language_info": {
   "codemirror_mode": {
    "name": "ipython",
    "version": 3
   },
   "file_extension": ".py",
   "mimetype": "text/x-python",
   "name": "python",
   "nbconvert_exporter": "python",
   "pygments_lexer": "ipython3",
   "version": "3.8.12"
  }
 },
 "nbformat": 4,
 "nbformat_minor": 5
}

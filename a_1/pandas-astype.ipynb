{
 "cells": [
  {
   "cell_type": "code",
   "execution_count": 1,
   "id": "c83c61c0",
   "metadata": {},
   "outputs": [],
   "source": [
    "import pandas as pd\n",
    "\n",
    "data = {\n",
    "    'Product_ID': [101, 102, 103, 104, 105],\n",
    "    'Product_Name': ['iPhone', 'MacBook Pro', 'iPad', 'Apple Watch', 'AirPods'],\n",
    "    'Release_Year': ['2020', '2019', '2018', '2021', '2019'],\n",
    "    'Price ($)': [999, 1299, 329, 399, 159],\n",
    "    'Units_Sold_Millions': ['75', '20', '40', '25', '30']\n",
    "}\n",
    "\n",
    "apple_df = pd.DataFrame(data)"
   ]
  },
  {
   "cell_type": "code",
   "execution_count": 2,
   "id": "39b113b2",
   "metadata": {},
   "outputs": [
    {
     "data": {
      "text/html": [
       "<div>\n",
       "<style scoped>\n",
       "    .dataframe tbody tr th:only-of-type {\n",
       "        vertical-align: middle;\n",
       "    }\n",
       "\n",
       "    .dataframe tbody tr th {\n",
       "        vertical-align: top;\n",
       "    }\n",
       "\n",
       "    .dataframe thead th {\n",
       "        text-align: right;\n",
       "    }\n",
       "</style>\n",
       "<table border=\"1\" class=\"dataframe\">\n",
       "  <thead>\n",
       "    <tr style=\"text-align: right;\">\n",
       "      <th></th>\n",
       "      <th>Product_ID</th>\n",
       "      <th>Product_Name</th>\n",
       "      <th>Release_Year</th>\n",
       "      <th>Price ($)</th>\n",
       "      <th>Units_Sold_Millions</th>\n",
       "    </tr>\n",
       "  </thead>\n",
       "  <tbody>\n",
       "    <tr>\n",
       "      <th>0</th>\n",
       "      <td>101</td>\n",
       "      <td>iPhone</td>\n",
       "      <td>2020</td>\n",
       "      <td>999</td>\n",
       "      <td>75</td>\n",
       "    </tr>\n",
       "    <tr>\n",
       "      <th>1</th>\n",
       "      <td>102</td>\n",
       "      <td>MacBook Pro</td>\n",
       "      <td>2019</td>\n",
       "      <td>1299</td>\n",
       "      <td>20</td>\n",
       "    </tr>\n",
       "    <tr>\n",
       "      <th>2</th>\n",
       "      <td>103</td>\n",
       "      <td>iPad</td>\n",
       "      <td>2018</td>\n",
       "      <td>329</td>\n",
       "      <td>40</td>\n",
       "    </tr>\n",
       "    <tr>\n",
       "      <th>3</th>\n",
       "      <td>104</td>\n",
       "      <td>Apple Watch</td>\n",
       "      <td>2021</td>\n",
       "      <td>399</td>\n",
       "      <td>25</td>\n",
       "    </tr>\n",
       "    <tr>\n",
       "      <th>4</th>\n",
       "      <td>105</td>\n",
       "      <td>AirPods</td>\n",
       "      <td>2019</td>\n",
       "      <td>159</td>\n",
       "      <td>30</td>\n",
       "    </tr>\n",
       "  </tbody>\n",
       "</table>\n",
       "</div>"
      ],
      "text/plain": [
       "   Product_ID Product_Name Release_Year  Price ($) Units_Sold_Millions\n",
       "0         101       iPhone         2020        999                  75\n",
       "1         102  MacBook Pro         2019       1299                  20\n",
       "2         103         iPad         2018        329                  40\n",
       "3         104  Apple Watch         2021        399                  25\n",
       "4         105      AirPods         2019        159                  30"
      ]
     },
     "execution_count": 2,
     "metadata": {},
     "output_type": "execute_result"
    }
   ],
   "source": [
    "apple_df"
   ]
  },
  {
   "cell_type": "code",
   "execution_count": 3,
   "id": "fa2d35c2",
   "metadata": {},
   "outputs": [
    {
     "data": {
      "text/plain": [
       "Product_ID              int64\n",
       "Product_Name           object\n",
       "Release_Year           object\n",
       "Price ($)               int64\n",
       "Units_Sold_Millions    object\n",
       "dtype: object"
      ]
     },
     "execution_count": 3,
     "metadata": {},
     "output_type": "execute_result"
    }
   ],
   "source": [
    "apple_df.dtypes"
   ]
  },
  {
   "cell_type": "markdown",
   "id": "0bce5e57",
   "metadata": {},
   "source": [
    "#### How would you convert the 'Release_Year' column from string type to integer type?"
   ]
  },
  {
   "cell_type": "code",
   "execution_count": 4,
   "id": "1f007b87",
   "metadata": {},
   "outputs": [
    {
     "data": {
      "text/plain": [
       "Product_ID              int64\n",
       "Product_Name           object\n",
       "Release_Year            int64\n",
       "Price ($)               int64\n",
       "Units_Sold_Millions    object\n",
       "dtype: object"
      ]
     },
     "execution_count": 4,
     "metadata": {},
     "output_type": "execute_result"
    }
   ],
   "source": [
    "apple_df.astype({'Release_Year': 'int64'}).dtypes"
   ]
  },
  {
   "cell_type": "markdown",
   "id": "7fc258e3",
   "metadata": {},
   "source": [
    "#### Can you use astype to change the data type of the 'Price ($)' column to a float?"
   ]
  },
  {
   "cell_type": "code",
   "execution_count": 5,
   "id": "2e5f8fb0",
   "metadata": {},
   "outputs": [
    {
     "data": {
      "text/plain": [
       "Product_ID               int64\n",
       "Product_Name            object\n",
       "Release_Year            object\n",
       "Price ($)              float64\n",
       "Units_Sold_Millions     object\n",
       "dtype: object"
      ]
     },
     "execution_count": 5,
     "metadata": {},
     "output_type": "execute_result"
    }
   ],
   "source": [
    "apple_df.astype({'Price ($)': 'float64'}).dtypes"
   ]
  },
  {
   "cell_type": "markdown",
   "id": "81af939f",
   "metadata": {},
   "source": [
    "#### How can you change the 'Units_Sold_Millions' column from string to integer data type?"
   ]
  },
  {
   "cell_type": "code",
   "execution_count": 6,
   "id": "32a068bf",
   "metadata": {},
   "outputs": [
    {
     "data": {
      "text/plain": [
       "Product_ID              int64\n",
       "Product_Name           object\n",
       "Release_Year           object\n",
       "Price ($)               int64\n",
       "Units_Sold_Millions     int64\n",
       "dtype: object"
      ]
     },
     "execution_count": 6,
     "metadata": {},
     "output_type": "execute_result"
    }
   ],
   "source": [
    "apple_df.astype({'Units_Sold_Millions': 'int64'}).dtypes"
   ]
  },
  {
   "cell_type": "markdown",
   "id": "213a4d9a",
   "metadata": {},
   "source": [
    "#### If you wanted the 'Product_ID' column to be of string type for joining with another dataset, how would you use astype to achieve this?"
   ]
  },
  {
   "cell_type": "code",
   "execution_count": 7,
   "id": "4de74a24",
   "metadata": {},
   "outputs": [
    {
     "data": {
      "text/plain": [
       "Product_ID             object\n",
       "Product_Name           object\n",
       "Release_Year           object\n",
       "Price ($)               int64\n",
       "Units_Sold_Millions    object\n",
       "dtype: object"
      ]
     },
     "execution_count": 7,
     "metadata": {},
     "output_type": "execute_result"
    }
   ],
   "source": [
    "apple_df.astype({'Product_ID': 'str'}).dtypes"
   ]
  },
  {
   "cell_type": "markdown",
   "id": "afd600c9",
   "metadata": {},
   "source": [
    "#### Can you transform the 'Units_Sold_Millions' column into a float type and ensure that the column represents the actual number of units (i.e., not in millions) using a single line of code?"
   ]
  },
  {
   "cell_type": "code",
   "execution_count": 8,
   "id": "c7ddc75f",
   "metadata": {},
   "outputs": [
    {
     "data": {
      "text/html": [
       "<div>\n",
       "<style scoped>\n",
       "    .dataframe tbody tr th:only-of-type {\n",
       "        vertical-align: middle;\n",
       "    }\n",
       "\n",
       "    .dataframe tbody tr th {\n",
       "        vertical-align: top;\n",
       "    }\n",
       "\n",
       "    .dataframe thead th {\n",
       "        text-align: right;\n",
       "    }\n",
       "</style>\n",
       "<table border=\"1\" class=\"dataframe\">\n",
       "  <thead>\n",
       "    <tr style=\"text-align: right;\">\n",
       "      <th></th>\n",
       "      <th>Product_ID</th>\n",
       "      <th>Product_Name</th>\n",
       "      <th>Release_Year</th>\n",
       "      <th>Price ($)</th>\n",
       "      <th>Units_Sold_Millions</th>\n",
       "    </tr>\n",
       "  </thead>\n",
       "  <tbody>\n",
       "    <tr>\n",
       "      <th>0</th>\n",
       "      <td>101</td>\n",
       "      <td>iPhone</td>\n",
       "      <td>2020</td>\n",
       "      <td>999</td>\n",
       "      <td>75</td>\n",
       "    </tr>\n",
       "    <tr>\n",
       "      <th>1</th>\n",
       "      <td>102</td>\n",
       "      <td>MacBook Pro</td>\n",
       "      <td>2019</td>\n",
       "      <td>1299</td>\n",
       "      <td>20</td>\n",
       "    </tr>\n",
       "    <tr>\n",
       "      <th>2</th>\n",
       "      <td>103</td>\n",
       "      <td>iPad</td>\n",
       "      <td>2018</td>\n",
       "      <td>329</td>\n",
       "      <td>40</td>\n",
       "    </tr>\n",
       "    <tr>\n",
       "      <th>3</th>\n",
       "      <td>104</td>\n",
       "      <td>Apple Watch</td>\n",
       "      <td>2021</td>\n",
       "      <td>399</td>\n",
       "      <td>25</td>\n",
       "    </tr>\n",
       "    <tr>\n",
       "      <th>4</th>\n",
       "      <td>105</td>\n",
       "      <td>AirPods</td>\n",
       "      <td>2019</td>\n",
       "      <td>159</td>\n",
       "      <td>30</td>\n",
       "    </tr>\n",
       "  </tbody>\n",
       "</table>\n",
       "</div>"
      ],
      "text/plain": [
       "   Product_ID Product_Name Release_Year  Price ($) Units_Sold_Millions\n",
       "0         101       iPhone         2020        999                  75\n",
       "1         102  MacBook Pro         2019       1299                  20\n",
       "2         103         iPad         2018        329                  40\n",
       "3         104  Apple Watch         2021        399                  25\n",
       "4         105      AirPods         2019        159                  30"
      ]
     },
     "execution_count": 8,
     "metadata": {},
     "output_type": "execute_result"
    }
   ],
   "source": [
    "apple_df"
   ]
  },
  {
   "cell_type": "code",
   "execution_count": 9,
   "id": "a5834f5b",
   "metadata": {},
   "outputs": [
    {
     "data": {
      "text/html": [
       "<div>\n",
       "<style scoped>\n",
       "    .dataframe tbody tr th:only-of-type {\n",
       "        vertical-align: middle;\n",
       "    }\n",
       "\n",
       "    .dataframe tbody tr th {\n",
       "        vertical-align: top;\n",
       "    }\n",
       "\n",
       "    .dataframe thead th {\n",
       "        text-align: right;\n",
       "    }\n",
       "</style>\n",
       "<table border=\"1\" class=\"dataframe\">\n",
       "  <thead>\n",
       "    <tr style=\"text-align: right;\">\n",
       "      <th></th>\n",
       "      <th>Units_Sold_Millions</th>\n",
       "    </tr>\n",
       "  </thead>\n",
       "  <tbody>\n",
       "    <tr>\n",
       "      <th>0</th>\n",
       "      <td>75000000.0</td>\n",
       "    </tr>\n",
       "    <tr>\n",
       "      <th>1</th>\n",
       "      <td>20000000.0</td>\n",
       "    </tr>\n",
       "    <tr>\n",
       "      <th>2</th>\n",
       "      <td>40000000.0</td>\n",
       "    </tr>\n",
       "    <tr>\n",
       "      <th>3</th>\n",
       "      <td>25000000.0</td>\n",
       "    </tr>\n",
       "    <tr>\n",
       "      <th>4</th>\n",
       "      <td>30000000.0</td>\n",
       "    </tr>\n",
       "  </tbody>\n",
       "</table>\n",
       "</div>"
      ],
      "text/plain": [
       "   Units_Sold_Millions\n",
       "0           75000000.0\n",
       "1           20000000.0\n",
       "2           40000000.0\n",
       "3           25000000.0\n",
       "4           30000000.0"
      ]
     },
     "execution_count": 9,
     "metadata": {},
     "output_type": "execute_result"
    }
   ],
   "source": [
    "apple_df.loc[:, ['Units_Sold_Millions']].astype('float64').apply(lambda x: x * 1000000)"
   ]
  },
  {
   "cell_type": "markdown",
   "id": "1e939934",
   "metadata": {},
   "source": [
    "#### How would you convert all string columns in the DataFrame to uppercase while changing their data type to a category?"
   ]
  },
  {
   "cell_type": "code",
   "execution_count": 10,
   "id": "a57bc046",
   "metadata": {},
   "outputs": [
    {
     "data": {
      "text/plain": [
       "Product_ID             category\n",
       "Product_Name           category\n",
       "Release_Year           category\n",
       "Price ($)              category\n",
       "Units_Sold_Millions    category\n",
       "dtype: object"
      ]
     },
     "execution_count": 10,
     "metadata": {},
     "output_type": "execute_result"
    }
   ],
   "source": [
    "apple_df.astype('category').dtypes"
   ]
  },
  {
   "cell_type": "code",
   "execution_count": 11,
   "id": "fb54efdc",
   "metadata": {},
   "outputs": [
    {
     "data": {
      "text/html": [
       "<div>\n",
       "<style scoped>\n",
       "    .dataframe tbody tr th:only-of-type {\n",
       "        vertical-align: middle;\n",
       "    }\n",
       "\n",
       "    .dataframe tbody tr th {\n",
       "        vertical-align: top;\n",
       "    }\n",
       "\n",
       "    .dataframe thead th {\n",
       "        text-align: right;\n",
       "    }\n",
       "</style>\n",
       "<table border=\"1\" class=\"dataframe\">\n",
       "  <thead>\n",
       "    <tr style=\"text-align: right;\">\n",
       "      <th></th>\n",
       "      <th>Product_Name</th>\n",
       "      <th>Release_Year</th>\n",
       "      <th>Units_Sold_Millions</th>\n",
       "    </tr>\n",
       "  </thead>\n",
       "  <tbody>\n",
       "    <tr>\n",
       "      <th>0</th>\n",
       "      <td>IPHONE</td>\n",
       "      <td>2020</td>\n",
       "      <td>75</td>\n",
       "    </tr>\n",
       "    <tr>\n",
       "      <th>1</th>\n",
       "      <td>MACBOOK PRO</td>\n",
       "      <td>2019</td>\n",
       "      <td>20</td>\n",
       "    </tr>\n",
       "    <tr>\n",
       "      <th>2</th>\n",
       "      <td>IPAD</td>\n",
       "      <td>2018</td>\n",
       "      <td>40</td>\n",
       "    </tr>\n",
       "    <tr>\n",
       "      <th>3</th>\n",
       "      <td>APPLE WATCH</td>\n",
       "      <td>2021</td>\n",
       "      <td>25</td>\n",
       "    </tr>\n",
       "    <tr>\n",
       "      <th>4</th>\n",
       "      <td>AIRPODS</td>\n",
       "      <td>2019</td>\n",
       "      <td>30</td>\n",
       "    </tr>\n",
       "  </tbody>\n",
       "</table>\n",
       "</div>"
      ],
      "text/plain": [
       "  Product_Name Release_Year Units_Sold_Millions\n",
       "0       IPHONE         2020                  75\n",
       "1  MACBOOK PRO         2019                  20\n",
       "2         IPAD         2018                  40\n",
       "3  APPLE WATCH         2021                  25\n",
       "4      AIRPODS         2019                  30"
      ]
     },
     "execution_count": 11,
     "metadata": {},
     "output_type": "execute_result"
    }
   ],
   "source": [
    "apple_df.select_dtypes(include=['object']).applymap(lambda x: x.upper() if isinstance(x, str) else x).astype('category')"
   ]
  },
  {
   "cell_type": "markdown",
   "id": "c905cb3f",
   "metadata": {},
   "source": [
    "#### How would you use astype method to make the 'Product_Name' column a categorical data type?"
   ]
  },
  {
   "cell_type": "code",
   "execution_count": 12,
   "id": "7e3e6786",
   "metadata": {},
   "outputs": [
    {
     "data": {
      "text/plain": [
       "Product_ID                int64\n",
       "Product_Name           category\n",
       "Release_Year             object\n",
       "Price ($)                 int64\n",
       "Units_Sold_Millions      object\n",
       "dtype: object"
      ]
     },
     "execution_count": 12,
     "metadata": {},
     "output_type": "execute_result"
    }
   ],
   "source": [
    "apple_df.astype({'Product_Name':'category'}).dtypes"
   ]
  },
  {
   "cell_type": "code",
   "execution_count": 13,
   "id": "02d98000",
   "metadata": {},
   "outputs": [
    {
     "data": {
      "text/plain": [
       "0         iPhone\n",
       "1    MacBook Pro\n",
       "2           iPad\n",
       "3    Apple Watch\n",
       "4        AirPods\n",
       "Name: Product_Name, dtype: category\n",
       "Categories (5, object): ['AirPods', 'Apple Watch', 'MacBook Pro', 'iPad', 'iPhone']"
      ]
     },
     "execution_count": 13,
     "metadata": {},
     "output_type": "execute_result"
    }
   ],
   "source": [
    "apple_df.astype({'Product_Name':'category'}).loc[:, 'Product_Name']"
   ]
  },
  {
   "cell_type": "markdown",
   "id": "d0732216",
   "metadata": {},
   "source": [
    "#### Imagine you have a mapping dictionary for product names to abbreviations: \n",
    "<code> name_map = {'iPhone':'IP', 'MacBook Pro':'MBP', 'iPad':'IPD', 'Apple Watch':'AW', 'AirPods':'AP'} </code>.\n",
    "#### How would you apply this mapping after converting the 'Product_Name' column to a category type?"
   ]
  },
  {
   "cell_type": "code",
   "execution_count": 14,
   "id": "f2e48526",
   "metadata": {},
   "outputs": [],
   "source": [
    "name_map = {'iPhone':'IP', 'MacBook Pro':'MBP', 'iPad':'IPD', 'Apple Watch':'AW', 'AirPods':'AP'}"
   ]
  },
  {
   "cell_type": "code",
   "execution_count": 15,
   "id": "b6ba5622",
   "metadata": {},
   "outputs": [],
   "source": [
    "apple_df['Product_Name'] = apple_df['Product_Name'].astype('category')"
   ]
  },
  {
   "cell_type": "code",
   "execution_count": 16,
   "id": "4a9ccd47",
   "metadata": {},
   "outputs": [
    {
     "data": {
      "text/plain": [
       "Product_ID                int64\n",
       "Product_Name           category\n",
       "Release_Year             object\n",
       "Price ($)                 int64\n",
       "Units_Sold_Millions      object\n",
       "dtype: object"
      ]
     },
     "execution_count": 16,
     "metadata": {},
     "output_type": "execute_result"
    }
   ],
   "source": [
    "apple_df.dtypes"
   ]
  },
  {
   "cell_type": "code",
   "execution_count": 17,
   "id": "f4ab2825",
   "metadata": {},
   "outputs": [
    {
     "data": {
      "text/plain": [
       "0         iPhone\n",
       "1    MacBook Pro\n",
       "2           iPad\n",
       "3    Apple Watch\n",
       "4        AirPods\n",
       "Name: Product_Name, dtype: category\n",
       "Categories (5, object): ['AirPods', 'Apple Watch', 'MacBook Pro', 'iPad', 'iPhone']"
      ]
     },
     "execution_count": 17,
     "metadata": {},
     "output_type": "execute_result"
    }
   ],
   "source": [
    "apple_df['Product_Name']"
   ]
  },
  {
   "cell_type": "code",
   "execution_count": 18,
   "id": "a3b46d00",
   "metadata": {},
   "outputs": [],
   "source": [
    "apple_df['Product_Name'] = apple_df['Product_Name'].cat.rename_categories(name_map) "
   ]
  },
  {
   "cell_type": "code",
   "execution_count": 19,
   "id": "c27db458",
   "metadata": {},
   "outputs": [
    {
     "data": {
      "text/plain": [
       "0     IP\n",
       "1    MBP\n",
       "2    IPD\n",
       "3     AW\n",
       "4     AP\n",
       "Name: Product_Name, dtype: category\n",
       "Categories (5, object): ['AP', 'AW', 'MBP', 'IPD', 'IP']"
      ]
     },
     "execution_count": 19,
     "metadata": {},
     "output_type": "execute_result"
    }
   ],
   "source": [
    "apple_df['Product_Name']"
   ]
  },
  {
   "cell_type": "code",
   "execution_count": 20,
   "id": "6547cb3c",
   "metadata": {},
   "outputs": [
    {
     "data": {
      "text/plain": [
       "Product_Name    category\n",
       "dtype: object"
      ]
     },
     "execution_count": 20,
     "metadata": {},
     "output_type": "execute_result"
    }
   ],
   "source": [
    "apple_df.astype({'Product_Name': 'category'}).loc[:, ['Product_Name']].dtypes"
   ]
  },
  {
   "cell_type": "markdown",
   "id": "06b3d8c0",
   "metadata": {},
   "source": [
    "#### How would you use the astype method to change multiple columns' data types at once? For instance, converting both 'Release_Year' and 'Units_Sold_Millions' to integers.\n"
   ]
  },
  {
   "cell_type": "code",
   "execution_count": 21,
   "id": "55ad56ad",
   "metadata": {},
   "outputs": [
    {
     "data": {
      "text/plain": [
       "Product_ID                int64\n",
       "Product_Name           category\n",
       "Release_Year             object\n",
       "Price ($)                 int64\n",
       "Units_Sold_Millions      object\n",
       "dtype: object"
      ]
     },
     "execution_count": 21,
     "metadata": {},
     "output_type": "execute_result"
    }
   ],
   "source": [
    "apple_df.dtypes"
   ]
  },
  {
   "cell_type": "code",
   "execution_count": 22,
   "id": "aba08be2",
   "metadata": {},
   "outputs": [
    {
     "data": {
      "text/plain": [
       "Product_ID                int64\n",
       "Product_Name           category\n",
       "Release_Year              int64\n",
       "Price ($)                 int64\n",
       "Units_Sold_Millions       int64\n",
       "dtype: object"
      ]
     },
     "execution_count": 22,
     "metadata": {},
     "output_type": "execute_result"
    }
   ],
   "source": [
    "apple_df.astype({'Release_Year':'int64', 'Units_Sold_Millions':'int64'}).dtypes"
   ]
  },
  {
   "cell_type": "markdown",
   "id": "a22d5fe1",
   "metadata": {},
   "source": [
    "#### If you wanted to represent prices in cents rather than dollars and needed the 'Price ($)' column as an integer reflecting this change, how would you use astype along with a transformation?"
   ]
  },
  {
   "cell_type": "code",
   "execution_count": 23,
   "id": "5a7caf9b",
   "metadata": {},
   "outputs": [
    {
     "data": {
      "text/html": [
       "<div>\n",
       "<style scoped>\n",
       "    .dataframe tbody tr th:only-of-type {\n",
       "        vertical-align: middle;\n",
       "    }\n",
       "\n",
       "    .dataframe tbody tr th {\n",
       "        vertical-align: top;\n",
       "    }\n",
       "\n",
       "    .dataframe thead th {\n",
       "        text-align: right;\n",
       "    }\n",
       "</style>\n",
       "<table border=\"1\" class=\"dataframe\">\n",
       "  <thead>\n",
       "    <tr style=\"text-align: right;\">\n",
       "      <th></th>\n",
       "      <th>Price (c)</th>\n",
       "    </tr>\n",
       "  </thead>\n",
       "  <tbody>\n",
       "    <tr>\n",
       "      <th>0</th>\n",
       "      <td>99900</td>\n",
       "    </tr>\n",
       "    <tr>\n",
       "      <th>1</th>\n",
       "      <td>129900</td>\n",
       "    </tr>\n",
       "    <tr>\n",
       "      <th>2</th>\n",
       "      <td>32900</td>\n",
       "    </tr>\n",
       "    <tr>\n",
       "      <th>3</th>\n",
       "      <td>39900</td>\n",
       "    </tr>\n",
       "    <tr>\n",
       "      <th>4</th>\n",
       "      <td>15900</td>\n",
       "    </tr>\n",
       "  </tbody>\n",
       "</table>\n",
       "</div>"
      ],
      "text/plain": [
       "   Price (c)\n",
       "0      99900\n",
       "1     129900\n",
       "2      32900\n",
       "3      39900\n",
       "4      15900"
      ]
     },
     "execution_count": 23,
     "metadata": {},
     "output_type": "execute_result"
    }
   ],
   "source": [
    "apple_df.astype({'Price ($)': 'int64'}).loc[:, ['Price ($)']].apply(lambda x: x*100).rename(columns={'Price ($)' : 'Price (c)'})"
   ]
  },
  {
   "cell_type": "code",
   "execution_count": null,
   "id": "6588cd33",
   "metadata": {},
   "outputs": [],
   "source": []
  }
 ],
 "metadata": {
  "kernelspec": {
   "display_name": "Python 3 (ipykernel)",
   "language": "python",
   "name": "python3"
  },
  "language_info": {
   "codemirror_mode": {
    "name": "ipython",
    "version": 3
   },
   "file_extension": ".py",
   "mimetype": "text/x-python",
   "name": "python",
   "nbconvert_exporter": "python",
   "pygments_lexer": "ipython3",
   "version": "3.8.12"
  }
 },
 "nbformat": 4,
 "nbformat_minor": 5
}

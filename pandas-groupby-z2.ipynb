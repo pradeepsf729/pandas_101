{
 "cells": [
  {
   "cell_type": "code",
   "execution_count": 1,
   "id": "0928faac",
   "metadata": {},
   "outputs": [],
   "source": [
    "import pandas as pd"
   ]
  },
  {
   "cell_type": "code",
   "execution_count": 2,
   "id": "3bce7e21",
   "metadata": {},
   "outputs": [],
   "source": [
    "data = {\n",
    "'Shop_Name': ['Starbucks', 'Blue Bottle', 'Dunkin', 'Peets', 'Starbucks', 'La Colombe', 'Blue Bottle', 'Peets', 'Starbucks', 'Dunkin'],\n",
    "'Location': ['Hollywood', 'San Diego', 'San Diego', 'Hollywood', 'New York', 'New York', 'Hollywood', 'San Diego', 'New York', 'Hollywood'],\n",
    "'Rating': [4.5, 4.7, 4.1, 4.3, 4.5, 4.8, 4.6, 4.2, 4.4, 3.9],\n",
    "'Type': ['Chain', 'Independent', 'Chain', 'Chain', 'Chain', 'Independent', 'Independent', 'Chain', 'Chain', 'Chain']\n",
    "}"
   ]
  },
  {
   "cell_type": "code",
   "execution_count": 3,
   "id": "e400fa8f",
   "metadata": {},
   "outputs": [],
   "source": [
    "coffee_shops = pd.DataFrame(data)"
   ]
  },
  {
   "cell_type": "code",
   "execution_count": 4,
   "id": "beda6e8e",
   "metadata": {},
   "outputs": [
    {
     "data": {
      "text/html": [
       "<div>\n",
       "<style scoped>\n",
       "    .dataframe tbody tr th:only-of-type {\n",
       "        vertical-align: middle;\n",
       "    }\n",
       "\n",
       "    .dataframe tbody tr th {\n",
       "        vertical-align: top;\n",
       "    }\n",
       "\n",
       "    .dataframe thead th {\n",
       "        text-align: right;\n",
       "    }\n",
       "</style>\n",
       "<table border=\"1\" class=\"dataframe\">\n",
       "  <thead>\n",
       "    <tr style=\"text-align: right;\">\n",
       "      <th></th>\n",
       "      <th>Shop_Name</th>\n",
       "      <th>Location</th>\n",
       "      <th>Rating</th>\n",
       "      <th>Type</th>\n",
       "    </tr>\n",
       "  </thead>\n",
       "  <tbody>\n",
       "    <tr>\n",
       "      <th>0</th>\n",
       "      <td>Starbucks</td>\n",
       "      <td>Hollywood</td>\n",
       "      <td>4.5</td>\n",
       "      <td>Chain</td>\n",
       "    </tr>\n",
       "    <tr>\n",
       "      <th>1</th>\n",
       "      <td>Blue Bottle</td>\n",
       "      <td>San Diego</td>\n",
       "      <td>4.7</td>\n",
       "      <td>Independent</td>\n",
       "    </tr>\n",
       "    <tr>\n",
       "      <th>2</th>\n",
       "      <td>Dunkin</td>\n",
       "      <td>San Diego</td>\n",
       "      <td>4.1</td>\n",
       "      <td>Chain</td>\n",
       "    </tr>\n",
       "    <tr>\n",
       "      <th>3</th>\n",
       "      <td>Peets</td>\n",
       "      <td>Hollywood</td>\n",
       "      <td>4.3</td>\n",
       "      <td>Chain</td>\n",
       "    </tr>\n",
       "    <tr>\n",
       "      <th>4</th>\n",
       "      <td>Starbucks</td>\n",
       "      <td>New York</td>\n",
       "      <td>4.5</td>\n",
       "      <td>Chain</td>\n",
       "    </tr>\n",
       "    <tr>\n",
       "      <th>5</th>\n",
       "      <td>La Colombe</td>\n",
       "      <td>New York</td>\n",
       "      <td>4.8</td>\n",
       "      <td>Independent</td>\n",
       "    </tr>\n",
       "    <tr>\n",
       "      <th>6</th>\n",
       "      <td>Blue Bottle</td>\n",
       "      <td>Hollywood</td>\n",
       "      <td>4.6</td>\n",
       "      <td>Independent</td>\n",
       "    </tr>\n",
       "    <tr>\n",
       "      <th>7</th>\n",
       "      <td>Peets</td>\n",
       "      <td>San Diego</td>\n",
       "      <td>4.2</td>\n",
       "      <td>Chain</td>\n",
       "    </tr>\n",
       "    <tr>\n",
       "      <th>8</th>\n",
       "      <td>Starbucks</td>\n",
       "      <td>New York</td>\n",
       "      <td>4.4</td>\n",
       "      <td>Chain</td>\n",
       "    </tr>\n",
       "    <tr>\n",
       "      <th>9</th>\n",
       "      <td>Dunkin</td>\n",
       "      <td>Hollywood</td>\n",
       "      <td>3.9</td>\n",
       "      <td>Chain</td>\n",
       "    </tr>\n",
       "  </tbody>\n",
       "</table>\n",
       "</div>"
      ],
      "text/plain": [
       "     Shop_Name   Location  Rating         Type\n",
       "0    Starbucks  Hollywood     4.5        Chain\n",
       "1  Blue Bottle  San Diego     4.7  Independent\n",
       "2       Dunkin  San Diego     4.1        Chain\n",
       "3        Peets  Hollywood     4.3        Chain\n",
       "4    Starbucks   New York     4.5        Chain\n",
       "5   La Colombe   New York     4.8  Independent\n",
       "6  Blue Bottle  Hollywood     4.6  Independent\n",
       "7        Peets  San Diego     4.2        Chain\n",
       "8    Starbucks   New York     4.4        Chain\n",
       "9       Dunkin  Hollywood     3.9        Chain"
      ]
     },
     "execution_count": 4,
     "metadata": {},
     "output_type": "execute_result"
    }
   ],
   "source": [
    "coffee_shops"
   ]
  },
  {
   "cell_type": "markdown",
   "id": "21208286",
   "metadata": {},
   "source": [
    "#### 1) Group by the Location column and calculate the mean of the Rating for each location. Which location has the highest average rating?"
   ]
  },
  {
   "cell_type": "code",
   "execution_count": 5,
   "id": "400b52ea",
   "metadata": {},
   "outputs": [],
   "source": [
    "rating_means = coffee_shops.groupby('Location').agg({'Rating':'mean'})"
   ]
  },
  {
   "cell_type": "code",
   "execution_count": 6,
   "id": "65fc352a",
   "metadata": {},
   "outputs": [
    {
     "data": {
      "text/html": [
       "<div>\n",
       "<style scoped>\n",
       "    .dataframe tbody tr th:only-of-type {\n",
       "        vertical-align: middle;\n",
       "    }\n",
       "\n",
       "    .dataframe tbody tr th {\n",
       "        vertical-align: top;\n",
       "    }\n",
       "\n",
       "    .dataframe thead th {\n",
       "        text-align: right;\n",
       "    }\n",
       "</style>\n",
       "<table border=\"1\" class=\"dataframe\">\n",
       "  <thead>\n",
       "    <tr style=\"text-align: right;\">\n",
       "      <th></th>\n",
       "      <th>Rating</th>\n",
       "    </tr>\n",
       "    <tr>\n",
       "      <th>Location</th>\n",
       "      <th></th>\n",
       "    </tr>\n",
       "  </thead>\n",
       "  <tbody>\n",
       "    <tr>\n",
       "      <th>Hollywood</th>\n",
       "      <td>4.325000</td>\n",
       "    </tr>\n",
       "    <tr>\n",
       "      <th>New York</th>\n",
       "      <td>4.566667</td>\n",
       "    </tr>\n",
       "    <tr>\n",
       "      <th>San Diego</th>\n",
       "      <td>4.333333</td>\n",
       "    </tr>\n",
       "  </tbody>\n",
       "</table>\n",
       "</div>"
      ],
      "text/plain": [
       "             Rating\n",
       "Location           \n",
       "Hollywood  4.325000\n",
       "New York   4.566667\n",
       "San Diego  4.333333"
      ]
     },
     "execution_count": 6,
     "metadata": {},
     "output_type": "execute_result"
    }
   ],
   "source": [
    "rating_means"
   ]
  },
  {
   "cell_type": "code",
   "execution_count": 7,
   "id": "d08829df",
   "metadata": {},
   "outputs": [
    {
     "data": {
      "text/plain": [
       "Rating    4.566667\n",
       "Name: New York, dtype: float64"
      ]
     },
     "execution_count": 7,
     "metadata": {},
     "output_type": "execute_result"
    }
   ],
   "source": [
    "rating_means.sort_values('Rating', ascending=False).iloc[0]"
   ]
  },
  {
   "cell_type": "markdown",
   "id": "f255b060",
   "metadata": {},
   "source": [
    "#### 2) Group by the Type column and calculate the total count of each type. Which type of coffee shop is most prevalent?"
   ]
  },
  {
   "cell_type": "code",
   "execution_count": 8,
   "id": "ed93b985",
   "metadata": {},
   "outputs": [
    {
     "data": {
      "text/html": [
       "<div>\n",
       "<style scoped>\n",
       "    .dataframe tbody tr th:only-of-type {\n",
       "        vertical-align: middle;\n",
       "    }\n",
       "\n",
       "    .dataframe tbody tr th {\n",
       "        vertical-align: top;\n",
       "    }\n",
       "\n",
       "    .dataframe thead th {\n",
       "        text-align: right;\n",
       "    }\n",
       "</style>\n",
       "<table border=\"1\" class=\"dataframe\">\n",
       "  <thead>\n",
       "    <tr style=\"text-align: right;\">\n",
       "      <th></th>\n",
       "      <th>Shop_Name</th>\n",
       "    </tr>\n",
       "    <tr>\n",
       "      <th>Type</th>\n",
       "      <th></th>\n",
       "    </tr>\n",
       "  </thead>\n",
       "  <tbody>\n",
       "    <tr>\n",
       "      <th>Chain</th>\n",
       "      <td>7</td>\n",
       "    </tr>\n",
       "    <tr>\n",
       "      <th>Independent</th>\n",
       "      <td>3</td>\n",
       "    </tr>\n",
       "  </tbody>\n",
       "</table>\n",
       "</div>"
      ],
      "text/plain": [
       "             Shop_Name\n",
       "Type                  \n",
       "Chain                7\n",
       "Independent          3"
      ]
     },
     "execution_count": 8,
     "metadata": {},
     "output_type": "execute_result"
    }
   ],
   "source": [
    "coffee_shops.groupby('Type').agg({'Shop_Name':'count'})"
   ]
  },
  {
   "cell_type": "code",
   "execution_count": 9,
   "id": "31273c41",
   "metadata": {},
   "outputs": [
    {
     "data": {
      "text/plain": [
       "Shop_Name    7\n",
       "Name: Chain, dtype: int64"
      ]
     },
     "execution_count": 9,
     "metadata": {},
     "output_type": "execute_result"
    }
   ],
   "source": [
    "coffee_shops.groupby('Type').agg({'Shop_Name':'count'}).sort_values('Shop_Name').iloc[-1]"
   ]
  },
  {
   "cell_type": "markdown",
   "id": "f78e5372",
   "metadata": {},
   "source": [
    "#### 3) Group the data by both Location and Type. What's the maximum rating a 'Chain' coffee shop received in 'Hollywood'?"
   ]
  },
  {
   "cell_type": "code",
   "execution_count": 10,
   "id": "53e95b40",
   "metadata": {},
   "outputs": [],
   "source": [
    "ratings_loc_type = coffee_shops.groupby(['Location', 'Type']).agg({'Rating':'max'})"
   ]
  },
  {
   "cell_type": "code",
   "execution_count": 11,
   "id": "ca680d07",
   "metadata": {},
   "outputs": [
    {
     "data": {
      "text/html": [
       "<div>\n",
       "<style scoped>\n",
       "    .dataframe tbody tr th:only-of-type {\n",
       "        vertical-align: middle;\n",
       "    }\n",
       "\n",
       "    .dataframe tbody tr th {\n",
       "        vertical-align: top;\n",
       "    }\n",
       "\n",
       "    .dataframe thead th {\n",
       "        text-align: right;\n",
       "    }\n",
       "</style>\n",
       "<table border=\"1\" class=\"dataframe\">\n",
       "  <thead>\n",
       "    <tr style=\"text-align: right;\">\n",
       "      <th></th>\n",
       "      <th></th>\n",
       "      <th>Rating</th>\n",
       "    </tr>\n",
       "    <tr>\n",
       "      <th>Location</th>\n",
       "      <th>Type</th>\n",
       "      <th></th>\n",
       "    </tr>\n",
       "  </thead>\n",
       "  <tbody>\n",
       "    <tr>\n",
       "      <th rowspan=\"2\" valign=\"top\">Hollywood</th>\n",
       "      <th>Chain</th>\n",
       "      <td>4.5</td>\n",
       "    </tr>\n",
       "    <tr>\n",
       "      <th>Independent</th>\n",
       "      <td>4.6</td>\n",
       "    </tr>\n",
       "    <tr>\n",
       "      <th rowspan=\"2\" valign=\"top\">New York</th>\n",
       "      <th>Chain</th>\n",
       "      <td>4.5</td>\n",
       "    </tr>\n",
       "    <tr>\n",
       "      <th>Independent</th>\n",
       "      <td>4.8</td>\n",
       "    </tr>\n",
       "    <tr>\n",
       "      <th rowspan=\"2\" valign=\"top\">San Diego</th>\n",
       "      <th>Chain</th>\n",
       "      <td>4.2</td>\n",
       "    </tr>\n",
       "    <tr>\n",
       "      <th>Independent</th>\n",
       "      <td>4.7</td>\n",
       "    </tr>\n",
       "  </tbody>\n",
       "</table>\n",
       "</div>"
      ],
      "text/plain": [
       "                       Rating\n",
       "Location  Type               \n",
       "Hollywood Chain           4.5\n",
       "          Independent     4.6\n",
       "New York  Chain           4.5\n",
       "          Independent     4.8\n",
       "San Diego Chain           4.2\n",
       "          Independent     4.7"
      ]
     },
     "execution_count": 11,
     "metadata": {},
     "output_type": "execute_result"
    }
   ],
   "source": [
    "ratings_loc_type"
   ]
  },
  {
   "cell_type": "code",
   "execution_count": 12,
   "id": "60e3c9ef",
   "metadata": {},
   "outputs": [
    {
     "data": {
      "text/plain": [
       "Rating    4.8\n",
       "Name: (New York, Independent), dtype: float64"
      ]
     },
     "execution_count": 12,
     "metadata": {},
     "output_type": "execute_result"
    }
   ],
   "source": [
    "ratings_loc_type.sort_values('Rating', ascending=False).iloc[0]"
   ]
  },
  {
   "cell_type": "markdown",
   "id": "094cb2fe",
   "metadata": {},
   "source": [
    "#### 4) By grouping based on the Shop_Name column, can you calculate the range (max-min) of Rating each shop received?"
   ]
  },
  {
   "cell_type": "code",
   "execution_count": 17,
   "id": "77af94c1",
   "metadata": {},
   "outputs": [
    {
     "data": {
      "text/html": [
       "<div>\n",
       "<style scoped>\n",
       "    .dataframe tbody tr th:only-of-type {\n",
       "        vertical-align: middle;\n",
       "    }\n",
       "\n",
       "    .dataframe tbody tr th {\n",
       "        vertical-align: top;\n",
       "    }\n",
       "\n",
       "    .dataframe thead th {\n",
       "        text-align: right;\n",
       "    }\n",
       "</style>\n",
       "<table border=\"1\" class=\"dataframe\">\n",
       "  <thead>\n",
       "    <tr style=\"text-align: right;\">\n",
       "      <th></th>\n",
       "      <th>Shop_Name</th>\n",
       "      <th>Rating</th>\n",
       "    </tr>\n",
       "  </thead>\n",
       "  <tbody>\n",
       "    <tr>\n",
       "      <th>1</th>\n",
       "      <td>Blue Bottle</td>\n",
       "      <td>4.7</td>\n",
       "    </tr>\n",
       "    <tr>\n",
       "      <th>6</th>\n",
       "      <td>Blue Bottle</td>\n",
       "      <td>4.6</td>\n",
       "    </tr>\n",
       "    <tr>\n",
       "      <th>2</th>\n",
       "      <td>Dunkin</td>\n",
       "      <td>4.1</td>\n",
       "    </tr>\n",
       "    <tr>\n",
       "      <th>9</th>\n",
       "      <td>Dunkin</td>\n",
       "      <td>3.9</td>\n",
       "    </tr>\n",
       "    <tr>\n",
       "      <th>5</th>\n",
       "      <td>La Colombe</td>\n",
       "      <td>4.8</td>\n",
       "    </tr>\n",
       "    <tr>\n",
       "      <th>3</th>\n",
       "      <td>Peets</td>\n",
       "      <td>4.3</td>\n",
       "    </tr>\n",
       "    <tr>\n",
       "      <th>7</th>\n",
       "      <td>Peets</td>\n",
       "      <td>4.2</td>\n",
       "    </tr>\n",
       "    <tr>\n",
       "      <th>0</th>\n",
       "      <td>Starbucks</td>\n",
       "      <td>4.5</td>\n",
       "    </tr>\n",
       "    <tr>\n",
       "      <th>4</th>\n",
       "      <td>Starbucks</td>\n",
       "      <td>4.5</td>\n",
       "    </tr>\n",
       "    <tr>\n",
       "      <th>8</th>\n",
       "      <td>Starbucks</td>\n",
       "      <td>4.4</td>\n",
       "    </tr>\n",
       "  </tbody>\n",
       "</table>\n",
       "</div>"
      ],
      "text/plain": [
       "     Shop_Name  Rating\n",
       "1  Blue Bottle     4.7\n",
       "6  Blue Bottle     4.6\n",
       "2       Dunkin     4.1\n",
       "9       Dunkin     3.9\n",
       "5   La Colombe     4.8\n",
       "3        Peets     4.3\n",
       "7        Peets     4.2\n",
       "0    Starbucks     4.5\n",
       "4    Starbucks     4.5\n",
       "8    Starbucks     4.4"
      ]
     },
     "execution_count": 17,
     "metadata": {},
     "output_type": "execute_result"
    }
   ],
   "source": [
    "coffee_shops.loc[:, ['Shop_Name', 'Rating']].sort_values('Shop_Name')"
   ]
  },
  {
   "cell_type": "code",
   "execution_count": 14,
   "id": "3332bf03",
   "metadata": {},
   "outputs": [
    {
     "data": {
      "text/html": [
       "<div>\n",
       "<style scoped>\n",
       "    .dataframe tbody tr th:only-of-type {\n",
       "        vertical-align: middle;\n",
       "    }\n",
       "\n",
       "    .dataframe tbody tr th {\n",
       "        vertical-align: top;\n",
       "    }\n",
       "\n",
       "    .dataframe thead th {\n",
       "        text-align: right;\n",
       "    }\n",
       "</style>\n",
       "<table border=\"1\" class=\"dataframe\">\n",
       "  <thead>\n",
       "    <tr style=\"text-align: right;\">\n",
       "      <th></th>\n",
       "      <th>Rating</th>\n",
       "    </tr>\n",
       "    <tr>\n",
       "      <th>Shop_Name</th>\n",
       "      <th></th>\n",
       "    </tr>\n",
       "  </thead>\n",
       "  <tbody>\n",
       "    <tr>\n",
       "      <th>Blue Bottle</th>\n",
       "      <td>0.1</td>\n",
       "    </tr>\n",
       "    <tr>\n",
       "      <th>Dunkin</th>\n",
       "      <td>0.2</td>\n",
       "    </tr>\n",
       "    <tr>\n",
       "      <th>La Colombe</th>\n",
       "      <td>0.0</td>\n",
       "    </tr>\n",
       "    <tr>\n",
       "      <th>Peets</th>\n",
       "      <td>0.1</td>\n",
       "    </tr>\n",
       "    <tr>\n",
       "      <th>Starbucks</th>\n",
       "      <td>0.1</td>\n",
       "    </tr>\n",
       "  </tbody>\n",
       "</table>\n",
       "</div>"
      ],
      "text/plain": [
       "             Rating\n",
       "Shop_Name          \n",
       "Blue Bottle     0.1\n",
       "Dunkin          0.2\n",
       "La Colombe      0.0\n",
       "Peets           0.1\n",
       "Starbucks       0.1"
      ]
     },
     "execution_count": 14,
     "metadata": {},
     "output_type": "execute_result"
    }
   ],
   "source": [
    "coffee_shops.groupby('Shop_Name').agg({'Rating': lambda x : x.astype(float).max() - x.astype(float).min()})"
   ]
  },
  {
   "cell_type": "markdown",
   "id": "35a48a35",
   "metadata": {},
   "source": [
    "#### 5) Group by the Location and find the shop with the highest rating in each location."
   ]
  },
  {
   "cell_type": "code",
   "execution_count": 22,
   "id": "f40116d6",
   "metadata": {},
   "outputs": [
    {
     "data": {
      "text/plain": [
       "Location\n",
       "Hollywood    Starbucks\n",
       "New York     Starbucks\n",
       "San Diego        Peets\n",
       "Name: Shop_Name, dtype: object"
      ]
     },
     "execution_count": 22,
     "metadata": {},
     "output_type": "execute_result"
    }
   ],
   "source": [
    "coffee_shops.groupby('Location').max().loc[:, 'Shop_Name']"
   ]
  },
  {
   "cell_type": "markdown",
   "id": "bebc971d",
   "metadata": {},
   "source": [
    "#### 6) Calculate the median rating for each Shop_Name by grouping based on the shop name. Which shop has the median rating of 4.5?"
   ]
  },
  {
   "cell_type": "code",
   "execution_count": null,
   "id": "5f3fd299",
   "metadata": {},
   "outputs": [],
   "source": []
  },
  {
   "cell_type": "markdown",
   "id": "211d9c41",
   "metadata": {},
   "source": [
    "#### 7) Group by Type and find the standard deviation of Rating for both 'Independent' and 'Chain' shops. Which type has a more consistent rating?"
   ]
  },
  {
   "cell_type": "code",
   "execution_count": null,
   "id": "9f528b91",
   "metadata": {},
   "outputs": [],
   "source": []
  },
  {
   "cell_type": "code",
   "execution_count": null,
   "id": "e6cdd686",
   "metadata": {},
   "outputs": [],
   "source": []
  },
  {
   "cell_type": "markdown",
   "id": "b15ad9fb",
   "metadata": {},
   "source": [
    "#### 8) After grouping by Location, find the total number of reviews each location received (assuming each row is a unique review)."
   ]
  },
  {
   "cell_type": "code",
   "execution_count": null,
   "id": "955d1f98",
   "metadata": {},
   "outputs": [],
   "source": []
  },
  {
   "cell_type": "markdown",
   "id": "705db829",
   "metadata": {},
   "source": [
    "#### 9) Group by both Location and Type and calculate the sum of the Rating. Which combination of location and type has the highest total rating?"
   ]
  },
  {
   "cell_type": "code",
   "execution_count": null,
   "id": "081dcd36",
   "metadata": {},
   "outputs": [],
   "source": []
  },
  {
   "cell_type": "markdown",
   "id": "031fecbd",
   "metadata": {},
   "source": [
    "#### 10) Group by Location and find out the 25th percentile of the Rating for each location."
   ]
  },
  {
   "cell_type": "code",
   "execution_count": null,
   "id": "b24b5c0a",
   "metadata": {},
   "outputs": [],
   "source": []
  }
 ],
 "metadata": {
  "kernelspec": {
   "display_name": "Python 3 (ipykernel)",
   "language": "python",
   "name": "python3"
  },
  "language_info": {
   "codemirror_mode": {
    "name": "ipython",
    "version": 3
   },
   "file_extension": ".py",
   "mimetype": "text/x-python",
   "name": "python",
   "nbconvert_exporter": "python",
   "pygments_lexer": "ipython3",
   "version": "3.10.9"
  }
 },
 "nbformat": 4,
 "nbformat_minor": 5
}

{
 "cells": [
  {
   "cell_type": "code",
   "execution_count": 1,
   "id": "939845b1",
   "metadata": {},
   "outputs": [],
   "source": [
    "import pandas as pd\n"
   ]
  },
  {
   "cell_type": "code",
   "execution_count": 2,
   "id": "33d06c27",
   "metadata": {},
   "outputs": [],
   "source": [
    "data = {\n",
    "    'Product_ID': [1, 2, 3, 4, 5, 6, 1, 2, 3, 4],\n",
    "    'Product_Name': ['Toothpaste', 'Shampoo', 'Laptop', 'TV', 'Coffee Maker', 'Blender', 'Toothpaste', 'Shampoo', 'Laptop', 'TV'],\n",
    "    'Category': ['Personal Care', 'Personal Care', 'Electronics', 'Electronics', 'Kitchen Appliances', 'Kitchen Appliances', 'Personal Care', 'Personal Care', 'Electronics', 'Electronics'],\n",
    "    'Price': [5.0, 10.0, 1000.0, 600.0, 50.0, 30.0, 5.0, 10.0, 1000.0, 600.0],\n",
    "    'Units_Sold': [100, 50, 20, 15, 30, 25, 110, 55, 22, 17]\n",
    "}\n"
   ]
  },
  {
   "cell_type": "code",
   "execution_count": 3,
   "id": "2ca87da9",
   "metadata": {},
   "outputs": [],
   "source": [
    "df = pd.DataFrame(data)"
   ]
  },
  {
   "cell_type": "code",
   "execution_count": 4,
   "id": "7cd7e6b4",
   "metadata": {},
   "outputs": [
    {
     "data": {
      "text/html": [
       "<div>\n",
       "<style scoped>\n",
       "    .dataframe tbody tr th:only-of-type {\n",
       "        vertical-align: middle;\n",
       "    }\n",
       "\n",
       "    .dataframe tbody tr th {\n",
       "        vertical-align: top;\n",
       "    }\n",
       "\n",
       "    .dataframe thead th {\n",
       "        text-align: right;\n",
       "    }\n",
       "</style>\n",
       "<table border=\"1\" class=\"dataframe\">\n",
       "  <thead>\n",
       "    <tr style=\"text-align: right;\">\n",
       "      <th></th>\n",
       "      <th>Product_ID</th>\n",
       "      <th>Product_Name</th>\n",
       "      <th>Category</th>\n",
       "      <th>Price</th>\n",
       "      <th>Units_Sold</th>\n",
       "    </tr>\n",
       "  </thead>\n",
       "  <tbody>\n",
       "    <tr>\n",
       "      <th>0</th>\n",
       "      <td>1</td>\n",
       "      <td>Toothpaste</td>\n",
       "      <td>Personal Care</td>\n",
       "      <td>5.0</td>\n",
       "      <td>100</td>\n",
       "    </tr>\n",
       "    <tr>\n",
       "      <th>1</th>\n",
       "      <td>2</td>\n",
       "      <td>Shampoo</td>\n",
       "      <td>Personal Care</td>\n",
       "      <td>10.0</td>\n",
       "      <td>50</td>\n",
       "    </tr>\n",
       "    <tr>\n",
       "      <th>2</th>\n",
       "      <td>3</td>\n",
       "      <td>Laptop</td>\n",
       "      <td>Electronics</td>\n",
       "      <td>1000.0</td>\n",
       "      <td>20</td>\n",
       "    </tr>\n",
       "    <tr>\n",
       "      <th>3</th>\n",
       "      <td>4</td>\n",
       "      <td>TV</td>\n",
       "      <td>Electronics</td>\n",
       "      <td>600.0</td>\n",
       "      <td>15</td>\n",
       "    </tr>\n",
       "    <tr>\n",
       "      <th>4</th>\n",
       "      <td>5</td>\n",
       "      <td>Coffee Maker</td>\n",
       "      <td>Kitchen Appliances</td>\n",
       "      <td>50.0</td>\n",
       "      <td>30</td>\n",
       "    </tr>\n",
       "    <tr>\n",
       "      <th>5</th>\n",
       "      <td>6</td>\n",
       "      <td>Blender</td>\n",
       "      <td>Kitchen Appliances</td>\n",
       "      <td>30.0</td>\n",
       "      <td>25</td>\n",
       "    </tr>\n",
       "    <tr>\n",
       "      <th>6</th>\n",
       "      <td>1</td>\n",
       "      <td>Toothpaste</td>\n",
       "      <td>Personal Care</td>\n",
       "      <td>5.0</td>\n",
       "      <td>110</td>\n",
       "    </tr>\n",
       "    <tr>\n",
       "      <th>7</th>\n",
       "      <td>2</td>\n",
       "      <td>Shampoo</td>\n",
       "      <td>Personal Care</td>\n",
       "      <td>10.0</td>\n",
       "      <td>55</td>\n",
       "    </tr>\n",
       "    <tr>\n",
       "      <th>8</th>\n",
       "      <td>3</td>\n",
       "      <td>Laptop</td>\n",
       "      <td>Electronics</td>\n",
       "      <td>1000.0</td>\n",
       "      <td>22</td>\n",
       "    </tr>\n",
       "    <tr>\n",
       "      <th>9</th>\n",
       "      <td>4</td>\n",
       "      <td>TV</td>\n",
       "      <td>Electronics</td>\n",
       "      <td>600.0</td>\n",
       "      <td>17</td>\n",
       "    </tr>\n",
       "  </tbody>\n",
       "</table>\n",
       "</div>"
      ],
      "text/plain": [
       "   Product_ID  Product_Name            Category   Price  Units_Sold\n",
       "0           1    Toothpaste       Personal Care     5.0         100\n",
       "1           2       Shampoo       Personal Care    10.0          50\n",
       "2           3        Laptop         Electronics  1000.0          20\n",
       "3           4            TV         Electronics   600.0          15\n",
       "4           5  Coffee Maker  Kitchen Appliances    50.0          30\n",
       "5           6       Blender  Kitchen Appliances    30.0          25\n",
       "6           1    Toothpaste       Personal Care     5.0         110\n",
       "7           2       Shampoo       Personal Care    10.0          55\n",
       "8           3        Laptop         Electronics  1000.0          22\n",
       "9           4            TV         Electronics   600.0          17"
      ]
     },
     "execution_count": 4,
     "metadata": {},
     "output_type": "execute_result"
    }
   ],
   "source": [
    "df"
   ]
  },
  {
   "cell_type": "markdown",
   "id": "0f5dae7b",
   "metadata": {},
   "source": [
    "### UNIQUE"
   ]
  },
  {
   "cell_type": "markdown",
   "id": "dca2471d",
   "metadata": {},
   "source": [
    "#### How many unique Product_IDs are there in the DataFrame?"
   ]
  },
  {
   "cell_type": "code",
   "execution_count": 5,
   "id": "ea06c3e3",
   "metadata": {},
   "outputs": [
    {
     "data": {
      "text/plain": [
       "6"
      ]
     },
     "execution_count": 5,
     "metadata": {},
     "output_type": "execute_result"
    }
   ],
   "source": [
    "len(pd.unique(df.loc[:, 'Product_ID']))"
   ]
  },
  {
   "cell_type": "markdown",
   "id": "30d47368",
   "metadata": {},
   "source": [
    "#### What are the unique product categories available in the DataFrame?"
   ]
  },
  {
   "cell_type": "code",
   "execution_count": 6,
   "id": "9cf08fb7",
   "metadata": {},
   "outputs": [
    {
     "data": {
      "text/plain": [
       "0         Personal Care\n",
       "1         Personal Care\n",
       "2           Electronics\n",
       "3           Electronics\n",
       "4    Kitchen Appliances\n",
       "5    Kitchen Appliances\n",
       "6         Personal Care\n",
       "7         Personal Care\n",
       "8           Electronics\n",
       "9           Electronics\n",
       "Name: Category, dtype: object"
      ]
     },
     "execution_count": 6,
     "metadata": {},
     "output_type": "execute_result"
    }
   ],
   "source": [
    "df.loc[:, 'Category']"
   ]
  },
  {
   "cell_type": "code",
   "execution_count": 7,
   "id": "9885a8ac",
   "metadata": {},
   "outputs": [
    {
     "data": {
      "text/plain": [
       "['Personal Care', 'Electronics', 'Kitchen Appliances']"
      ]
     },
     "execution_count": 7,
     "metadata": {},
     "output_type": "execute_result"
    }
   ],
   "source": [
    "list(pd.unique(df.loc[:, 'Category']))"
   ]
  },
  {
   "cell_type": "markdown",
   "id": "52ccccc3",
   "metadata": {},
   "source": [
    "#### How many different price points are in the DataFrame?"
   ]
  },
  {
   "cell_type": "code",
   "execution_count": 8,
   "id": "dffe71e8",
   "metadata": {},
   "outputs": [
    {
     "data": {
      "text/plain": [
       "6"
      ]
     },
     "execution_count": 8,
     "metadata": {},
     "output_type": "execute_result"
    }
   ],
   "source": [
    "len(pd.unique(df.loc[:, 'Price']))"
   ]
  },
  {
   "cell_type": "markdown",
   "id": "d669e5c1",
   "metadata": {},
   "source": [
    "#### Are there any products that were sold in different units (check for unique 'Units_Sold')?"
   ]
  },
  {
   "cell_type": "code",
   "execution_count": 9,
   "id": "43e8881f",
   "metadata": {},
   "outputs": [
    {
     "data": {
      "text/plain": [
       "False"
      ]
     },
     "execution_count": 9,
     "metadata": {},
     "output_type": "execute_result"
    }
   ],
   "source": [
    "len(pd.unique(df.loc[:, 'Units_Sold'])) < len(df.loc[:, 'Units_Sold'].index)"
   ]
  },
  {
   "cell_type": "markdown",
   "id": "59ed4586",
   "metadata": {},
   "source": [
    "#### How many unique combinations of 'Product_ID' and 'Price' are there?"
   ]
  },
  {
   "cell_type": "code",
   "execution_count": 10,
   "id": "e53c0763",
   "metadata": {},
   "outputs": [],
   "source": [
    "#\n",
    "# pd.unique can be applied to only single dimension,\n",
    "# we can convert the dataframe of two columns to a series of tuples\n",
    "# Then we can applu unique to the unique pair\n"
   ]
  },
  {
   "cell_type": "code",
   "execution_count": 11,
   "id": "8c600a92",
   "metadata": {},
   "outputs": [],
   "source": [
    "prod_price_pair = df.loc[:, ['Product_ID', 'Price']]"
   ]
  },
  {
   "cell_type": "code",
   "execution_count": 12,
   "id": "50eab32c",
   "metadata": {},
   "outputs": [
    {
     "data": {
      "text/html": [
       "<div>\n",
       "<style scoped>\n",
       "    .dataframe tbody tr th:only-of-type {\n",
       "        vertical-align: middle;\n",
       "    }\n",
       "\n",
       "    .dataframe tbody tr th {\n",
       "        vertical-align: top;\n",
       "    }\n",
       "\n",
       "    .dataframe thead th {\n",
       "        text-align: right;\n",
       "    }\n",
       "</style>\n",
       "<table border=\"1\" class=\"dataframe\">\n",
       "  <thead>\n",
       "    <tr style=\"text-align: right;\">\n",
       "      <th></th>\n",
       "      <th>Product_ID</th>\n",
       "      <th>Price</th>\n",
       "    </tr>\n",
       "  </thead>\n",
       "  <tbody>\n",
       "    <tr>\n",
       "      <th>0</th>\n",
       "      <td>1</td>\n",
       "      <td>5.0</td>\n",
       "    </tr>\n",
       "    <tr>\n",
       "      <th>1</th>\n",
       "      <td>2</td>\n",
       "      <td>10.0</td>\n",
       "    </tr>\n",
       "    <tr>\n",
       "      <th>2</th>\n",
       "      <td>3</td>\n",
       "      <td>1000.0</td>\n",
       "    </tr>\n",
       "    <tr>\n",
       "      <th>3</th>\n",
       "      <td>4</td>\n",
       "      <td>600.0</td>\n",
       "    </tr>\n",
       "    <tr>\n",
       "      <th>4</th>\n",
       "      <td>5</td>\n",
       "      <td>50.0</td>\n",
       "    </tr>\n",
       "    <tr>\n",
       "      <th>5</th>\n",
       "      <td>6</td>\n",
       "      <td>30.0</td>\n",
       "    </tr>\n",
       "    <tr>\n",
       "      <th>6</th>\n",
       "      <td>1</td>\n",
       "      <td>5.0</td>\n",
       "    </tr>\n",
       "    <tr>\n",
       "      <th>7</th>\n",
       "      <td>2</td>\n",
       "      <td>10.0</td>\n",
       "    </tr>\n",
       "    <tr>\n",
       "      <th>8</th>\n",
       "      <td>3</td>\n",
       "      <td>1000.0</td>\n",
       "    </tr>\n",
       "    <tr>\n",
       "      <th>9</th>\n",
       "      <td>4</td>\n",
       "      <td>600.0</td>\n",
       "    </tr>\n",
       "  </tbody>\n",
       "</table>\n",
       "</div>"
      ],
      "text/plain": [
       "   Product_ID   Price\n",
       "0           1     5.0\n",
       "1           2    10.0\n",
       "2           3  1000.0\n",
       "3           4   600.0\n",
       "4           5    50.0\n",
       "5           6    30.0\n",
       "6           1     5.0\n",
       "7           2    10.0\n",
       "8           3  1000.0\n",
       "9           4   600.0"
      ]
     },
     "execution_count": 12,
     "metadata": {},
     "output_type": "execute_result"
    }
   ],
   "source": [
    "prod_price_pair"
   ]
  },
  {
   "cell_type": "code",
   "execution_count": 13,
   "id": "f7c01d02",
   "metadata": {},
   "outputs": [],
   "source": [
    "def get_pair(row):\n",
    "    return (row['Product_ID'], row['Price'])"
   ]
  },
  {
   "cell_type": "code",
   "execution_count": 14,
   "id": "df07e7d0",
   "metadata": {},
   "outputs": [],
   "source": [
    "prod_price_pair_series = prod_price_pair.apply(get_pair, axis=1)"
   ]
  },
  {
   "cell_type": "code",
   "execution_count": 15,
   "id": "342bce7f",
   "metadata": {},
   "outputs": [
    {
     "data": {
      "text/plain": [
       "0       (1.0, 5.0)\n",
       "1      (2.0, 10.0)\n",
       "2    (3.0, 1000.0)\n",
       "3     (4.0, 600.0)\n",
       "4      (5.0, 50.0)\n",
       "5      (6.0, 30.0)\n",
       "6       (1.0, 5.0)\n",
       "7      (2.0, 10.0)\n",
       "8    (3.0, 1000.0)\n",
       "9     (4.0, 600.0)\n",
       "dtype: object"
      ]
     },
     "execution_count": 15,
     "metadata": {},
     "output_type": "execute_result"
    }
   ],
   "source": [
    "prod_price_pair_series"
   ]
  },
  {
   "cell_type": "code",
   "execution_count": 16,
   "id": "d2841b02",
   "metadata": {},
   "outputs": [],
   "source": [
    "unique_pairs = pd.unique(prod_price_pair_series)"
   ]
  },
  {
   "cell_type": "code",
   "execution_count": 17,
   "id": "85b62b24",
   "metadata": {},
   "outputs": [
    {
     "data": {
      "text/plain": [
       "array([(1.0, 5.0), (2.0, 10.0), (3.0, 1000.0), (4.0, 600.0), (5.0, 50.0),\n",
       "       (6.0, 30.0)], dtype=object)"
      ]
     },
     "execution_count": 17,
     "metadata": {},
     "output_type": "execute_result"
    }
   ],
   "source": [
    "unique_pairs"
   ]
  },
  {
   "cell_type": "code",
   "execution_count": 18,
   "id": "f7fea5d7",
   "metadata": {},
   "outputs": [],
   "source": [
    "# convert back to data frame"
   ]
  },
  {
   "cell_type": "code",
   "execution_count": 19,
   "id": "32614440",
   "metadata": {},
   "outputs": [
    {
     "data": {
      "text/html": [
       "<div>\n",
       "<style scoped>\n",
       "    .dataframe tbody tr th:only-of-type {\n",
       "        vertical-align: middle;\n",
       "    }\n",
       "\n",
       "    .dataframe tbody tr th {\n",
       "        vertical-align: top;\n",
       "    }\n",
       "\n",
       "    .dataframe thead th {\n",
       "        text-align: right;\n",
       "    }\n",
       "</style>\n",
       "<table border=\"1\" class=\"dataframe\">\n",
       "  <thead>\n",
       "    <tr style=\"text-align: right;\">\n",
       "      <th></th>\n",
       "      <th>Product_ID</th>\n",
       "      <th>Price</th>\n",
       "    </tr>\n",
       "  </thead>\n",
       "  <tbody>\n",
       "    <tr>\n",
       "      <th>0</th>\n",
       "      <td>1.0</td>\n",
       "      <td>5.0</td>\n",
       "    </tr>\n",
       "    <tr>\n",
       "      <th>1</th>\n",
       "      <td>2.0</td>\n",
       "      <td>10.0</td>\n",
       "    </tr>\n",
       "    <tr>\n",
       "      <th>2</th>\n",
       "      <td>3.0</td>\n",
       "      <td>1000.0</td>\n",
       "    </tr>\n",
       "    <tr>\n",
       "      <th>3</th>\n",
       "      <td>4.0</td>\n",
       "      <td>600.0</td>\n",
       "    </tr>\n",
       "    <tr>\n",
       "      <th>4</th>\n",
       "      <td>5.0</td>\n",
       "      <td>50.0</td>\n",
       "    </tr>\n",
       "    <tr>\n",
       "      <th>5</th>\n",
       "      <td>6.0</td>\n",
       "      <td>30.0</td>\n",
       "    </tr>\n",
       "  </tbody>\n",
       "</table>\n",
       "</div>"
      ],
      "text/plain": [
       "   Product_ID   Price\n",
       "0         1.0     5.0\n",
       "1         2.0    10.0\n",
       "2         3.0  1000.0\n",
       "3         4.0   600.0\n",
       "4         5.0    50.0\n",
       "5         6.0    30.0"
      ]
     },
     "execution_count": 19,
     "metadata": {},
     "output_type": "execute_result"
    }
   ],
   "source": [
    "pd.DataFrame(list(unique_pairs), columns=['Product_ID', 'Price'])"
   ]
  },
  {
   "cell_type": "markdown",
   "id": "b36863e2",
   "metadata": {},
   "source": [
    "#### Are all 'Units_Sold' for 'Toothpaste' the same or are there unique values?"
   ]
  },
  {
   "cell_type": "code",
   "execution_count": 20,
   "id": "67b36079",
   "metadata": {},
   "outputs": [
    {
     "data": {
      "text/html": [
       "<div>\n",
       "<style scoped>\n",
       "    .dataframe tbody tr th:only-of-type {\n",
       "        vertical-align: middle;\n",
       "    }\n",
       "\n",
       "    .dataframe tbody tr th {\n",
       "        vertical-align: top;\n",
       "    }\n",
       "\n",
       "    .dataframe thead th {\n",
       "        text-align: right;\n",
       "    }\n",
       "</style>\n",
       "<table border=\"1\" class=\"dataframe\">\n",
       "  <thead>\n",
       "    <tr style=\"text-align: right;\">\n",
       "      <th></th>\n",
       "      <th>Product_ID</th>\n",
       "      <th>Product_Name</th>\n",
       "      <th>Category</th>\n",
       "      <th>Price</th>\n",
       "      <th>Units_Sold</th>\n",
       "    </tr>\n",
       "  </thead>\n",
       "  <tbody>\n",
       "    <tr>\n",
       "      <th>0</th>\n",
       "      <td>1</td>\n",
       "      <td>Toothpaste</td>\n",
       "      <td>Personal Care</td>\n",
       "      <td>5.0</td>\n",
       "      <td>100</td>\n",
       "    </tr>\n",
       "    <tr>\n",
       "      <th>1</th>\n",
       "      <td>2</td>\n",
       "      <td>Shampoo</td>\n",
       "      <td>Personal Care</td>\n",
       "      <td>10.0</td>\n",
       "      <td>50</td>\n",
       "    </tr>\n",
       "    <tr>\n",
       "      <th>2</th>\n",
       "      <td>3</td>\n",
       "      <td>Laptop</td>\n",
       "      <td>Electronics</td>\n",
       "      <td>1000.0</td>\n",
       "      <td>20</td>\n",
       "    </tr>\n",
       "    <tr>\n",
       "      <th>3</th>\n",
       "      <td>4</td>\n",
       "      <td>TV</td>\n",
       "      <td>Electronics</td>\n",
       "      <td>600.0</td>\n",
       "      <td>15</td>\n",
       "    </tr>\n",
       "    <tr>\n",
       "      <th>4</th>\n",
       "      <td>5</td>\n",
       "      <td>Coffee Maker</td>\n",
       "      <td>Kitchen Appliances</td>\n",
       "      <td>50.0</td>\n",
       "      <td>30</td>\n",
       "    </tr>\n",
       "    <tr>\n",
       "      <th>5</th>\n",
       "      <td>6</td>\n",
       "      <td>Blender</td>\n",
       "      <td>Kitchen Appliances</td>\n",
       "      <td>30.0</td>\n",
       "      <td>25</td>\n",
       "    </tr>\n",
       "    <tr>\n",
       "      <th>6</th>\n",
       "      <td>1</td>\n",
       "      <td>Toothpaste</td>\n",
       "      <td>Personal Care</td>\n",
       "      <td>5.0</td>\n",
       "      <td>110</td>\n",
       "    </tr>\n",
       "    <tr>\n",
       "      <th>7</th>\n",
       "      <td>2</td>\n",
       "      <td>Shampoo</td>\n",
       "      <td>Personal Care</td>\n",
       "      <td>10.0</td>\n",
       "      <td>55</td>\n",
       "    </tr>\n",
       "    <tr>\n",
       "      <th>8</th>\n",
       "      <td>3</td>\n",
       "      <td>Laptop</td>\n",
       "      <td>Electronics</td>\n",
       "      <td>1000.0</td>\n",
       "      <td>22</td>\n",
       "    </tr>\n",
       "    <tr>\n",
       "      <th>9</th>\n",
       "      <td>4</td>\n",
       "      <td>TV</td>\n",
       "      <td>Electronics</td>\n",
       "      <td>600.0</td>\n",
       "      <td>17</td>\n",
       "    </tr>\n",
       "  </tbody>\n",
       "</table>\n",
       "</div>"
      ],
      "text/plain": [
       "   Product_ID  Product_Name            Category   Price  Units_Sold\n",
       "0           1    Toothpaste       Personal Care     5.0         100\n",
       "1           2       Shampoo       Personal Care    10.0          50\n",
       "2           3        Laptop         Electronics  1000.0          20\n",
       "3           4            TV         Electronics   600.0          15\n",
       "4           5  Coffee Maker  Kitchen Appliances    50.0          30\n",
       "5           6       Blender  Kitchen Appliances    30.0          25\n",
       "6           1    Toothpaste       Personal Care     5.0         110\n",
       "7           2       Shampoo       Personal Care    10.0          55\n",
       "8           3        Laptop         Electronics  1000.0          22\n",
       "9           4            TV         Electronics   600.0          17"
      ]
     },
     "execution_count": 20,
     "metadata": {},
     "output_type": "execute_result"
    }
   ],
   "source": [
    "df"
   ]
  },
  {
   "cell_type": "code",
   "execution_count": 21,
   "id": "40ed9705",
   "metadata": {},
   "outputs": [],
   "source": [
    "toothpaste_sold = df.loc[df['Product_Name'] == 'Toothpaste', 'Units_Sold']"
   ]
  },
  {
   "cell_type": "code",
   "execution_count": 22,
   "id": "500fce43",
   "metadata": {},
   "outputs": [
    {
     "data": {
      "text/plain": [
       "0    100\n",
       "6    110\n",
       "Name: Units_Sold, dtype: int64"
      ]
     },
     "execution_count": 22,
     "metadata": {},
     "output_type": "execute_result"
    }
   ],
   "source": [
    "toothpaste_sold"
   ]
  },
  {
   "cell_type": "code",
   "execution_count": 23,
   "id": "f2e4a9db",
   "metadata": {},
   "outputs": [
    {
     "name": "stdout",
     "output_type": "stream",
     "text": [
      "Unique values\n"
     ]
    }
   ],
   "source": [
    "if len(pd.unique(toothpaste_sold)) == len(toothpaste_sold):\n",
    "    print('Unique values')"
   ]
  },
  {
   "cell_type": "markdown",
   "id": "129fccfa",
   "metadata": {},
   "source": [
    "### N_UNIQUE"
   ]
  },
  {
   "cell_type": "markdown",
   "id": "125911e3",
   "metadata": {},
   "source": [
    "#### How many unique categories of products does the Target store offer? Use nunique() to find out."
   ]
  },
  {
   "cell_type": "code",
   "execution_count": 24,
   "id": "51a892eb",
   "metadata": {},
   "outputs": [
    {
     "data": {
      "text/html": [
       "<div>\n",
       "<style scoped>\n",
       "    .dataframe tbody tr th:only-of-type {\n",
       "        vertical-align: middle;\n",
       "    }\n",
       "\n",
       "    .dataframe tbody tr th {\n",
       "        vertical-align: top;\n",
       "    }\n",
       "\n",
       "    .dataframe thead th {\n",
       "        text-align: right;\n",
       "    }\n",
       "</style>\n",
       "<table border=\"1\" class=\"dataframe\">\n",
       "  <thead>\n",
       "    <tr style=\"text-align: right;\">\n",
       "      <th></th>\n",
       "      <th>Product_ID</th>\n",
       "      <th>Product_Name</th>\n",
       "      <th>Category</th>\n",
       "      <th>Price</th>\n",
       "      <th>Units_Sold</th>\n",
       "    </tr>\n",
       "  </thead>\n",
       "  <tbody>\n",
       "    <tr>\n",
       "      <th>0</th>\n",
       "      <td>1</td>\n",
       "      <td>Toothpaste</td>\n",
       "      <td>Personal Care</td>\n",
       "      <td>5.0</td>\n",
       "      <td>100</td>\n",
       "    </tr>\n",
       "    <tr>\n",
       "      <th>1</th>\n",
       "      <td>2</td>\n",
       "      <td>Shampoo</td>\n",
       "      <td>Personal Care</td>\n",
       "      <td>10.0</td>\n",
       "      <td>50</td>\n",
       "    </tr>\n",
       "    <tr>\n",
       "      <th>2</th>\n",
       "      <td>3</td>\n",
       "      <td>Laptop</td>\n",
       "      <td>Electronics</td>\n",
       "      <td>1000.0</td>\n",
       "      <td>20</td>\n",
       "    </tr>\n",
       "    <tr>\n",
       "      <th>3</th>\n",
       "      <td>4</td>\n",
       "      <td>TV</td>\n",
       "      <td>Electronics</td>\n",
       "      <td>600.0</td>\n",
       "      <td>15</td>\n",
       "    </tr>\n",
       "    <tr>\n",
       "      <th>4</th>\n",
       "      <td>5</td>\n",
       "      <td>Coffee Maker</td>\n",
       "      <td>Kitchen Appliances</td>\n",
       "      <td>50.0</td>\n",
       "      <td>30</td>\n",
       "    </tr>\n",
       "    <tr>\n",
       "      <th>5</th>\n",
       "      <td>6</td>\n",
       "      <td>Blender</td>\n",
       "      <td>Kitchen Appliances</td>\n",
       "      <td>30.0</td>\n",
       "      <td>25</td>\n",
       "    </tr>\n",
       "    <tr>\n",
       "      <th>6</th>\n",
       "      <td>1</td>\n",
       "      <td>Toothpaste</td>\n",
       "      <td>Personal Care</td>\n",
       "      <td>5.0</td>\n",
       "      <td>110</td>\n",
       "    </tr>\n",
       "    <tr>\n",
       "      <th>7</th>\n",
       "      <td>2</td>\n",
       "      <td>Shampoo</td>\n",
       "      <td>Personal Care</td>\n",
       "      <td>10.0</td>\n",
       "      <td>55</td>\n",
       "    </tr>\n",
       "    <tr>\n",
       "      <th>8</th>\n",
       "      <td>3</td>\n",
       "      <td>Laptop</td>\n",
       "      <td>Electronics</td>\n",
       "      <td>1000.0</td>\n",
       "      <td>22</td>\n",
       "    </tr>\n",
       "    <tr>\n",
       "      <th>9</th>\n",
       "      <td>4</td>\n",
       "      <td>TV</td>\n",
       "      <td>Electronics</td>\n",
       "      <td>600.0</td>\n",
       "      <td>17</td>\n",
       "    </tr>\n",
       "  </tbody>\n",
       "</table>\n",
       "</div>"
      ],
      "text/plain": [
       "   Product_ID  Product_Name            Category   Price  Units_Sold\n",
       "0           1    Toothpaste       Personal Care     5.0         100\n",
       "1           2       Shampoo       Personal Care    10.0          50\n",
       "2           3        Laptop         Electronics  1000.0          20\n",
       "3           4            TV         Electronics   600.0          15\n",
       "4           5  Coffee Maker  Kitchen Appliances    50.0          30\n",
       "5           6       Blender  Kitchen Appliances    30.0          25\n",
       "6           1    Toothpaste       Personal Care     5.0         110\n",
       "7           2       Shampoo       Personal Care    10.0          55\n",
       "8           3        Laptop         Electronics  1000.0          22\n",
       "9           4            TV         Electronics   600.0          17"
      ]
     },
     "execution_count": 24,
     "metadata": {},
     "output_type": "execute_result"
    }
   ],
   "source": [
    "df"
   ]
  },
  {
   "cell_type": "code",
   "execution_count": 25,
   "id": "60ad1b18",
   "metadata": {},
   "outputs": [
    {
     "data": {
      "text/plain": [
       "Category    3\n",
       "dtype: int64"
      ]
     },
     "execution_count": 25,
     "metadata": {},
     "output_type": "execute_result"
    }
   ],
   "source": [
    "df.loc[:, ['Category']].nunique()"
   ]
  },
  {
   "cell_type": "markdown",
   "id": "c49f903d",
   "metadata": {},
   "source": [
    "#### How many different unique price points exist for 'Electronics' in the DataFrame? Use nunique() to get the answer."
   ]
  },
  {
   "cell_type": "code",
   "execution_count": 26,
   "id": "7e29d44d",
   "metadata": {},
   "outputs": [
    {
     "data": {
      "text/plain": [
       "Price    2\n",
       "dtype: int64"
      ]
     },
     "execution_count": 26,
     "metadata": {},
     "output_type": "execute_result"
    }
   ],
   "source": [
    "df.loc[df['Category'] == 'Electronics', ['Price']].nunique()"
   ]
  },
  {
   "cell_type": "markdown",
   "id": "0781a284",
   "metadata": {},
   "source": [
    "#### Are the units in which products sold always unique, or do some products share the same number of 'Units_Sold'? Use nunique() to determine this."
   ]
  },
  {
   "cell_type": "code",
   "execution_count": 27,
   "id": "d71200eb",
   "metadata": {},
   "outputs": [],
   "source": [
    "df1 = df.copy()"
   ]
  },
  {
   "cell_type": "code",
   "execution_count": 28,
   "id": "e8c10af4",
   "metadata": {},
   "outputs": [],
   "source": [
    "df1.loc[8, 'Units_Sold'] = 190 # to make one product duplicate"
   ]
  },
  {
   "cell_type": "code",
   "execution_count": 29,
   "id": "b32d8a47",
   "metadata": {},
   "outputs": [
    {
     "data": {
      "text/html": [
       "<div>\n",
       "<style scoped>\n",
       "    .dataframe tbody tr th:only-of-type {\n",
       "        vertical-align: middle;\n",
       "    }\n",
       "\n",
       "    .dataframe tbody tr th {\n",
       "        vertical-align: top;\n",
       "    }\n",
       "\n",
       "    .dataframe thead th {\n",
       "        text-align: right;\n",
       "    }\n",
       "</style>\n",
       "<table border=\"1\" class=\"dataframe\">\n",
       "  <thead>\n",
       "    <tr style=\"text-align: right;\">\n",
       "      <th></th>\n",
       "      <th>Product_ID</th>\n",
       "      <th>Product_Name</th>\n",
       "      <th>Category</th>\n",
       "      <th>Price</th>\n",
       "      <th>Units_Sold</th>\n",
       "    </tr>\n",
       "  </thead>\n",
       "  <tbody>\n",
       "    <tr>\n",
       "      <th>0</th>\n",
       "      <td>1</td>\n",
       "      <td>Toothpaste</td>\n",
       "      <td>Personal Care</td>\n",
       "      <td>5.0</td>\n",
       "      <td>100</td>\n",
       "    </tr>\n",
       "    <tr>\n",
       "      <th>1</th>\n",
       "      <td>2</td>\n",
       "      <td>Shampoo</td>\n",
       "      <td>Personal Care</td>\n",
       "      <td>10.0</td>\n",
       "      <td>50</td>\n",
       "    </tr>\n",
       "    <tr>\n",
       "      <th>2</th>\n",
       "      <td>3</td>\n",
       "      <td>Laptop</td>\n",
       "      <td>Electronics</td>\n",
       "      <td>1000.0</td>\n",
       "      <td>20</td>\n",
       "    </tr>\n",
       "    <tr>\n",
       "      <th>3</th>\n",
       "      <td>4</td>\n",
       "      <td>TV</td>\n",
       "      <td>Electronics</td>\n",
       "      <td>600.0</td>\n",
       "      <td>15</td>\n",
       "    </tr>\n",
       "    <tr>\n",
       "      <th>4</th>\n",
       "      <td>5</td>\n",
       "      <td>Coffee Maker</td>\n",
       "      <td>Kitchen Appliances</td>\n",
       "      <td>50.0</td>\n",
       "      <td>30</td>\n",
       "    </tr>\n",
       "    <tr>\n",
       "      <th>5</th>\n",
       "      <td>6</td>\n",
       "      <td>Blender</td>\n",
       "      <td>Kitchen Appliances</td>\n",
       "      <td>30.0</td>\n",
       "      <td>25</td>\n",
       "    </tr>\n",
       "    <tr>\n",
       "      <th>6</th>\n",
       "      <td>1</td>\n",
       "      <td>Toothpaste</td>\n",
       "      <td>Personal Care</td>\n",
       "      <td>5.0</td>\n",
       "      <td>110</td>\n",
       "    </tr>\n",
       "    <tr>\n",
       "      <th>7</th>\n",
       "      <td>2</td>\n",
       "      <td>Shampoo</td>\n",
       "      <td>Personal Care</td>\n",
       "      <td>10.0</td>\n",
       "      <td>55</td>\n",
       "    </tr>\n",
       "    <tr>\n",
       "      <th>8</th>\n",
       "      <td>3</td>\n",
       "      <td>Laptop</td>\n",
       "      <td>Electronics</td>\n",
       "      <td>1000.0</td>\n",
       "      <td>190</td>\n",
       "    </tr>\n",
       "    <tr>\n",
       "      <th>9</th>\n",
       "      <td>4</td>\n",
       "      <td>TV</td>\n",
       "      <td>Electronics</td>\n",
       "      <td>600.0</td>\n",
       "      <td>17</td>\n",
       "    </tr>\n",
       "  </tbody>\n",
       "</table>\n",
       "</div>"
      ],
      "text/plain": [
       "   Product_ID  Product_Name            Category   Price  Units_Sold\n",
       "0           1    Toothpaste       Personal Care     5.0         100\n",
       "1           2       Shampoo       Personal Care    10.0          50\n",
       "2           3        Laptop         Electronics  1000.0          20\n",
       "3           4            TV         Electronics   600.0          15\n",
       "4           5  Coffee Maker  Kitchen Appliances    50.0          30\n",
       "5           6       Blender  Kitchen Appliances    30.0          25\n",
       "6           1    Toothpaste       Personal Care     5.0         110\n",
       "7           2       Shampoo       Personal Care    10.0          55\n",
       "8           3        Laptop         Electronics  1000.0         190\n",
       "9           4            TV         Electronics   600.0          17"
      ]
     },
     "execution_count": 29,
     "metadata": {},
     "output_type": "execute_result"
    }
   ],
   "source": [
    "df1"
   ]
  },
  {
   "cell_type": "code",
   "execution_count": 30,
   "id": "8b6ceb76",
   "metadata": {},
   "outputs": [
    {
     "data": {
      "text/plain": [
       "Product_Name\n",
       "Blender          25\n",
       "Coffee Maker     30\n",
       "Laptop          210\n",
       "Shampoo         105\n",
       "TV               32\n",
       "Toothpaste      210\n",
       "Name: Units_Sold, dtype: int64"
      ]
     },
     "execution_count": 30,
     "metadata": {},
     "output_type": "execute_result"
    }
   ],
   "source": [
    "df1.groupby('Product_Name')['Units_Sold'].sum()"
   ]
  },
  {
   "cell_type": "code",
   "execution_count": 31,
   "id": "101433f8",
   "metadata": {},
   "outputs": [],
   "source": [
    "# Toothpaste and Laptop has same units sold"
   ]
  },
  {
   "cell_type": "code",
   "execution_count": 32,
   "id": "ea30ef64",
   "metadata": {},
   "outputs": [],
   "source": [
    "actual_items = len(df1.groupby('Product_Name')['Units_Sold'].sum())"
   ]
  },
  {
   "cell_type": "code",
   "execution_count": 33,
   "id": "08185545",
   "metadata": {},
   "outputs": [],
   "source": [
    "unique_items = df1.groupby('Product_Name')['Units_Sold'].sum().nunique()"
   ]
  },
  {
   "cell_type": "code",
   "execution_count": 34,
   "id": "8a236f72",
   "metadata": {},
   "outputs": [
    {
     "data": {
      "text/plain": [
       "(6, 5)"
      ]
     },
     "execution_count": 34,
     "metadata": {},
     "output_type": "execute_result"
    }
   ],
   "source": [
    "actual_items, unique_items"
   ]
  },
  {
   "cell_type": "markdown",
   "id": "9bba08df",
   "metadata": {},
   "source": [
    "#### How many unique 'Product_ID' are there for products in the 'Personal Care' category? Utilize nunique() for this."
   ]
  },
  {
   "cell_type": "code",
   "execution_count": 35,
   "id": "6a0a3a4e",
   "metadata": {},
   "outputs": [],
   "source": [
    "personal_care_prods = df.loc[df['Category'] == 'Personal Care', ['Product_Name']]"
   ]
  },
  {
   "cell_type": "code",
   "execution_count": 36,
   "id": "20527aeb",
   "metadata": {},
   "outputs": [
    {
     "data": {
      "text/html": [
       "<div>\n",
       "<style scoped>\n",
       "    .dataframe tbody tr th:only-of-type {\n",
       "        vertical-align: middle;\n",
       "    }\n",
       "\n",
       "    .dataframe tbody tr th {\n",
       "        vertical-align: top;\n",
       "    }\n",
       "\n",
       "    .dataframe thead th {\n",
       "        text-align: right;\n",
       "    }\n",
       "</style>\n",
       "<table border=\"1\" class=\"dataframe\">\n",
       "  <thead>\n",
       "    <tr style=\"text-align: right;\">\n",
       "      <th></th>\n",
       "      <th>Product_Name</th>\n",
       "    </tr>\n",
       "  </thead>\n",
       "  <tbody>\n",
       "    <tr>\n",
       "      <th>0</th>\n",
       "      <td>Toothpaste</td>\n",
       "    </tr>\n",
       "    <tr>\n",
       "      <th>1</th>\n",
       "      <td>Shampoo</td>\n",
       "    </tr>\n",
       "    <tr>\n",
       "      <th>6</th>\n",
       "      <td>Toothpaste</td>\n",
       "    </tr>\n",
       "    <tr>\n",
       "      <th>7</th>\n",
       "      <td>Shampoo</td>\n",
       "    </tr>\n",
       "  </tbody>\n",
       "</table>\n",
       "</div>"
      ],
      "text/plain": [
       "  Product_Name\n",
       "0   Toothpaste\n",
       "1      Shampoo\n",
       "6   Toothpaste\n",
       "7      Shampoo"
      ]
     },
     "execution_count": 36,
     "metadata": {},
     "output_type": "execute_result"
    }
   ],
   "source": [
    "personal_care_prods"
   ]
  },
  {
   "cell_type": "code",
   "execution_count": 37,
   "id": "7d643b3c",
   "metadata": {},
   "outputs": [
    {
     "data": {
      "text/plain": [
       "Product_Name    2\n",
       "dtype: int64"
      ]
     },
     "execution_count": 37,
     "metadata": {},
     "output_type": "execute_result"
    }
   ],
   "source": [
    "personal_care_prods.nunique()"
   ]
  },
  {
   "cell_type": "code",
   "execution_count": null,
   "id": "6b89e2b9",
   "metadata": {},
   "outputs": [],
   "source": []
  }
 ],
 "metadata": {
  "kernelspec": {
   "display_name": "Python 3 (ipykernel)",
   "language": "python",
   "name": "python3"
  },
  "language_info": {
   "codemirror_mode": {
    "name": "ipython",
    "version": 3
   },
   "file_extension": ".py",
   "mimetype": "text/x-python",
   "name": "python",
   "nbconvert_exporter": "python",
   "pygments_lexer": "ipython3",
   "version": "3.8.12"
  }
 },
 "nbformat": 4,
 "nbformat_minor": 5
}
